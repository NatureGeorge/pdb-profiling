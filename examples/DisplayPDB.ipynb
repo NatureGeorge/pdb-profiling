{
 "metadata": {
  "language_info": {
   "codemirror_mode": {
    "name": "ipython",
    "version": 3
   },
   "file_extension": ".py",
   "mimetype": "text/x-python",
   "name": "python",
   "nbconvert_exporter": "python",
   "pygments_lexer": "ipython3",
   "version": "3.7.1-final"
  },
  "orig_nbformat": 2,
  "kernelspec": {
   "name": "python_defaultSpec_1599470316388",
   "display_name": "Python 3.7.1 64-bit ('base': conda)"
  }
 },
 "nbformat": 4,
 "nbformat_minor": 2,
 "cells": [
  {
   "cell_type": "code",
   "execution_count": 1,
   "metadata": {},
   "outputs": [],
   "source": [
    "from pdb_profiling.utils import DisplayPDB"
   ]
  },
  {
   "cell_type": "code",
   "execution_count": 2,
   "metadata": {},
   "outputs": [
    {
     "output_type": "stream",
     "text": "\u001b[1;31mInit signature:\u001b[0m \u001b[0mDisplayPDB\u001b[0m\u001b[1;33m(\u001b[0m\u001b[0mpdb_id\u001b[0m\u001b[1;33m,\u001b[0m \u001b[0massemblies\u001b[0m\u001b[1;33m:\u001b[0m \u001b[0mIterable\u001b[0m\u001b[1;33m[\u001b[0m\u001b[0mint\u001b[0m\u001b[1;33m]\u001b[0m \u001b[1;33m=\u001b[0m \u001b[1;33m[\u001b[0m\u001b[1;36m1\u001b[0m\u001b[1;33m]\u001b[0m\u001b[1;33m)\u001b[0m\u001b[1;33m\u001b[0m\u001b[1;33m\u001b[0m\u001b[0m\n\u001b[1;31mDocstring:\u001b[0m      <no docstring>\n\u001b[1;31mFile:\u001b[0m           c:\\gitworks\\pdb-profiling\\pdb_profiling\\utils.py\n\u001b[1;31mType:\u001b[0m           type\n\u001b[1;31mSubclasses:\u001b[0m     \n"
    }
   ],
   "source": [
    "?DisplayPDB"
   ]
  },
  {
   "cell_type": "code",
   "execution_count": 3,
   "metadata": {},
   "outputs": [
    {
     "output_type": "display_data",
     "data": {
      "text/plain": "<IPython.core.display.HTML object>",
      "text/html": "\n        <table align=\"center\">\n            <tr>\n            \n                <td>\n                    <b>Asymmetric unit</b> of 1lo8\n                </td>\n    \n                <td>\n                    <b>Biological assembly 1</b> of 1lo8\n                </td>\n    \n            </tr>\n            <tr>\n            \n                <td>\n                    <img width=\"300em\" src=\"https://cdn.rcsb.org/images/structures/lo/1lo8/1lo8_model-1.jpeg\"/>\n                </td>\n    \n                <td>\n                    <img width=\"300em\" src=\"https://cdn.rcsb.org/images/structures/lo/1lo8/1lo8_assembly-1.jpeg\"/>\n                </td>\n    \n            </tr>\n        </table>\n        "
     },
     "metadata": {}
    },
    {
     "output_type": "execute_result",
     "data": {
      "text/plain": "<pdb_profiling.utils.DisplayPDB at 0x2668d59aba8>"
     },
     "metadata": {},
     "execution_count": 3
    }
   ],
   "source": [
    "DisplayPDB('1lo8')"
   ]
  },
  {
   "cell_type": "code",
   "execution_count": 4,
   "metadata": {},
   "outputs": [
    {
     "output_type": "display_data",
     "data": {
      "text/plain": "<IPython.core.display.HTML object>",
      "text/html": "\n        <table align=\"center\">\n            <tr>\n            \n                <td>\n                    <b>Asymmetric unit</b> of 2h7c\n                </td>\n    \n                <td>\n                    <b>Biological assembly 1</b> of 2h7c\n                </td>\n    \n                <td>\n                    <b>Biological assembly 2</b> of 2h7c\n                </td>\n    \n                <td>\n                    <b>Biological assembly 3</b> of 2h7c\n                </td>\n    \n                <td>\n                    <b>Biological assembly 4</b> of 2h7c\n                </td>\n    \n            </tr>\n            <tr>\n            \n                <td>\n                    <img width=\"300em\" src=\"https://cdn.rcsb.org/images/structures/h7/2h7c/2h7c_model-1.jpeg\"/>\n                </td>\n    \n                <td>\n                    <img width=\"300em\" src=\"https://cdn.rcsb.org/images/structures/h7/2h7c/2h7c_assembly-1.jpeg\"/>\n                </td>\n    \n                <td>\n                    <img width=\"300em\" src=\"https://cdn.rcsb.org/images/structures/h7/2h7c/2h7c_assembly-2.jpeg\"/>\n                </td>\n    \n                <td>\n                    <img width=\"300em\" src=\"https://cdn.rcsb.org/images/structures/h7/2h7c/2h7c_assembly-3.jpeg\"/>\n                </td>\n    \n                <td>\n                    <img width=\"300em\" src=\"https://cdn.rcsb.org/images/structures/h7/2h7c/2h7c_assembly-4.jpeg\"/>\n                </td>\n    \n            </tr>\n        </table>\n        "
     },
     "metadata": {}
    },
    {
     "output_type": "execute_result",
     "data": {
      "text/plain": "<pdb_profiling.utils.DisplayPDB at 0x2668d59aef0>"
     },
     "metadata": {},
     "execution_count": 4
    }
   ],
   "source": [
    "DisplayPDB('2h7c', [1,2,3,4])"
   ]
  },
  {
   "cell_type": "code",
   "execution_count": 5,
   "metadata": {},
   "outputs": [
    {
     "output_type": "display_data",
     "data": {
      "text/plain": "<IPython.core.display.HTML object>",
      "text/html": "\n        <table align=\"center\">\n            <tr>\n            \n                <td>\n                    <b>Asymmetric unit</b> of 1m4x\n                </td>\n    \n                <td>\n                    <b>Biological assembly 1</b> of 1m4x\n                </td>\n    \n                <td>\n                    <b>Biological assembly 2</b> of 1m4x\n                </td>\n    \n                <td>\n                    <b>Biological assembly 3</b> of 1m4x\n                </td>\n    \n                <td>\n                    <b>Biological assembly 4</b> of 1m4x\n                </td>\n    \n                <td>\n                    <b>Biological assembly 5</b> of 1m4x\n                </td>\n    \n                <td>\n                    <b>Biological assembly 6</b> of 1m4x\n                </td>\n    \n                <td>\n                    <b>Biological assembly 7</b> of 1m4x\n                </td>\n    \n            </tr>\n            <tr>\n            \n                <td>\n                    <img width=\"300em\" src=\"https://cdn.rcsb.org/images/structures/m4/1m4x/1m4x_model-1.jpeg\"/>\n                </td>\n    \n                <td>\n                    <img width=\"300em\" src=\"https://cdn.rcsb.org/images/structures/m4/1m4x/1m4x_assembly-1.jpeg\"/>\n                </td>\n    \n                <td>\n                    <img width=\"300em\" src=\"https://cdn.rcsb.org/images/structures/m4/1m4x/1m4x_assembly-2.jpeg\"/>\n                </td>\n    \n                <td>\n                    <img width=\"300em\" src=\"https://cdn.rcsb.org/images/structures/m4/1m4x/1m4x_assembly-3.jpeg\"/>\n                </td>\n    \n                <td>\n                    <img width=\"300em\" src=\"https://cdn.rcsb.org/images/structures/m4/1m4x/1m4x_assembly-4.jpeg\"/>\n                </td>\n    \n                <td>\n                    <img width=\"300em\" src=\"https://cdn.rcsb.org/images/structures/m4/1m4x/1m4x_assembly-5.jpeg\"/>\n                </td>\n    \n                <td>\n                    <img width=\"300em\" src=\"https://cdn.rcsb.org/images/structures/m4/1m4x/1m4x_assembly-6.jpeg\"/>\n                </td>\n    \n                <td>\n                    <img width=\"300em\" src=\"https://cdn.rcsb.org/images/structures/m4/1m4x/1m4x_assembly-7.jpeg\"/>\n                </td>\n    \n            </tr>\n        </table>\n        "
     },
     "metadata": {}
    },
    {
     "output_type": "execute_result",
     "data": {
      "text/plain": "<pdb_profiling.utils.DisplayPDB at 0x2668c593518>"
     },
     "metadata": {},
     "execution_count": 5
    }
   ],
   "source": [
    "DisplayPDB('1m4x', [1,2,3,4,5,6,7])"
   ]
  },
  {
   "cell_type": "code",
   "execution_count": null,
   "metadata": {},
   "outputs": [],
   "source": []
  }
 ]
}