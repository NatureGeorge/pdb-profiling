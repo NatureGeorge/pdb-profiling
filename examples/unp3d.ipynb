{
 "metadata": {
  "language_info": {
   "codemirror_mode": {
    "name": "ipython",
    "version": 3
   },
   "file_extension": ".py",
   "mimetype": "text/x-python",
   "name": "python",
   "nbconvert_exporter": "python",
   "pygments_lexer": "ipython3",
   "version": "3.7.1-final"
  },
  "orig_nbformat": 2,
  "kernelspec": {
   "name": "Python 3.7.1 64-bit ('base': conda)",
   "display_name": "Python 3.7.1 64-bit ('base': conda)",
   "metadata": {
    "interpreter": {
     "hash": "2266c607543d224cb119288ea55888d6fda87cc9a4c78c02ed099d39082a76ce"
    }
   }
  }
 },
 "nbformat": 4,
 "nbformat_minor": 2,
 "cells": [
  {
   "source": [
    "![cover](https://user-images.githubusercontent.com/43134199/95018149-58cfc200-0690-11eb-9e64-760faec5130f.png)\n",
    "\n",
    "```bash\n",
    "pip install pdb-profiling\n",
    "```"
   ],
   "cell_type": "markdown",
   "metadata": {}
  },
  {
   "source": [
    "## Load Modules"
   ],
   "cell_type": "markdown",
   "metadata": {}
  },
  {
   "cell_type": "code",
   "execution_count": 1,
   "metadata": {},
   "outputs": [],
   "source": [
    "from pdb_profiling import default_config\n",
    "\n",
    "your_output_folder = \"C:/GitWorks/pdb-profiling/test/demo\"\n",
    "\n",
    "default_config(your_output_folder)"
   ]
  },
  {
   "cell_type": "code",
   "execution_count": 2,
   "metadata": {},
   "outputs": [],
   "source": [
    "from pdb_profiling.processors import SIFTS, SIFTSs, PDB, PDBs\n",
    "from pdb_profiling.utils import DisplayPDB"
   ]
  },
  {
   "cell_type": "code",
   "execution_count": 3,
   "metadata": {},
   "outputs": [],
   "source": [
    "SIFTS.chain_filter, SIFTS.entry_filter = '', ''"
   ]
  },
  {
   "source": [
    "## Demo UniProt"
   ],
   "cell_type": "markdown",
   "metadata": {}
  },
  {
   "cell_type": "code",
   "execution_count": 4,
   "metadata": {},
   "outputs": [],
   "source": [
    "demo = SIFTS('O15350')"
   ]
  },
  {
   "source": [
    "## Monomeric Protein"
   ],
   "cell_type": "markdown",
   "metadata": {}
  },
  {
   "cell_type": "code",
   "execution_count": 5,
   "metadata": {},
   "outputs": [
    {
     "output_type": "execute_result",
     "data": {
      "text/plain": [
       "    UniProt chain_id  entity_id  identity  is_canonical pdb_id struct_asym_id  \\\n",
       "0    O15350        A          1      0.99          True   3vd2              A   \n",
       "1    O15350        B          1      0.99          True   3vd2              B   \n",
       "2    O15350        C          1      0.99          True   3vd2              C   \n",
       "3    O15350        D          1      0.99          True   3vd2              D   \n",
       "4    O15350        I          1      0.99          True   3vd2              E   \n",
       "..      ...      ...        ...       ...           ...    ...            ...   \n",
       "109  O15350        F          1      0.92          True   5hob              F   \n",
       "110  O15350        G          1      0.92          True   5hob              G   \n",
       "111  O15350        H          1      0.92          True   5hob              H   \n",
       "112  O15350        A          1      0.92          True   5hoc              A   \n",
       "113  O15350        B          1      0.92          True   5hoc              B   \n",
       "\n",
       "      pdb_range    unp_range   Entry  ... experimental_method_class  \\\n",
       "0    [[13,210]]  [[115,312]]  O15350  ...                     x-ray   \n",
       "1    [[13,210]]  [[115,312]]  O15350  ...                     x-ray   \n",
       "2    [[13,210]]  [[115,312]]  O15350  ...                     x-ray   \n",
       "3    [[13,210]]  [[115,312]]  O15350  ...                     x-ray   \n",
       "4    [[13,210]]  [[115,312]]  O15350  ...                     x-ray   \n",
       "..          ...          ...     ...  ...                       ...   \n",
       "109    [[3,50]]  [[351,398]]  O15350  ...                     x-ray   \n",
       "110    [[3,50]]  [[351,398]]  O15350  ...                     x-ray   \n",
       "111    [[3,50]]  [[351,398]]  O15350  ...                     x-ray   \n",
       "112    [[3,50]]  [[351,398]]  O15350  ...                     x-ray   \n",
       "113    [[3,50]]  [[351,398]]  O15350  ...                     x-ray   \n",
       "\n",
       "    experimental_method  multi_method  revision_date  deposition_date  \\\n",
       "0     X-ray diffraction         False       20120725         20120104   \n",
       "1     X-ray diffraction         False       20120725         20120104   \n",
       "2     X-ray diffraction         False       20120725         20120104   \n",
       "3     X-ray diffraction         False       20120725         20120104   \n",
       "4     X-ray diffraction         False       20120725         20120104   \n",
       "..                  ...           ...            ...              ...   \n",
       "109   X-ray diffraction         False       20161019         20160119   \n",
       "110   X-ray diffraction         False       20161019         20160119   \n",
       "111   X-ray diffraction         False       20161019         20160119   \n",
       "112   X-ray diffraction         False       20161130         20160119   \n",
       "113   X-ray diffraction         False       20161130         20160119   \n",
       "\n",
       "    1/resolution id_score COV_SCORE  select_tag  select_rank  \n",
       "0       0.250000      -65  0.532764       False           28  \n",
       "1       0.250000      -66  0.524813       False           36  \n",
       "2       0.250000      -67  0.532764       False           29  \n",
       "3       0.250000      -68  0.516862       False           41  \n",
       "4       0.250000      -73  0.532764       False           30  \n",
       "..           ...      ...       ...         ...          ...  \n",
       "109     0.819663      -70  0.099251       False           64  \n",
       "110     0.819663      -71  0.128801       False           53  \n",
       "111     0.819663      -72  0.104949       False           59  \n",
       "112     0.735252      -65  0.104949       False           60  \n",
       "113     0.735252      -66  0.104949       False           61  \n",
       "\n",
       "[114 rows x 48 columns]"
      ],
      "text/html": "<div>\n<style scoped>\n    .dataframe tbody tr th:only-of-type {\n        vertical-align: middle;\n    }\n\n    .dataframe tbody tr th {\n        vertical-align: top;\n    }\n\n    .dataframe thead th {\n        text-align: right;\n    }\n</style>\n<table border=\"1\" class=\"dataframe\">\n  <thead>\n    <tr style=\"text-align: right;\">\n      <th></th>\n      <th>UniProt</th>\n      <th>chain_id</th>\n      <th>entity_id</th>\n      <th>identity</th>\n      <th>is_canonical</th>\n      <th>pdb_id</th>\n      <th>struct_asym_id</th>\n      <th>pdb_range</th>\n      <th>unp_range</th>\n      <th>Entry</th>\n      <th>...</th>\n      <th>experimental_method_class</th>\n      <th>experimental_method</th>\n      <th>multi_method</th>\n      <th>revision_date</th>\n      <th>deposition_date</th>\n      <th>1/resolution</th>\n      <th>id_score</th>\n      <th>COV_SCORE</th>\n      <th>select_tag</th>\n      <th>select_rank</th>\n    </tr>\n  </thead>\n  <tbody>\n    <tr>\n      <th>0</th>\n      <td>O15350</td>\n      <td>A</td>\n      <td>1</td>\n      <td>0.99</td>\n      <td>True</td>\n      <td>3vd2</td>\n      <td>A</td>\n      <td>[[13,210]]</td>\n      <td>[[115,312]]</td>\n      <td>O15350</td>\n      <td>...</td>\n      <td>x-ray</td>\n      <td>X-ray diffraction</td>\n      <td>False</td>\n      <td>20120725</td>\n      <td>20120104</td>\n      <td>0.250000</td>\n      <td>-65</td>\n      <td>0.532764</td>\n      <td>False</td>\n      <td>28</td>\n    </tr>\n    <tr>\n      <th>1</th>\n      <td>O15350</td>\n      <td>B</td>\n      <td>1</td>\n      <td>0.99</td>\n      <td>True</td>\n      <td>3vd2</td>\n      <td>B</td>\n      <td>[[13,210]]</td>\n      <td>[[115,312]]</td>\n      <td>O15350</td>\n      <td>...</td>\n      <td>x-ray</td>\n      <td>X-ray diffraction</td>\n      <td>False</td>\n      <td>20120725</td>\n      <td>20120104</td>\n      <td>0.250000</td>\n      <td>-66</td>\n      <td>0.524813</td>\n      <td>False</td>\n      <td>36</td>\n    </tr>\n    <tr>\n      <th>2</th>\n      <td>O15350</td>\n      <td>C</td>\n      <td>1</td>\n      <td>0.99</td>\n      <td>True</td>\n      <td>3vd2</td>\n      <td>C</td>\n      <td>[[13,210]]</td>\n      <td>[[115,312]]</td>\n      <td>O15350</td>\n      <td>...</td>\n      <td>x-ray</td>\n      <td>X-ray diffraction</td>\n      <td>False</td>\n      <td>20120725</td>\n      <td>20120104</td>\n      <td>0.250000</td>\n      <td>-67</td>\n      <td>0.532764</td>\n      <td>False</td>\n      <td>29</td>\n    </tr>\n    <tr>\n      <th>3</th>\n      <td>O15350</td>\n      <td>D</td>\n      <td>1</td>\n      <td>0.99</td>\n      <td>True</td>\n      <td>3vd2</td>\n      <td>D</td>\n      <td>[[13,210]]</td>\n      <td>[[115,312]]</td>\n      <td>O15350</td>\n      <td>...</td>\n      <td>x-ray</td>\n      <td>X-ray diffraction</td>\n      <td>False</td>\n      <td>20120725</td>\n      <td>20120104</td>\n      <td>0.250000</td>\n      <td>-68</td>\n      <td>0.516862</td>\n      <td>False</td>\n      <td>41</td>\n    </tr>\n    <tr>\n      <th>4</th>\n      <td>O15350</td>\n      <td>I</td>\n      <td>1</td>\n      <td>0.99</td>\n      <td>True</td>\n      <td>3vd2</td>\n      <td>E</td>\n      <td>[[13,210]]</td>\n      <td>[[115,312]]</td>\n      <td>O15350</td>\n      <td>...</td>\n      <td>x-ray</td>\n      <td>X-ray diffraction</td>\n      <td>False</td>\n      <td>20120725</td>\n      <td>20120104</td>\n      <td>0.250000</td>\n      <td>-73</td>\n      <td>0.532764</td>\n      <td>False</td>\n      <td>30</td>\n    </tr>\n    <tr>\n      <th>...</th>\n      <td>...</td>\n      <td>...</td>\n      <td>...</td>\n      <td>...</td>\n      <td>...</td>\n      <td>...</td>\n      <td>...</td>\n      <td>...</td>\n      <td>...</td>\n      <td>...</td>\n      <td>...</td>\n      <td>...</td>\n      <td>...</td>\n      <td>...</td>\n      <td>...</td>\n      <td>...</td>\n      <td>...</td>\n      <td>...</td>\n      <td>...</td>\n      <td>...</td>\n      <td>...</td>\n    </tr>\n    <tr>\n      <th>109</th>\n      <td>O15350</td>\n      <td>F</td>\n      <td>1</td>\n      <td>0.92</td>\n      <td>True</td>\n      <td>5hob</td>\n      <td>F</td>\n      <td>[[3,50]]</td>\n      <td>[[351,398]]</td>\n      <td>O15350</td>\n      <td>...</td>\n      <td>x-ray</td>\n      <td>X-ray diffraction</td>\n      <td>False</td>\n      <td>20161019</td>\n      <td>20160119</td>\n      <td>0.819663</td>\n      <td>-70</td>\n      <td>0.099251</td>\n      <td>False</td>\n      <td>64</td>\n    </tr>\n    <tr>\n      <th>110</th>\n      <td>O15350</td>\n      <td>G</td>\n      <td>1</td>\n      <td>0.92</td>\n      <td>True</td>\n      <td>5hob</td>\n      <td>G</td>\n      <td>[[3,50]]</td>\n      <td>[[351,398]]</td>\n      <td>O15350</td>\n      <td>...</td>\n      <td>x-ray</td>\n      <td>X-ray diffraction</td>\n      <td>False</td>\n      <td>20161019</td>\n      <td>20160119</td>\n      <td>0.819663</td>\n      <td>-71</td>\n      <td>0.128801</td>\n      <td>False</td>\n      <td>53</td>\n    </tr>\n    <tr>\n      <th>111</th>\n      <td>O15350</td>\n      <td>H</td>\n      <td>1</td>\n      <td>0.92</td>\n      <td>True</td>\n      <td>5hob</td>\n      <td>H</td>\n      <td>[[3,50]]</td>\n      <td>[[351,398]]</td>\n      <td>O15350</td>\n      <td>...</td>\n      <td>x-ray</td>\n      <td>X-ray diffraction</td>\n      <td>False</td>\n      <td>20161019</td>\n      <td>20160119</td>\n      <td>0.819663</td>\n      <td>-72</td>\n      <td>0.104949</td>\n      <td>False</td>\n      <td>59</td>\n    </tr>\n    <tr>\n      <th>112</th>\n      <td>O15350</td>\n      <td>A</td>\n      <td>1</td>\n      <td>0.92</td>\n      <td>True</td>\n      <td>5hoc</td>\n      <td>A</td>\n      <td>[[3,50]]</td>\n      <td>[[351,398]]</td>\n      <td>O15350</td>\n      <td>...</td>\n      <td>x-ray</td>\n      <td>X-ray diffraction</td>\n      <td>False</td>\n      <td>20161130</td>\n      <td>20160119</td>\n      <td>0.735252</td>\n      <td>-65</td>\n      <td>0.104949</td>\n      <td>False</td>\n      <td>60</td>\n    </tr>\n    <tr>\n      <th>113</th>\n      <td>O15350</td>\n      <td>B</td>\n      <td>1</td>\n      <td>0.92</td>\n      <td>True</td>\n      <td>5hoc</td>\n      <td>B</td>\n      <td>[[3,50]]</td>\n      <td>[[351,398]]</td>\n      <td>O15350</td>\n      <td>...</td>\n      <td>x-ray</td>\n      <td>X-ray diffraction</td>\n      <td>False</td>\n      <td>20161130</td>\n      <td>20160119</td>\n      <td>0.735252</td>\n      <td>-66</td>\n      <td>0.104949</td>\n      <td>False</td>\n      <td>61</td>\n    </tr>\n  </tbody>\n</table>\n<p>114 rows × 48 columns</p>\n</div>"
     },
     "metadata": {},
     "execution_count": 5
    }
   ],
   "source": [
    "df1 = demo.pipe_select_mo().result()\n",
    "df1"
   ]
  },
  {
   "source": [
    "## Prepare `Interactome3D` MetaData"
   ],
   "cell_type": "markdown",
   "metadata": {}
  },
  {
   "cell_type": "code",
   "execution_count": 6,
   "metadata": {},
   "outputs": [],
   "source": [
    "# Only need to run once\n",
    "from pdb_profiling.processors.i3d.api import Interactome3D\n",
    "\n",
    "Interactome3D.pipe_init_interaction_meta().result()"
   ]
  },
  {
   "source": [
    "## Homomeric Protein\n",
    "\n",
    "> Interaction metadata comes from `Interactome3D`"
   ],
   "cell_type": "markdown",
   "metadata": {}
  },
  {
   "cell_type": "code",
   "execution_count": 7,
   "metadata": {},
   "outputs": [
    {
     "output_type": "execute_result",
     "data": {
      "text/plain": [
       "    pdb_id Entry_1 Entry_2  assembly_id  model_id_1 chain_id_1  model_id_2  \\\n",
       "0     5hob  O15350  O15350            2           1          E           1   \n",
       "1     5hob  O15350  O15350            2           1          E           1   \n",
       "2     5hob  O15350  O15350            2           1          E           1   \n",
       "3     5hob  O15350  O15350            2           1          G           1   \n",
       "4     5hob  O15350  O15350            2           1          F           1   \n",
       "..     ...     ...     ...          ...         ...        ...         ...   \n",
       "117   2kby  O15350  O15350            0           1          A           1   \n",
       "118   2kby  O15350  O15350            0           1          B           1   \n",
       "119   2kby  O15350  O15350            0           1          C           1   \n",
       "120   2kby  O15350  O15350            0           1          B           1   \n",
       "121   2nb1  O15350  O15350            1           1          B           1   \n",
       "\n",
       "    chain_id_2 organism interaction_type  ... deposition_date_2  \\\n",
       "0            G    human               ho  ...          20160119   \n",
       "1            H    human               ho  ...          20160119   \n",
       "2            F    human               ho  ...          20160119   \n",
       "3            H    human               ho  ...          20160119   \n",
       "4            G    human               ho  ...          20160119   \n",
       "..         ...      ...              ...  ...               ...   \n",
       "117          D    human               ho  ...          20081212   \n",
       "118          C    human               ho  ...          20081212   \n",
       "119          D    human               ho  ...          20081212   \n",
       "120          D    human               ho  ...          20081212   \n",
       "121          D    human               ho  ...          20160119   \n",
       "\n",
       "     1/resolution_2  id_score_2  COV_SCORE_2 select_tag_2 select_rank_2  \\\n",
       "0          0.819663         -71     0.128801        False            53   \n",
       "1          0.819663         -72     0.104949        False            59   \n",
       "2          0.819663         -70     0.099251        False            64   \n",
       "3          0.819663         -72     0.104949        False            59   \n",
       "4          0.819663         -71     0.128801        False            53   \n",
       "..              ...         ...          ...          ...           ...   \n",
       "117             NaN         -68     0.136752        False            52   \n",
       "118             NaN         -67     0.136752        False            51   \n",
       "119             NaN         -68     0.136752        False            52   \n",
       "120             NaN         -68     0.136752        False            52   \n",
       "121             NaN         -68     0.136752        False            48   \n",
       "\n",
       "    best_select_rank unp_range_DSC i_select_tag  i_select_rank  \n",
       "0                 53           1.0        False             72  \n",
       "1                 55           1.0        False             68  \n",
       "2                 55           1.0        False             67  \n",
       "3                 53           1.0        False             74  \n",
       "4                 53           1.0        False             73  \n",
       "..               ...           ...          ...            ...  \n",
       "117               49           1.0        False             78  \n",
       "118               50           1.0        False             77  \n",
       "119               51           1.0        False             75  \n",
       "120               50           1.0        False             76  \n",
       "121               47           1.0        False             81  \n",
       "\n",
       "[122 rows x 104 columns]"
      ],
      "text/html": "<div>\n<style scoped>\n    .dataframe tbody tr th:only-of-type {\n        vertical-align: middle;\n    }\n\n    .dataframe tbody tr th {\n        vertical-align: top;\n    }\n\n    .dataframe thead th {\n        text-align: right;\n    }\n</style>\n<table border=\"1\" class=\"dataframe\">\n  <thead>\n    <tr style=\"text-align: right;\">\n      <th></th>\n      <th>pdb_id</th>\n      <th>Entry_1</th>\n      <th>Entry_2</th>\n      <th>assembly_id</th>\n      <th>model_id_1</th>\n      <th>chain_id_1</th>\n      <th>model_id_2</th>\n      <th>chain_id_2</th>\n      <th>organism</th>\n      <th>interaction_type</th>\n      <th>...</th>\n      <th>deposition_date_2</th>\n      <th>1/resolution_2</th>\n      <th>id_score_2</th>\n      <th>COV_SCORE_2</th>\n      <th>select_tag_2</th>\n      <th>select_rank_2</th>\n      <th>best_select_rank</th>\n      <th>unp_range_DSC</th>\n      <th>i_select_tag</th>\n      <th>i_select_rank</th>\n    </tr>\n  </thead>\n  <tbody>\n    <tr>\n      <th>0</th>\n      <td>5hob</td>\n      <td>O15350</td>\n      <td>O15350</td>\n      <td>2</td>\n      <td>1</td>\n      <td>E</td>\n      <td>1</td>\n      <td>G</td>\n      <td>human</td>\n      <td>ho</td>\n      <td>...</td>\n      <td>20160119</td>\n      <td>0.819663</td>\n      <td>-71</td>\n      <td>0.128801</td>\n      <td>False</td>\n      <td>53</td>\n      <td>53</td>\n      <td>1.0</td>\n      <td>False</td>\n      <td>72</td>\n    </tr>\n    <tr>\n      <th>1</th>\n      <td>5hob</td>\n      <td>O15350</td>\n      <td>O15350</td>\n      <td>2</td>\n      <td>1</td>\n      <td>E</td>\n      <td>1</td>\n      <td>H</td>\n      <td>human</td>\n      <td>ho</td>\n      <td>...</td>\n      <td>20160119</td>\n      <td>0.819663</td>\n      <td>-72</td>\n      <td>0.104949</td>\n      <td>False</td>\n      <td>59</td>\n      <td>55</td>\n      <td>1.0</td>\n      <td>False</td>\n      <td>68</td>\n    </tr>\n    <tr>\n      <th>2</th>\n      <td>5hob</td>\n      <td>O15350</td>\n      <td>O15350</td>\n      <td>2</td>\n      <td>1</td>\n      <td>E</td>\n      <td>1</td>\n      <td>F</td>\n      <td>human</td>\n      <td>ho</td>\n      <td>...</td>\n      <td>20160119</td>\n      <td>0.819663</td>\n      <td>-70</td>\n      <td>0.099251</td>\n      <td>False</td>\n      <td>64</td>\n      <td>55</td>\n      <td>1.0</td>\n      <td>False</td>\n      <td>67</td>\n    </tr>\n    <tr>\n      <th>3</th>\n      <td>5hob</td>\n      <td>O15350</td>\n      <td>O15350</td>\n      <td>2</td>\n      <td>1</td>\n      <td>G</td>\n      <td>1</td>\n      <td>H</td>\n      <td>human</td>\n      <td>ho</td>\n      <td>...</td>\n      <td>20160119</td>\n      <td>0.819663</td>\n      <td>-72</td>\n      <td>0.104949</td>\n      <td>False</td>\n      <td>59</td>\n      <td>53</td>\n      <td>1.0</td>\n      <td>False</td>\n      <td>74</td>\n    </tr>\n    <tr>\n      <th>4</th>\n      <td>5hob</td>\n      <td>O15350</td>\n      <td>O15350</td>\n      <td>2</td>\n      <td>1</td>\n      <td>F</td>\n      <td>1</td>\n      <td>G</td>\n      <td>human</td>\n      <td>ho</td>\n      <td>...</td>\n      <td>20160119</td>\n      <td>0.819663</td>\n      <td>-71</td>\n      <td>0.128801</td>\n      <td>False</td>\n      <td>53</td>\n      <td>53</td>\n      <td>1.0</td>\n      <td>False</td>\n      <td>73</td>\n    </tr>\n    <tr>\n      <th>...</th>\n      <td>...</td>\n      <td>...</td>\n      <td>...</td>\n      <td>...</td>\n      <td>...</td>\n      <td>...</td>\n      <td>...</td>\n      <td>...</td>\n      <td>...</td>\n      <td>...</td>\n      <td>...</td>\n      <td>...</td>\n      <td>...</td>\n      <td>...</td>\n      <td>...</td>\n      <td>...</td>\n      <td>...</td>\n      <td>...</td>\n      <td>...</td>\n      <td>...</td>\n      <td>...</td>\n    </tr>\n    <tr>\n      <th>117</th>\n      <td>2kby</td>\n      <td>O15350</td>\n      <td>O15350</td>\n      <td>0</td>\n      <td>1</td>\n      <td>A</td>\n      <td>1</td>\n      <td>D</td>\n      <td>human</td>\n      <td>ho</td>\n      <td>...</td>\n      <td>20081212</td>\n      <td>NaN</td>\n      <td>-68</td>\n      <td>0.136752</td>\n      <td>False</td>\n      <td>52</td>\n      <td>49</td>\n      <td>1.0</td>\n      <td>False</td>\n      <td>78</td>\n    </tr>\n    <tr>\n      <th>118</th>\n      <td>2kby</td>\n      <td>O15350</td>\n      <td>O15350</td>\n      <td>0</td>\n      <td>1</td>\n      <td>B</td>\n      <td>1</td>\n      <td>C</td>\n      <td>human</td>\n      <td>ho</td>\n      <td>...</td>\n      <td>20081212</td>\n      <td>NaN</td>\n      <td>-67</td>\n      <td>0.136752</td>\n      <td>False</td>\n      <td>51</td>\n      <td>50</td>\n      <td>1.0</td>\n      <td>False</td>\n      <td>77</td>\n    </tr>\n    <tr>\n      <th>119</th>\n      <td>2kby</td>\n      <td>O15350</td>\n      <td>O15350</td>\n      <td>0</td>\n      <td>1</td>\n      <td>C</td>\n      <td>1</td>\n      <td>D</td>\n      <td>human</td>\n      <td>ho</td>\n      <td>...</td>\n      <td>20081212</td>\n      <td>NaN</td>\n      <td>-68</td>\n      <td>0.136752</td>\n      <td>False</td>\n      <td>52</td>\n      <td>51</td>\n      <td>1.0</td>\n      <td>False</td>\n      <td>75</td>\n    </tr>\n    <tr>\n      <th>120</th>\n      <td>2kby</td>\n      <td>O15350</td>\n      <td>O15350</td>\n      <td>0</td>\n      <td>1</td>\n      <td>B</td>\n      <td>1</td>\n      <td>D</td>\n      <td>human</td>\n      <td>ho</td>\n      <td>...</td>\n      <td>20081212</td>\n      <td>NaN</td>\n      <td>-68</td>\n      <td>0.136752</td>\n      <td>False</td>\n      <td>52</td>\n      <td>50</td>\n      <td>1.0</td>\n      <td>False</td>\n      <td>76</td>\n    </tr>\n    <tr>\n      <th>121</th>\n      <td>2nb1</td>\n      <td>O15350</td>\n      <td>O15350</td>\n      <td>1</td>\n      <td>1</td>\n      <td>B</td>\n      <td>1</td>\n      <td>D</td>\n      <td>human</td>\n      <td>ho</td>\n      <td>...</td>\n      <td>20160119</td>\n      <td>NaN</td>\n      <td>-68</td>\n      <td>0.136752</td>\n      <td>False</td>\n      <td>48</td>\n      <td>47</td>\n      <td>1.0</td>\n      <td>False</td>\n      <td>81</td>\n    </tr>\n  </tbody>\n</table>\n<p>122 rows × 104 columns</p>\n</div>"
     },
     "metadata": {},
     "execution_count": 7
    }
   ],
   "source": [
    "df2 = demo.pipe_select_ho().result()\n",
    "df2"
   ]
  },
  {
   "source": [
    "## Heteromeric Protein\n",
    "\n",
    "> Interaction metadata comes from `Interactome3D`"
   ],
   "cell_type": "markdown",
   "metadata": {}
  },
  {
   "cell_type": "code",
   "execution_count": 8,
   "metadata": {},
   "outputs": [
    {
     "output_type": "execute_result",
     "data": {
      "text/plain": [
       "   pdb_id Entry_1 Entry_2  assembly_id  model_id_1 chain_id_1  model_id_2  \\\n",
       "0    2mps  Q00987  O15350            1           1          A           1   \n",
       "1    2mps  Q00987  O15350            1           1          A           1   \n",
       "2    2mps  Q00987  O15350            1           1          A           1   \n",
       "3    2mps  Q00987  O15350            1           1          A           1   \n",
       "4    2mps  Q00987  O15350            1           1          A           1   \n",
       "..    ...     ...     ...          ...         ...        ...         ...   \n",
       "60   2nb1  Q9H3D4  O15350            1           1          A           1   \n",
       "61   2nb1  Q9H3D4  O15350            1           1          A           1   \n",
       "62   2nb1  Q9H3D4  O15350            1           1          A           1   \n",
       "63   2nb1  Q9H3D4  O15350            1           1          A           1   \n",
       "64   2nb1  Q9H3D4  O15350            1           1          A           1   \n",
       "\n",
       "   chain_id_2 organism interaction_type  ... deposition_date_2  \\\n",
       "0           B    human               he  ...          20140602   \n",
       "1           B    human               he  ...          20140602   \n",
       "2           B    human               he  ...          20140602   \n",
       "3           B    human               he  ...          20140602   \n",
       "4           B    human               he  ...          20140602   \n",
       "..        ...      ...              ...  ...               ...   \n",
       "60          B    human               he  ...          20160119   \n",
       "61          B    human               he  ...          20160119   \n",
       "62          B    human               he  ...          20160119   \n",
       "63          B    human               he  ...          20160119   \n",
       "64          B    human               he  ...          20160119   \n",
       "\n",
       "    1/resolution_2 id_score_2  COV_SCORE_2  select_tag_2 select_rank_2  \\\n",
       "0              NaN        -66     0.015686         False           108   \n",
       "1              NaN        -66     0.015686         False           108   \n",
       "2              NaN        -66     0.015686         False           108   \n",
       "3              NaN        -66     0.015686         False           108   \n",
       "4              NaN        -66     0.015686         False           108   \n",
       "..             ...        ...          ...           ...           ...   \n",
       "60             NaN        -66     0.047059          True            47   \n",
       "61             NaN        -66     0.047059          True            47   \n",
       "62             NaN        -66     0.047059          True            47   \n",
       "63             NaN        -66     0.047059          True            47   \n",
       "64             NaN        -66     0.047059          True            47   \n",
       "\n",
       "   best_select_rank i_select_tag i_select_rank           i_group  \n",
       "0                 1        False             2  (O15350, Q00987)  \n",
       "1                 1        False             4  (O15350, Q00987)  \n",
       "2                -1        False            -1  (O15350, Q00987)  \n",
       "3                 1         True             1  (O15350, Q00987)  \n",
       "4                -1        False            -1  (O15350, Q00987)  \n",
       "..              ...          ...           ...               ...  \n",
       "60                1        False             3  (O15350, Q9H3D4)  \n",
       "61                1        False             9  (O15350, Q9H3D4)  \n",
       "62                1        False             5  (O15350, Q9H3D4)  \n",
       "63                1        False            11  (O15350, Q9H3D4)  \n",
       "64                1         True             1  (O15350, Q9H3D4)  \n",
       "\n",
       "[65 rows x 108 columns]"
      ],
      "text/html": "<div>\n<style scoped>\n    .dataframe tbody tr th:only-of-type {\n        vertical-align: middle;\n    }\n\n    .dataframe tbody tr th {\n        vertical-align: top;\n    }\n\n    .dataframe thead th {\n        text-align: right;\n    }\n</style>\n<table border=\"1\" class=\"dataframe\">\n  <thead>\n    <tr style=\"text-align: right;\">\n      <th></th>\n      <th>pdb_id</th>\n      <th>Entry_1</th>\n      <th>Entry_2</th>\n      <th>assembly_id</th>\n      <th>model_id_1</th>\n      <th>chain_id_1</th>\n      <th>model_id_2</th>\n      <th>chain_id_2</th>\n      <th>organism</th>\n      <th>interaction_type</th>\n      <th>...</th>\n      <th>deposition_date_2</th>\n      <th>1/resolution_2</th>\n      <th>id_score_2</th>\n      <th>COV_SCORE_2</th>\n      <th>select_tag_2</th>\n      <th>select_rank_2</th>\n      <th>best_select_rank</th>\n      <th>i_select_tag</th>\n      <th>i_select_rank</th>\n      <th>i_group</th>\n    </tr>\n  </thead>\n  <tbody>\n    <tr>\n      <th>0</th>\n      <td>2mps</td>\n      <td>Q00987</td>\n      <td>O15350</td>\n      <td>1</td>\n      <td>1</td>\n      <td>A</td>\n      <td>1</td>\n      <td>B</td>\n      <td>human</td>\n      <td>he</td>\n      <td>...</td>\n      <td>20140602</td>\n      <td>NaN</td>\n      <td>-66</td>\n      <td>0.015686</td>\n      <td>False</td>\n      <td>108</td>\n      <td>1</td>\n      <td>False</td>\n      <td>2</td>\n      <td>(O15350, Q00987)</td>\n    </tr>\n    <tr>\n      <th>1</th>\n      <td>2mps</td>\n      <td>Q00987</td>\n      <td>O15350</td>\n      <td>1</td>\n      <td>1</td>\n      <td>A</td>\n      <td>1</td>\n      <td>B</td>\n      <td>human</td>\n      <td>he</td>\n      <td>...</td>\n      <td>20140602</td>\n      <td>NaN</td>\n      <td>-66</td>\n      <td>0.015686</td>\n      <td>False</td>\n      <td>108</td>\n      <td>1</td>\n      <td>False</td>\n      <td>4</td>\n      <td>(O15350, Q00987)</td>\n    </tr>\n    <tr>\n      <th>2</th>\n      <td>2mps</td>\n      <td>Q00987</td>\n      <td>O15350</td>\n      <td>1</td>\n      <td>1</td>\n      <td>A</td>\n      <td>1</td>\n      <td>B</td>\n      <td>human</td>\n      <td>he</td>\n      <td>...</td>\n      <td>20140602</td>\n      <td>NaN</td>\n      <td>-66</td>\n      <td>0.015686</td>\n      <td>False</td>\n      <td>108</td>\n      <td>-1</td>\n      <td>False</td>\n      <td>-1</td>\n      <td>(O15350, Q00987)</td>\n    </tr>\n    <tr>\n      <th>3</th>\n      <td>2mps</td>\n      <td>Q00987</td>\n      <td>O15350</td>\n      <td>1</td>\n      <td>1</td>\n      <td>A</td>\n      <td>1</td>\n      <td>B</td>\n      <td>human</td>\n      <td>he</td>\n      <td>...</td>\n      <td>20140602</td>\n      <td>NaN</td>\n      <td>-66</td>\n      <td>0.015686</td>\n      <td>False</td>\n      <td>108</td>\n      <td>1</td>\n      <td>True</td>\n      <td>1</td>\n      <td>(O15350, Q00987)</td>\n    </tr>\n    <tr>\n      <th>4</th>\n      <td>2mps</td>\n      <td>Q00987</td>\n      <td>O15350</td>\n      <td>1</td>\n      <td>1</td>\n      <td>A</td>\n      <td>1</td>\n      <td>B</td>\n      <td>human</td>\n      <td>he</td>\n      <td>...</td>\n      <td>20140602</td>\n      <td>NaN</td>\n      <td>-66</td>\n      <td>0.015686</td>\n      <td>False</td>\n      <td>108</td>\n      <td>-1</td>\n      <td>False</td>\n      <td>-1</td>\n      <td>(O15350, Q00987)</td>\n    </tr>\n    <tr>\n      <th>...</th>\n      <td>...</td>\n      <td>...</td>\n      <td>...</td>\n      <td>...</td>\n      <td>...</td>\n      <td>...</td>\n      <td>...</td>\n      <td>...</td>\n      <td>...</td>\n      <td>...</td>\n      <td>...</td>\n      <td>...</td>\n      <td>...</td>\n      <td>...</td>\n      <td>...</td>\n      <td>...</td>\n      <td>...</td>\n      <td>...</td>\n      <td>...</td>\n      <td>...</td>\n      <td>...</td>\n    </tr>\n    <tr>\n      <th>60</th>\n      <td>2nb1</td>\n      <td>Q9H3D4</td>\n      <td>O15350</td>\n      <td>1</td>\n      <td>1</td>\n      <td>A</td>\n      <td>1</td>\n      <td>B</td>\n      <td>human</td>\n      <td>he</td>\n      <td>...</td>\n      <td>20160119</td>\n      <td>NaN</td>\n      <td>-66</td>\n      <td>0.047059</td>\n      <td>True</td>\n      <td>47</td>\n      <td>1</td>\n      <td>False</td>\n      <td>3</td>\n      <td>(O15350, Q9H3D4)</td>\n    </tr>\n    <tr>\n      <th>61</th>\n      <td>2nb1</td>\n      <td>Q9H3D4</td>\n      <td>O15350</td>\n      <td>1</td>\n      <td>1</td>\n      <td>A</td>\n      <td>1</td>\n      <td>B</td>\n      <td>human</td>\n      <td>he</td>\n      <td>...</td>\n      <td>20160119</td>\n      <td>NaN</td>\n      <td>-66</td>\n      <td>0.047059</td>\n      <td>True</td>\n      <td>47</td>\n      <td>1</td>\n      <td>False</td>\n      <td>9</td>\n      <td>(O15350, Q9H3D4)</td>\n    </tr>\n    <tr>\n      <th>62</th>\n      <td>2nb1</td>\n      <td>Q9H3D4</td>\n      <td>O15350</td>\n      <td>1</td>\n      <td>1</td>\n      <td>A</td>\n      <td>1</td>\n      <td>B</td>\n      <td>human</td>\n      <td>he</td>\n      <td>...</td>\n      <td>20160119</td>\n      <td>NaN</td>\n      <td>-66</td>\n      <td>0.047059</td>\n      <td>True</td>\n      <td>47</td>\n      <td>1</td>\n      <td>False</td>\n      <td>5</td>\n      <td>(O15350, Q9H3D4)</td>\n    </tr>\n    <tr>\n      <th>63</th>\n      <td>2nb1</td>\n      <td>Q9H3D4</td>\n      <td>O15350</td>\n      <td>1</td>\n      <td>1</td>\n      <td>A</td>\n      <td>1</td>\n      <td>B</td>\n      <td>human</td>\n      <td>he</td>\n      <td>...</td>\n      <td>20160119</td>\n      <td>NaN</td>\n      <td>-66</td>\n      <td>0.047059</td>\n      <td>True</td>\n      <td>47</td>\n      <td>1</td>\n      <td>False</td>\n      <td>11</td>\n      <td>(O15350, Q9H3D4)</td>\n    </tr>\n    <tr>\n      <th>64</th>\n      <td>2nb1</td>\n      <td>Q9H3D4</td>\n      <td>O15350</td>\n      <td>1</td>\n      <td>1</td>\n      <td>A</td>\n      <td>1</td>\n      <td>B</td>\n      <td>human</td>\n      <td>he</td>\n      <td>...</td>\n      <td>20160119</td>\n      <td>NaN</td>\n      <td>-66</td>\n      <td>0.047059</td>\n      <td>True</td>\n      <td>47</td>\n      <td>1</td>\n      <td>True</td>\n      <td>1</td>\n      <td>(O15350, Q9H3D4)</td>\n    </tr>\n  </tbody>\n</table>\n<p>65 rows × 108 columns</p>\n</div>"
     },
     "metadata": {},
     "execution_count": 8
    }
   ],
   "source": [
    "df3 = demo.pipe_select_he().result()\n",
    "df3"
   ]
  },
  {
   "cell_type": "code",
   "execution_count": 9,
   "metadata": {},
   "outputs": [],
   "source": [
    "record = df1.loc[0]"
   ]
  },
  {
   "cell_type": "code",
   "execution_count": 10,
   "metadata": {},
   "outputs": [
    {
     "output_type": "execute_result",
     "data": {
      "text/plain": [
       "UniProt                                                            O15350\n",
       "chain_id                                                                A\n",
       "entity_id                                                               1\n",
       "identity                                                             0.99\n",
       "is_canonical                                                         True\n",
       "pdb_id                                                               3vd2\n",
       "struct_asym_id                                                          A\n",
       "pdb_range                                                      [[13,210]]\n",
       "unp_range                                                     [[115,312]]\n",
       "Entry                                                              O15350\n",
       "range_diff                                                            [0]\n",
       "sifts_range_tag                                                      Safe\n",
       "repeated                                                            False\n",
       "reversed                                                            False\n",
       "InDel_sum                                                               0\n",
       "new_pdb_range                                                  [[13,210]]\n",
       "new_unp_range                                                 [[115,312]]\n",
       "conflict_pdb_range                                                     ()\n",
       "unp_len                                                               636\n",
       "BINDING_LIGAND_COUNT                                                    4\n",
       "BINDING_LIGAND_INDEX         [[92, 92], [95, 95], [156, 156], [160, 160]]\n",
       "OBS_COUNT                                                             203\n",
       "OBS_INDEX                                                      [[8, 210]]\n",
       "OBS_RATIO_SUM                                                     201.409\n",
       "ARTIFACT_INDEX                                                  [[1, 12]]\n",
       "NON_COUNT                                                               0\n",
       "NON_INDEX                                                              []\n",
       "SEQRES_COUNT                                                          210\n",
       "STD_COUNT                                                             210\n",
       "STD_INDEX                                                      [[1, 210]]\n",
       "UNK_COUNT                                                               0\n",
       "UNK_INDEX                                                              []\n",
       "ca_p_only                                                           False\n",
       "molecule_type                                              polypeptide(L)\n",
       "OBS_STD_INDEX                                                 ((8, 210),)\n",
       "OBS_STD_COUNT                                                         203\n",
       "RAW_BS                                                           0.294025\n",
       "resolution                                                              4\n",
       "experimental_method_class                                           x-ray\n",
       "experimental_method                                     X-ray diffraction\n",
       "multi_method                                                        False\n",
       "revision_date                                                    20120725\n",
       "deposition_date                                                  20120104\n",
       "1/resolution                                                         0.25\n",
       "id_score                                                              -65\n",
       "COV_SCORE                                                        0.532764\n",
       "select_tag                                                          False\n",
       "select_rank                                                            28\n",
       "Name: 0, dtype: object"
      ]
     },
     "metadata": {},
     "execution_count": 10
    }
   ],
   "source": [
    "record"
   ]
  },
  {
   "cell_type": "code",
   "execution_count": 11,
   "metadata": {},
   "outputs": [
    {
     "output_type": "display_data",
     "data": {
      "text/plain": "<IPython.core.display.HTML object>",
      "text/html": "\n        <style>\n            img.display {\n                -webkit-filter: invert(1);\n                filter: invert(1);\n                }\n        </style>\n    \n        <table align=\"center\">\n            <tr>\n            \n                <td>\n                    <b>Asymmetric unit</b> of 3vd2\n                </td>\n    \n                <td>\n                    <b>Biological assembly 1</b> of 3vd2\n                </td>\n    \n                <td>\n                    <b>Biological assembly 2</b> of 3vd2\n                </td>\n    \n            </tr>\n            <tr>\n            \n                <td>\n                    <img class=\"display\" width=\"300em\" src=\"https://cdn.rcsb.org/images/structures/vd/3vd2/3vd2_model-1.jpeg\"/>\n                </td>\n    \n                <td>\n                    <img class=\"display\" width=\"300em\" src=\"https://cdn.rcsb.org/images/structures/vd/3vd2/3vd2_assembly-1.jpeg\"/>\n                </td>\n    \n                <td>\n                    <img class=\"display\" width=\"300em\" src=\"https://cdn.rcsb.org/images/structures/vd/3vd2/3vd2_assembly-2.jpeg\"/>\n                </td>\n    \n            </tr>\n        </table>\n        "
     },
     "metadata": {}
    }
   ],
   "source": [
    "DisplayPDB(True).show(record['pdb_id'], range(1,3))"
   ]
  },
  {
   "cell_type": "code",
   "execution_count": 12,
   "metadata": {},
   "outputs": [
    {
     "output_type": "execute_result",
     "data": {
      "text/plain": [
       "     unp_residue_number  residue_number UniProt author_insertion_code  \\\n",
       "0                   115              13  O15350                         \n",
       "1                   116              14  O15350                         \n",
       "2                   117              15  O15350                         \n",
       "3                   118              16  O15350                         \n",
       "4                   119              17  O15350                         \n",
       "..                  ...             ...     ...                   ...   \n",
       "193                 308             206  O15350                         \n",
       "194                 309             207  O15350                         \n",
       "195                 310             208  O15350                         \n",
       "196                 311             209  O15350                         \n",
       "197                 312             210  O15350                         \n",
       "\n",
       "     author_residue_number chain_id  entity_id  multiple_conformers  \\\n",
       "0                      115        A          1                  NaN   \n",
       "1                      116        A          1                  NaN   \n",
       "2                      117        A          1                  NaN   \n",
       "3                      118        A          1                  NaN   \n",
       "4                      119        A          1                  NaN   \n",
       "..                     ...      ...        ...                  ...   \n",
       "193                    308        A          1                  NaN   \n",
       "194                    309        A          1                  NaN   \n",
       "195                    310        A          1                  NaN   \n",
       "196                    311        A          1                  NaN   \n",
       "197                    312        A          1                  NaN   \n",
       "\n",
       "     observed_ratio pdb_id residue_name struct_asym_id  \n",
       "0               1.0   3vd2          ILE              A  \n",
       "1               1.0   3vd2          PRO              A  \n",
       "2               1.0   3vd2          SER              A  \n",
       "3               1.0   3vd2          ASN              A  \n",
       "4               1.0   3vd2          THR              A  \n",
       "..              ...    ...          ...            ...  \n",
       "193             1.0   3vd2          HIS              A  \n",
       "194             1.0   3vd2          TYR              A  \n",
       "195             1.0   3vd2          ARG              A  \n",
       "196             1.0   3vd2          GLU              A  \n",
       "197             0.9   3vd2          GLN              A  \n",
       "\n",
       "[198 rows x 12 columns]"
      ],
      "text/html": "<div>\n<style scoped>\n    .dataframe tbody tr th:only-of-type {\n        vertical-align: middle;\n    }\n\n    .dataframe tbody tr th {\n        vertical-align: top;\n    }\n\n    .dataframe thead th {\n        text-align: right;\n    }\n</style>\n<table border=\"1\" class=\"dataframe\">\n  <thead>\n    <tr style=\"text-align: right;\">\n      <th></th>\n      <th>unp_residue_number</th>\n      <th>residue_number</th>\n      <th>UniProt</th>\n      <th>author_insertion_code</th>\n      <th>author_residue_number</th>\n      <th>chain_id</th>\n      <th>entity_id</th>\n      <th>multiple_conformers</th>\n      <th>observed_ratio</th>\n      <th>pdb_id</th>\n      <th>residue_name</th>\n      <th>struct_asym_id</th>\n    </tr>\n  </thead>\n  <tbody>\n    <tr>\n      <th>0</th>\n      <td>115</td>\n      <td>13</td>\n      <td>O15350</td>\n      <td></td>\n      <td>115</td>\n      <td>A</td>\n      <td>1</td>\n      <td>NaN</td>\n      <td>1.0</td>\n      <td>3vd2</td>\n      <td>ILE</td>\n      <td>A</td>\n    </tr>\n    <tr>\n      <th>1</th>\n      <td>116</td>\n      <td>14</td>\n      <td>O15350</td>\n      <td></td>\n      <td>116</td>\n      <td>A</td>\n      <td>1</td>\n      <td>NaN</td>\n      <td>1.0</td>\n      <td>3vd2</td>\n      <td>PRO</td>\n      <td>A</td>\n    </tr>\n    <tr>\n      <th>2</th>\n      <td>117</td>\n      <td>15</td>\n      <td>O15350</td>\n      <td></td>\n      <td>117</td>\n      <td>A</td>\n      <td>1</td>\n      <td>NaN</td>\n      <td>1.0</td>\n      <td>3vd2</td>\n      <td>SER</td>\n      <td>A</td>\n    </tr>\n    <tr>\n      <th>3</th>\n      <td>118</td>\n      <td>16</td>\n      <td>O15350</td>\n      <td></td>\n      <td>118</td>\n      <td>A</td>\n      <td>1</td>\n      <td>NaN</td>\n      <td>1.0</td>\n      <td>3vd2</td>\n      <td>ASN</td>\n      <td>A</td>\n    </tr>\n    <tr>\n      <th>4</th>\n      <td>119</td>\n      <td>17</td>\n      <td>O15350</td>\n      <td></td>\n      <td>119</td>\n      <td>A</td>\n      <td>1</td>\n      <td>NaN</td>\n      <td>1.0</td>\n      <td>3vd2</td>\n      <td>THR</td>\n      <td>A</td>\n    </tr>\n    <tr>\n      <th>...</th>\n      <td>...</td>\n      <td>...</td>\n      <td>...</td>\n      <td>...</td>\n      <td>...</td>\n      <td>...</td>\n      <td>...</td>\n      <td>...</td>\n      <td>...</td>\n      <td>...</td>\n      <td>...</td>\n      <td>...</td>\n    </tr>\n    <tr>\n      <th>193</th>\n      <td>308</td>\n      <td>206</td>\n      <td>O15350</td>\n      <td></td>\n      <td>308</td>\n      <td>A</td>\n      <td>1</td>\n      <td>NaN</td>\n      <td>1.0</td>\n      <td>3vd2</td>\n      <td>HIS</td>\n      <td>A</td>\n    </tr>\n    <tr>\n      <th>194</th>\n      <td>309</td>\n      <td>207</td>\n      <td>O15350</td>\n      <td></td>\n      <td>309</td>\n      <td>A</td>\n      <td>1</td>\n      <td>NaN</td>\n      <td>1.0</td>\n      <td>3vd2</td>\n      <td>TYR</td>\n      <td>A</td>\n    </tr>\n    <tr>\n      <th>195</th>\n      <td>310</td>\n      <td>208</td>\n      <td>O15350</td>\n      <td></td>\n      <td>310</td>\n      <td>A</td>\n      <td>1</td>\n      <td>NaN</td>\n      <td>1.0</td>\n      <td>3vd2</td>\n      <td>ARG</td>\n      <td>A</td>\n    </tr>\n    <tr>\n      <th>196</th>\n      <td>311</td>\n      <td>209</td>\n      <td>O15350</td>\n      <td></td>\n      <td>311</td>\n      <td>A</td>\n      <td>1</td>\n      <td>NaN</td>\n      <td>1.0</td>\n      <td>3vd2</td>\n      <td>GLU</td>\n      <td>A</td>\n    </tr>\n    <tr>\n      <th>197</th>\n      <td>312</td>\n      <td>210</td>\n      <td>O15350</td>\n      <td></td>\n      <td>312</td>\n      <td>A</td>\n      <td>1</td>\n      <td>NaN</td>\n      <td>0.9</td>\n      <td>3vd2</td>\n      <td>GLN</td>\n      <td>A</td>\n    </tr>\n  </tbody>\n</table>\n<p>198 rows × 12 columns</p>\n</div>"
     },
     "metadata": {},
     "execution_count": 12
    }
   ],
   "source": [
    "PDB(record['pdb_id']).get_expanded_map_res_df(\n",
    "    record['UniProt'], \n",
    "    record['new_unp_range'], \n",
    "    record['new_pdb_range'], \n",
    "    struct_asym_id=record['struct_asym_id']).result()"
   ]
  },
  {
   "source": [
    "## Batch Retrieve"
   ],
   "cell_type": "markdown",
   "metadata": {}
  },
  {
   "cell_type": "code",
   "execution_count": 13,
   "metadata": {},
   "outputs": [],
   "source": [
    "# optional\n",
    "from tqdm import tqdm"
   ]
  },
  {
   "cell_type": "code",
   "execution_count": 14,
   "metadata": {},
   "outputs": [
    {
     "output_type": "stream",
     "name": "stderr",
     "text": [
      "100%|██████████| 3/3 [00:05<00:00,  1.83s/it]\n"
     ]
    }
   ],
   "source": [
    "res = SIFTSs(('Q00987-2', 'Q00987-10', 'O15350')).fetch('pipe_select_mo').run(tqdm).result()"
   ]
  },
  {
   "cell_type": "code",
   "execution_count": 15,
   "metadata": {},
   "outputs": [
    {
     "output_type": "execute_result",
     "data": {
      "text/plain": [
       "    UniProt chain_id  entity_id  identity  is_canonical pdb_id struct_asym_id  \\\n",
       "0    O15350        A          1      0.99          True   3vd2              A   \n",
       "1    O15350        B          1      0.99          True   3vd2              B   \n",
       "2    O15350        C          1      0.99          True   3vd2              C   \n",
       "3    O15350        D          1      0.99          True   3vd2              D   \n",
       "4    O15350        I          1      0.99          True   3vd2              E   \n",
       "..      ...      ...        ...       ...           ...    ...            ...   \n",
       "109  O15350        F          1      0.92          True   5hob              F   \n",
       "110  O15350        G          1      0.92          True   5hob              G   \n",
       "111  O15350        H          1      0.92          True   5hob              H   \n",
       "112  O15350        A          1      0.92          True   5hoc              A   \n",
       "113  O15350        B          1      0.92          True   5hoc              B   \n",
       "\n",
       "      pdb_range    unp_range   Entry  ... experimental_method_class  \\\n",
       "0    [[13,210]]  [[115,312]]  O15350  ...                     x-ray   \n",
       "1    [[13,210]]  [[115,312]]  O15350  ...                     x-ray   \n",
       "2    [[13,210]]  [[115,312]]  O15350  ...                     x-ray   \n",
       "3    [[13,210]]  [[115,312]]  O15350  ...                     x-ray   \n",
       "4    [[13,210]]  [[115,312]]  O15350  ...                     x-ray   \n",
       "..          ...          ...     ...  ...                       ...   \n",
       "109    [[3,50]]  [[351,398]]  O15350  ...                     x-ray   \n",
       "110    [[3,50]]  [[351,398]]  O15350  ...                     x-ray   \n",
       "111    [[3,50]]  [[351,398]]  O15350  ...                     x-ray   \n",
       "112    [[3,50]]  [[351,398]]  O15350  ...                     x-ray   \n",
       "113    [[3,50]]  [[351,398]]  O15350  ...                     x-ray   \n",
       "\n",
       "    experimental_method  multi_method  revision_date  deposition_date  \\\n",
       "0     X-ray diffraction         False       20120725         20120104   \n",
       "1     X-ray diffraction         False       20120725         20120104   \n",
       "2     X-ray diffraction         False       20120725         20120104   \n",
       "3     X-ray diffraction         False       20120725         20120104   \n",
       "4     X-ray diffraction         False       20120725         20120104   \n",
       "..                  ...           ...            ...              ...   \n",
       "109   X-ray diffraction         False       20161019         20160119   \n",
       "110   X-ray diffraction         False       20161019         20160119   \n",
       "111   X-ray diffraction         False       20161019         20160119   \n",
       "112   X-ray diffraction         False       20161130         20160119   \n",
       "113   X-ray diffraction         False       20161130         20160119   \n",
       "\n",
       "    1/resolution id_score COV_SCORE  select_tag  select_rank  \n",
       "0       0.250000      -65  0.532764       False           28  \n",
       "1       0.250000      -66  0.524813       False           36  \n",
       "2       0.250000      -67  0.532764       False           29  \n",
       "3       0.250000      -68  0.516862       False           41  \n",
       "4       0.250000      -73  0.532764       False           30  \n",
       "..           ...      ...       ...         ...          ...  \n",
       "109     0.819663      -70  0.099251       False           64  \n",
       "110     0.819663      -71  0.128801       False           53  \n",
       "111     0.819663      -72  0.104949       False           59  \n",
       "112     0.735252      -65  0.104949       False           60  \n",
       "113     0.735252      -66  0.104949       False           61  \n",
       "\n",
       "[114 rows x 48 columns]"
      ],
      "text/html": "<div>\n<style scoped>\n    .dataframe tbody tr th:only-of-type {\n        vertical-align: middle;\n    }\n\n    .dataframe tbody tr th {\n        vertical-align: top;\n    }\n\n    .dataframe thead th {\n        text-align: right;\n    }\n</style>\n<table border=\"1\" class=\"dataframe\">\n  <thead>\n    <tr style=\"text-align: right;\">\n      <th></th>\n      <th>UniProt</th>\n      <th>chain_id</th>\n      <th>entity_id</th>\n      <th>identity</th>\n      <th>is_canonical</th>\n      <th>pdb_id</th>\n      <th>struct_asym_id</th>\n      <th>pdb_range</th>\n      <th>unp_range</th>\n      <th>Entry</th>\n      <th>...</th>\n      <th>experimental_method_class</th>\n      <th>experimental_method</th>\n      <th>multi_method</th>\n      <th>revision_date</th>\n      <th>deposition_date</th>\n      <th>1/resolution</th>\n      <th>id_score</th>\n      <th>COV_SCORE</th>\n      <th>select_tag</th>\n      <th>select_rank</th>\n    </tr>\n  </thead>\n  <tbody>\n    <tr>\n      <th>0</th>\n      <td>O15350</td>\n      <td>A</td>\n      <td>1</td>\n      <td>0.99</td>\n      <td>True</td>\n      <td>3vd2</td>\n      <td>A</td>\n      <td>[[13,210]]</td>\n      <td>[[115,312]]</td>\n      <td>O15350</td>\n      <td>...</td>\n      <td>x-ray</td>\n      <td>X-ray diffraction</td>\n      <td>False</td>\n      <td>20120725</td>\n      <td>20120104</td>\n      <td>0.250000</td>\n      <td>-65</td>\n      <td>0.532764</td>\n      <td>False</td>\n      <td>28</td>\n    </tr>\n    <tr>\n      <th>1</th>\n      <td>O15350</td>\n      <td>B</td>\n      <td>1</td>\n      <td>0.99</td>\n      <td>True</td>\n      <td>3vd2</td>\n      <td>B</td>\n      <td>[[13,210]]</td>\n      <td>[[115,312]]</td>\n      <td>O15350</td>\n      <td>...</td>\n      <td>x-ray</td>\n      <td>X-ray diffraction</td>\n      <td>False</td>\n      <td>20120725</td>\n      <td>20120104</td>\n      <td>0.250000</td>\n      <td>-66</td>\n      <td>0.524813</td>\n      <td>False</td>\n      <td>36</td>\n    </tr>\n    <tr>\n      <th>2</th>\n      <td>O15350</td>\n      <td>C</td>\n      <td>1</td>\n      <td>0.99</td>\n      <td>True</td>\n      <td>3vd2</td>\n      <td>C</td>\n      <td>[[13,210]]</td>\n      <td>[[115,312]]</td>\n      <td>O15350</td>\n      <td>...</td>\n      <td>x-ray</td>\n      <td>X-ray diffraction</td>\n      <td>False</td>\n      <td>20120725</td>\n      <td>20120104</td>\n      <td>0.250000</td>\n      <td>-67</td>\n      <td>0.532764</td>\n      <td>False</td>\n      <td>29</td>\n    </tr>\n    <tr>\n      <th>3</th>\n      <td>O15350</td>\n      <td>D</td>\n      <td>1</td>\n      <td>0.99</td>\n      <td>True</td>\n      <td>3vd2</td>\n      <td>D</td>\n      <td>[[13,210]]</td>\n      <td>[[115,312]]</td>\n      <td>O15350</td>\n      <td>...</td>\n      <td>x-ray</td>\n      <td>X-ray diffraction</td>\n      <td>False</td>\n      <td>20120725</td>\n      <td>20120104</td>\n      <td>0.250000</td>\n      <td>-68</td>\n      <td>0.516862</td>\n      <td>False</td>\n      <td>41</td>\n    </tr>\n    <tr>\n      <th>4</th>\n      <td>O15350</td>\n      <td>I</td>\n      <td>1</td>\n      <td>0.99</td>\n      <td>True</td>\n      <td>3vd2</td>\n      <td>E</td>\n      <td>[[13,210]]</td>\n      <td>[[115,312]]</td>\n      <td>O15350</td>\n      <td>...</td>\n      <td>x-ray</td>\n      <td>X-ray diffraction</td>\n      <td>False</td>\n      <td>20120725</td>\n      <td>20120104</td>\n      <td>0.250000</td>\n      <td>-73</td>\n      <td>0.532764</td>\n      <td>False</td>\n      <td>30</td>\n    </tr>\n    <tr>\n      <th>...</th>\n      <td>...</td>\n      <td>...</td>\n      <td>...</td>\n      <td>...</td>\n      <td>...</td>\n      <td>...</td>\n      <td>...</td>\n      <td>...</td>\n      <td>...</td>\n      <td>...</td>\n      <td>...</td>\n      <td>...</td>\n      <td>...</td>\n      <td>...</td>\n      <td>...</td>\n      <td>...</td>\n      <td>...</td>\n      <td>...</td>\n      <td>...</td>\n      <td>...</td>\n      <td>...</td>\n    </tr>\n    <tr>\n      <th>109</th>\n      <td>O15350</td>\n      <td>F</td>\n      <td>1</td>\n      <td>0.92</td>\n      <td>True</td>\n      <td>5hob</td>\n      <td>F</td>\n      <td>[[3,50]]</td>\n      <td>[[351,398]]</td>\n      <td>O15350</td>\n      <td>...</td>\n      <td>x-ray</td>\n      <td>X-ray diffraction</td>\n      <td>False</td>\n      <td>20161019</td>\n      <td>20160119</td>\n      <td>0.819663</td>\n      <td>-70</td>\n      <td>0.099251</td>\n      <td>False</td>\n      <td>64</td>\n    </tr>\n    <tr>\n      <th>110</th>\n      <td>O15350</td>\n      <td>G</td>\n      <td>1</td>\n      <td>0.92</td>\n      <td>True</td>\n      <td>5hob</td>\n      <td>G</td>\n      <td>[[3,50]]</td>\n      <td>[[351,398]]</td>\n      <td>O15350</td>\n      <td>...</td>\n      <td>x-ray</td>\n      <td>X-ray diffraction</td>\n      <td>False</td>\n      <td>20161019</td>\n      <td>20160119</td>\n      <td>0.819663</td>\n      <td>-71</td>\n      <td>0.128801</td>\n      <td>False</td>\n      <td>53</td>\n    </tr>\n    <tr>\n      <th>111</th>\n      <td>O15350</td>\n      <td>H</td>\n      <td>1</td>\n      <td>0.92</td>\n      <td>True</td>\n      <td>5hob</td>\n      <td>H</td>\n      <td>[[3,50]]</td>\n      <td>[[351,398]]</td>\n      <td>O15350</td>\n      <td>...</td>\n      <td>x-ray</td>\n      <td>X-ray diffraction</td>\n      <td>False</td>\n      <td>20161019</td>\n      <td>20160119</td>\n      <td>0.819663</td>\n      <td>-72</td>\n      <td>0.104949</td>\n      <td>False</td>\n      <td>59</td>\n    </tr>\n    <tr>\n      <th>112</th>\n      <td>O15350</td>\n      <td>A</td>\n      <td>1</td>\n      <td>0.92</td>\n      <td>True</td>\n      <td>5hoc</td>\n      <td>A</td>\n      <td>[[3,50]]</td>\n      <td>[[351,398]]</td>\n      <td>O15350</td>\n      <td>...</td>\n      <td>x-ray</td>\n      <td>X-ray diffraction</td>\n      <td>False</td>\n      <td>20161130</td>\n      <td>20160119</td>\n      <td>0.735252</td>\n      <td>-65</td>\n      <td>0.104949</td>\n      <td>False</td>\n      <td>60</td>\n    </tr>\n    <tr>\n      <th>113</th>\n      <td>O15350</td>\n      <td>B</td>\n      <td>1</td>\n      <td>0.92</td>\n      <td>True</td>\n      <td>5hoc</td>\n      <td>B</td>\n      <td>[[3,50]]</td>\n      <td>[[351,398]]</td>\n      <td>O15350</td>\n      <td>...</td>\n      <td>x-ray</td>\n      <td>X-ray diffraction</td>\n      <td>False</td>\n      <td>20161130</td>\n      <td>20160119</td>\n      <td>0.735252</td>\n      <td>-66</td>\n      <td>0.104949</td>\n      <td>False</td>\n      <td>61</td>\n    </tr>\n  </tbody>\n</table>\n<p>114 rows × 48 columns</p>\n</div>"
     },
     "metadata": {},
     "execution_count": 15
    }
   ],
   "source": [
    "res[0]"
   ]
  },
  {
   "cell_type": "code",
   "execution_count": 16,
   "metadata": {},
   "outputs": [
    {
     "output_type": "execute_result",
     "data": {
      "text/plain": [
       "      UniProt chain_id  entity_id  identity  is_canonical pdb_id  \\\n",
       "0    Q00987-2        A          1      1.00         False   4jv9   \n",
       "1    Q00987-2        C          3      0.97         False   5mnj   \n",
       "2    Q00987-2        G          3      0.97         False   5mnj   \n",
       "3    Q00987-2        A          1      1.00         False   4ogv   \n",
       "4    Q00987-2        B          1      1.00         False   4ogv   \n",
       "..        ...      ...        ...       ...           ...    ...   \n",
       "208  Q00987-2        A          1      1.00         False   6q9o   \n",
       "209  Q00987-2        B          1      1.00         False   6q9o   \n",
       "210  Q00987-2        A          1      1.00         False   6q9h   \n",
       "211  Q00987-2        D          2      1.00         False   3mqs   \n",
       "212  Q00987-2        B          2      1.00         False   5wts   \n",
       "\n",
       "    struct_asym_id  pdb_range    unp_range   Entry  ...  \\\n",
       "0                A   [[1,10]]    [[18,27]]  Q00987  ...   \n",
       "1                C  [[23,86]]  [[233,296]]  Q00987  ...   \n",
       "2                G  [[23,86]]  [[233,296]]  Q00987  ...   \n",
       "3                A   [[1,11]]    [[17,27]]  Q00987  ...   \n",
       "4                B   [[1,11]]    [[17,27]]  Q00987  ...   \n",
       "..             ...        ...          ...     ...  ...   \n",
       "208              A   [[2,12]]    [[17,27]]  Q00987  ...   \n",
       "209              B   [[2,12]]    [[17,27]]  Q00987  ...   \n",
       "210              A   [[2,12]]    [[17,27]]  Q00987  ...   \n",
       "211              B   [[1,10]]  [[199,208]]  Q00987  ...   \n",
       "212              B   [[3,24]]     [[6,27]]  Q00987  ...   \n",
       "\n",
       "    experimental_method_class experimental_method  multi_method  \\\n",
       "0                       x-ray   X-ray diffraction         False   \n",
       "1                       x-ray   X-ray diffraction         False   \n",
       "2                       x-ray   X-ray diffraction         False   \n",
       "3                       x-ray   X-ray diffraction         False   \n",
       "4                       x-ray   X-ray diffraction         False   \n",
       "..                        ...                 ...           ...   \n",
       "208                     x-ray   X-ray diffraction         False   \n",
       "209                     x-ray   X-ray diffraction         False   \n",
       "210                     x-ray   X-ray diffraction         False   \n",
       "211                     x-ray   X-ray diffraction         False   \n",
       "212                     x-ray   X-ray diffraction         False   \n",
       "\n",
       "     revision_date  deposition_date 1/resolution id_score COV_SCORE  \\\n",
       "0         20130605         20130325     0.400000      -65 -0.452544   \n",
       "1         20191016         20161213     0.462963      -67  0.147192   \n",
       "2         20191016         20161213     0.462963      -71  0.158537   \n",
       "3         20140618         20140116     0.455166      -65 -0.320288   \n",
       "4         20140618         20140116     0.455166      -66 -0.320288   \n",
       "..             ...              ...          ...      ...       ...   \n",
       "208       20190724         20181218     0.826446      -65 -0.313008   \n",
       "209       20190724         20181218     0.826446      -66 -0.313008   \n",
       "210       20190724         20181218     0.500000      -65 -0.323502   \n",
       "211       20110713         20100428     0.416667      -68  0.006617   \n",
       "212       20191106         20161214     0.332889      -66 -0.427303   \n",
       "\n",
       "     select_tag  select_rank  \n",
       "0         False           -1  \n",
       "1         False           12  \n",
       "2         False           11  \n",
       "3         False           -1  \n",
       "4         False           -1  \n",
       "..          ...          ...  \n",
       "208       False           -1  \n",
       "209       False           -1  \n",
       "210       False           -1  \n",
       "211       False           14  \n",
       "212       False           -1  \n",
       "\n",
       "[213 rows x 48 columns]"
      ],
      "text/html": "<div>\n<style scoped>\n    .dataframe tbody tr th:only-of-type {\n        vertical-align: middle;\n    }\n\n    .dataframe tbody tr th {\n        vertical-align: top;\n    }\n\n    .dataframe thead th {\n        text-align: right;\n    }\n</style>\n<table border=\"1\" class=\"dataframe\">\n  <thead>\n    <tr style=\"text-align: right;\">\n      <th></th>\n      <th>UniProt</th>\n      <th>chain_id</th>\n      <th>entity_id</th>\n      <th>identity</th>\n      <th>is_canonical</th>\n      <th>pdb_id</th>\n      <th>struct_asym_id</th>\n      <th>pdb_range</th>\n      <th>unp_range</th>\n      <th>Entry</th>\n      <th>...</th>\n      <th>experimental_method_class</th>\n      <th>experimental_method</th>\n      <th>multi_method</th>\n      <th>revision_date</th>\n      <th>deposition_date</th>\n      <th>1/resolution</th>\n      <th>id_score</th>\n      <th>COV_SCORE</th>\n      <th>select_tag</th>\n      <th>select_rank</th>\n    </tr>\n  </thead>\n  <tbody>\n    <tr>\n      <th>0</th>\n      <td>Q00987-2</td>\n      <td>A</td>\n      <td>1</td>\n      <td>1.00</td>\n      <td>False</td>\n      <td>4jv9</td>\n      <td>A</td>\n      <td>[[1,10]]</td>\n      <td>[[18,27]]</td>\n      <td>Q00987</td>\n      <td>...</td>\n      <td>x-ray</td>\n      <td>X-ray diffraction</td>\n      <td>False</td>\n      <td>20130605</td>\n      <td>20130325</td>\n      <td>0.400000</td>\n      <td>-65</td>\n      <td>-0.452544</td>\n      <td>False</td>\n      <td>-1</td>\n    </tr>\n    <tr>\n      <th>1</th>\n      <td>Q00987-2</td>\n      <td>C</td>\n      <td>3</td>\n      <td>0.97</td>\n      <td>False</td>\n      <td>5mnj</td>\n      <td>C</td>\n      <td>[[23,86]]</td>\n      <td>[[233,296]]</td>\n      <td>Q00987</td>\n      <td>...</td>\n      <td>x-ray</td>\n      <td>X-ray diffraction</td>\n      <td>False</td>\n      <td>20191016</td>\n      <td>20161213</td>\n      <td>0.462963</td>\n      <td>-67</td>\n      <td>0.147192</td>\n      <td>False</td>\n      <td>12</td>\n    </tr>\n    <tr>\n      <th>2</th>\n      <td>Q00987-2</td>\n      <td>G</td>\n      <td>3</td>\n      <td>0.97</td>\n      <td>False</td>\n      <td>5mnj</td>\n      <td>G</td>\n      <td>[[23,86]]</td>\n      <td>[[233,296]]</td>\n      <td>Q00987</td>\n      <td>...</td>\n      <td>x-ray</td>\n      <td>X-ray diffraction</td>\n      <td>False</td>\n      <td>20191016</td>\n      <td>20161213</td>\n      <td>0.462963</td>\n      <td>-71</td>\n      <td>0.158537</td>\n      <td>False</td>\n      <td>11</td>\n    </tr>\n    <tr>\n      <th>3</th>\n      <td>Q00987-2</td>\n      <td>A</td>\n      <td>1</td>\n      <td>1.00</td>\n      <td>False</td>\n      <td>4ogv</td>\n      <td>A</td>\n      <td>[[1,11]]</td>\n      <td>[[17,27]]</td>\n      <td>Q00987</td>\n      <td>...</td>\n      <td>x-ray</td>\n      <td>X-ray diffraction</td>\n      <td>False</td>\n      <td>20140618</td>\n      <td>20140116</td>\n      <td>0.455166</td>\n      <td>-65</td>\n      <td>-0.320288</td>\n      <td>False</td>\n      <td>-1</td>\n    </tr>\n    <tr>\n      <th>4</th>\n      <td>Q00987-2</td>\n      <td>B</td>\n      <td>1</td>\n      <td>1.00</td>\n      <td>False</td>\n      <td>4ogv</td>\n      <td>B</td>\n      <td>[[1,11]]</td>\n      <td>[[17,27]]</td>\n      <td>Q00987</td>\n      <td>...</td>\n      <td>x-ray</td>\n      <td>X-ray diffraction</td>\n      <td>False</td>\n      <td>20140618</td>\n      <td>20140116</td>\n      <td>0.455166</td>\n      <td>-66</td>\n      <td>-0.320288</td>\n      <td>False</td>\n      <td>-1</td>\n    </tr>\n    <tr>\n      <th>...</th>\n      <td>...</td>\n      <td>...</td>\n      <td>...</td>\n      <td>...</td>\n      <td>...</td>\n      <td>...</td>\n      <td>...</td>\n      <td>...</td>\n      <td>...</td>\n      <td>...</td>\n      <td>...</td>\n      <td>...</td>\n      <td>...</td>\n      <td>...</td>\n      <td>...</td>\n      <td>...</td>\n      <td>...</td>\n      <td>...</td>\n      <td>...</td>\n      <td>...</td>\n      <td>...</td>\n    </tr>\n    <tr>\n      <th>208</th>\n      <td>Q00987-2</td>\n      <td>A</td>\n      <td>1</td>\n      <td>1.00</td>\n      <td>False</td>\n      <td>6q9o</td>\n      <td>A</td>\n      <td>[[2,12]]</td>\n      <td>[[17,27]]</td>\n      <td>Q00987</td>\n      <td>...</td>\n      <td>x-ray</td>\n      <td>X-ray diffraction</td>\n      <td>False</td>\n      <td>20190724</td>\n      <td>20181218</td>\n      <td>0.826446</td>\n      <td>-65</td>\n      <td>-0.313008</td>\n      <td>False</td>\n      <td>-1</td>\n    </tr>\n    <tr>\n      <th>209</th>\n      <td>Q00987-2</td>\n      <td>B</td>\n      <td>1</td>\n      <td>1.00</td>\n      <td>False</td>\n      <td>6q9o</td>\n      <td>B</td>\n      <td>[[2,12]]</td>\n      <td>[[17,27]]</td>\n      <td>Q00987</td>\n      <td>...</td>\n      <td>x-ray</td>\n      <td>X-ray diffraction</td>\n      <td>False</td>\n      <td>20190724</td>\n      <td>20181218</td>\n      <td>0.826446</td>\n      <td>-66</td>\n      <td>-0.313008</td>\n      <td>False</td>\n      <td>-1</td>\n    </tr>\n    <tr>\n      <th>210</th>\n      <td>Q00987-2</td>\n      <td>A</td>\n      <td>1</td>\n      <td>1.00</td>\n      <td>False</td>\n      <td>6q9h</td>\n      <td>A</td>\n      <td>[[2,12]]</td>\n      <td>[[17,27]]</td>\n      <td>Q00987</td>\n      <td>...</td>\n      <td>x-ray</td>\n      <td>X-ray diffraction</td>\n      <td>False</td>\n      <td>20190724</td>\n      <td>20181218</td>\n      <td>0.500000</td>\n      <td>-65</td>\n      <td>-0.323502</td>\n      <td>False</td>\n      <td>-1</td>\n    </tr>\n    <tr>\n      <th>211</th>\n      <td>Q00987-2</td>\n      <td>D</td>\n      <td>2</td>\n      <td>1.00</td>\n      <td>False</td>\n      <td>3mqs</td>\n      <td>B</td>\n      <td>[[1,10]]</td>\n      <td>[[199,208]]</td>\n      <td>Q00987</td>\n      <td>...</td>\n      <td>x-ray</td>\n      <td>X-ray diffraction</td>\n      <td>False</td>\n      <td>20110713</td>\n      <td>20100428</td>\n      <td>0.416667</td>\n      <td>-68</td>\n      <td>0.006617</td>\n      <td>False</td>\n      <td>14</td>\n    </tr>\n    <tr>\n      <th>212</th>\n      <td>Q00987-2</td>\n      <td>B</td>\n      <td>2</td>\n      <td>1.00</td>\n      <td>False</td>\n      <td>5wts</td>\n      <td>B</td>\n      <td>[[3,24]]</td>\n      <td>[[6,27]]</td>\n      <td>Q00987</td>\n      <td>...</td>\n      <td>x-ray</td>\n      <td>X-ray diffraction</td>\n      <td>False</td>\n      <td>20191106</td>\n      <td>20161214</td>\n      <td>0.332889</td>\n      <td>-66</td>\n      <td>-0.427303</td>\n      <td>False</td>\n      <td>-1</td>\n    </tr>\n  </tbody>\n</table>\n<p>213 rows × 48 columns</p>\n</div>"
     },
     "metadata": {},
     "execution_count": 16
    }
   ],
   "source": [
    "res[1]"
   ]
  },
  {
   "cell_type": "code",
   "execution_count": null,
   "metadata": {},
   "outputs": [],
   "source": []
  }
 ]
}