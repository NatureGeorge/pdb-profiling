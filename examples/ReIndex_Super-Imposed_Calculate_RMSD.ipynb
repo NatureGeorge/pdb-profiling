{
 "metadata": {
  "language_info": {
   "codemirror_mode": {
    "name": "ipython",
    "version": 3
   },
   "file_extension": ".py",
   "mimetype": "text/x-python",
   "name": "python",
   "nbconvert_exporter": "python",
   "pygments_lexer": "ipython3",
   "version": "3.7.1-final"
  },
  "orig_nbformat": 2,
  "kernelspec": {
   "name": "python_defaultSpec_1600676151689",
   "display_name": "Python 3.7.1 64-bit ('base': conda)"
  }
 },
 "nbformat": 4,
 "nbformat_minor": 2,
 "cells": [
  {
   "cell_type": "code",
   "execution_count": 1,
   "metadata": {},
   "outputs": [],
   "source": [
    "from biopandas.pdb import PandasPdb\n",
    "import pandas as pd\n",
    "import numpy as np\n",
    "from sklearn.neighbors import KDTree\n",
    "import plotly.express as px\n",
    "import plotly.graph_objects as go\n",
    "from unsync import unsync"
   ]
  },
  {
   "source": [
    "## Install `pdb_profiling`\n",
    "\n",
    "```bash\n",
    "pip install pdb-profiling\n",
    "```"
   ],
   "cell_type": "markdown",
   "metadata": {}
  },
  {
   "cell_type": "code",
   "execution_count": 2,
   "metadata": {},
   "outputs": [],
   "source": [
    "from pdb_profiling.fetcher.webfetch import UnsyncFetch\n",
    "from pdb_profiling.utils import DisplayPDB, iter_first\n",
    "from pdb_profiling.processers.pdbe.api import *\n",
    "from pdb_profiling.processers.pdbe.record import *\n",
    "\n",
    "ProcessPDBe.use_existing = True  # Use Existing Handled PDBe API Results (e.g. tsv format results)\n",
    "ProcessPDBe.init_logger()  # Init PDBe API Logger\n",
    "UnsyncFetch.use_existing = True  # Use Existing API Results (e.g. json format results downloaded from web)\n",
    "UnsyncFetch.init_setting(ProcessPDBe.logger)  # Init WebFetcher's Logger (pass it with PDBe API Logger)\n",
    "PDB.set_web_semaphore(30)  # Set WebFetcher's Semaphore\n",
    "PDB.set_folder('./')  # Set Folder that store downloaded and handled files"
   ]
  },
  {
   "source": [
    "## Prepare Functions"
   ],
   "cell_type": "markdown",
   "metadata": {}
  },
  {
   "cell_type": "code",
   "execution_count": 3,
   "metadata": {},
   "outputs": [],
   "source": [
    "def getModelIndex(ppdb: PandasPdb):\n",
    "    '''\n",
    "    Attempt to get seperate dataframe of different model \n",
    "    by getting corresponding line_idx from 'OHTERS' dataframe\n",
    "    '''\n",
    "    for start_r, end_r in zip(\n",
    "        ppdb.df['OTHERS'].query('record_name == \"MODEL\"')[['entry', 'line_idx']].to_dict('record'),\n",
    "        ppdb.df['OTHERS'].query('record_name == \"ENDMDL\"')[['line_idx']].to_dict('record')):\n",
    "        yield dict(\n",
    "            MODEL=start_r['entry'].strip(), \n",
    "            start_line_idx=start_r['line_idx'],\n",
    "            end_line_idx=end_r['line_idx'])\n",
    "\n",
    "def get_rmsd(mol1, mol2):\n",
    "    '''\n",
    "    Calculate the Root Mean Squar Deviation/Error\n",
    "    '''\n",
    "    # return np.sqrt(((mol1 - mol2) ** 2).mean())\n",
    "    return np.sqrt(np.mean(np.square(mol1 - mol2)))\n",
    "\n",
    "@unsync\n",
    "async def pipeline(pdb_id:str, chain_id:str, imposed_file_path:str, query_sites: Iterable[str]=[]):\n",
    "    pdb_demo = PDB(pdb_id)\n",
    "    \n",
    "    mol_info_df = await pdb_demo.get_res2eec_df()\n",
    "    info_tp = iter_first(mol_info_df, lambda x: x.chain_id == chain_id and x.molecule_type == 'polypeptide(L)')\n",
    "    res_df = await pdb_demo.fetch_from_web_api('api/pdb/entry/residue_listing/', PDB.to_dataframe)\n",
    "    reIndex_df = res_df[(res_df.entity_id == info_tp.entity_id) & (res_df.chain_id == info_tp.chain_id)][\n",
    "        ['chain_id', 'residue_number', 'author_residue_number', 'author_insertion_code']]\n",
    "    \n",
    "    ppdb = PandasPdb().read_pdb(imposed_file_path)\n",
    "    ppdb.df['ATOM']['residue_site'] = ppdb.df['ATOM'].residue_number.astype(str)+ppdb.df['ATOM'].insertion\n",
    "    ppdb.df['ATOM'].rename(columns={'residue_number': 'author_residue_number', 'insertion': 'author_insertion_code'}, inplace=True)\n",
    "    df_model = {record[\"MODEL\"]: ppdb.df['ATOM'].query(\n",
    "        f'line_idx >= {record[\"start_line_idx\"]} & line_idx <= {record[\"end_line_idx\"]}') for record in getModelIndex(ppdb)}\n",
    "    \n",
    "    df_model['1'] = df_model['1'].merge(reIndex_df, how='left')\n",
    "    assert df_model['1'].residue_number.isnull().sum() == 0, f\"Unexpected Cases: {df_model['1'][df_model['1'].residue_number.isnull()]}\"\n",
    "    df_model['2']['residue_number'] = df_model['2'].author_residue_number\n",
    "    residue_number_intersection = sorted(set(df_model['1'].residue_number) & set(df_model['2'].residue_number))\n",
    "\n",
    "    query_unit_df = pd.DataFrame({'residue_number': residue_number_intersection, 'atom_name': 'CA'})\n",
    "    df_model_1_df = df_model['1'].merge(query_unit_df, how='inner')\n",
    "    df_model_2_df = df_model['2'].merge(query_unit_df, how='inner')\n",
    "\n",
    "    mol1 = df_model_1_df[['x_coord','y_coord','z_coord']].to_numpy()\n",
    "    mol2 = df_model_2_df[['x_coord','y_coord','z_coord']].to_numpy()\n",
    "    # ---subset---\n",
    "    tree1 = KDTree(mol1)\n",
    "    tree2 = KDTree(mol2)\n",
    "    if len(query_sites) == 0:\n",
    "        return (pdb_id, chain_id, imposed_file_path), dict(overall_rmsd=get_rmsd(mol1, mol2), sites_rmsd=None)\n",
    "    \n",
    "    df_model_1_sites_df = df_model_1_df.query(f'residue_site in {query_sites}')\n",
    "    df_model_2_sites_df = df_model_2_df.query(f'residue_site in {query_sites}')\n",
    "\n",
    "\n",
    "    res_index_1 = tree1.query_radius(\n",
    "        df_model_1_sites_df[['x_coord','y_coord','z_coord']].to_numpy(), r=10)\n",
    "    res_index_2 = tree2.query_radius(\n",
    "        df_model_2_sites_df[['x_coord','y_coord','z_coord']].to_numpy(), r=10)\n",
    "    res_indexes = [np.intersect1d(*i) for i in zip(res_index_1,res_index_2)]\n",
    "\n",
    "    return (pdb_id, chain_id, imposed_file_path), dict(\n",
    "        overall_rmsd=get_rmsd(mol1, mol2), \n",
    "        sites_rmsd=zip(df_model_1_sites_df.residue_site, (get_rmsd(mol1[res_index], mol2[res_index]) for res_index in res_indexes)))\n",
    "            "
   ]
  },
  {
   "cell_type": "code",
   "execution_count": 4,
   "metadata": {
    "tags": []
   },
   "outputs": [
    {
     "output_type": "stream",
     "name": "stdout",
     "text": "Wall time: 410 ms\n"
    },
    {
     "output_type": "execute_result",
     "data": {
      "text/plain": "(('4v2f', 'A', '4V2FA_2XPWA_FATCAT.pdb'),\n {'overall_rmsd': 0.7241765068863248, 'sites_rmsd': None})"
     },
     "metadata": {},
     "execution_count": 4
    }
   ],
   "source": [
    "%time pipeline('4v2f', 'A', '4V2FA_2XPWA_FATCAT.pdb').result()"
   ]
  },
  {
   "cell_type": "code",
   "execution_count": 5,
   "metadata": {
    "tags": []
   },
   "outputs": [
    {
     "output_type": "stream",
     "name": "stdout",
     "text": "Wall time: 465 ms\n('4v2f', 'A', '4V2FA_2XPWA_FATCAT.pdb') {'overall_rmsd': 0.7241765068863248, 'sites_rmsd': <zip object at 0x00000205C0110F88>}\n(('141', 0.37412670536419396), ('142', 0.3888843015602454))\n"
    }
   ],
   "source": [
    "%time input_info, output_data = pipeline('4v2f', 'A', '4V2FA_2XPWA_FATCAT.pdb', (\"141\", \"142\")).result()\n",
    "print(input_info, output_data)\n",
    "print(tuple(output_data['sites_rmsd']))"
   ]
  },
  {
   "cell_type": "code",
   "execution_count": 6,
   "metadata": {
    "tags": []
   },
   "outputs": [
    {
     "output_type": "stream",
     "name": "stderr",
     "text": "100%|██████████| 5/5 [00:02<00:00,  2.40it/s]\n"
    },
    {
     "output_type": "execute_result",
     "data": {
      "text/plain": "{('1A5E', 'A', '1A5EA_1BD8A_FATCAT.pdb'): {'overall_rmsd': 4.256621864661923,\n  'sites_rmsd': <zip at 0x205c00ade08>},\n ('4V2F', 'A', '4V2FA_2XPWA_FATCAT.pdb'): {'overall_rmsd': 0.7241765068863248,\n  'sites_rmsd': <zip at 0x205c0101c48>},\n ('1A5E', 'A', '1A5EA_1MX4B_FATCAT.pdb'): {'overall_rmsd': 4.800521648782281,\n  'sites_rmsd': <zip at 0x205c00ad548>},\n ('1RN1', 'C', '1RN1C_1FUSA_FATCAT.pdb'): {'overall_rmsd': 0.9899995904557556,\n  'sites_rmsd': <zip at 0x205c03c9d48>},\n ('1A5E', 'A', '1A5EA_1N11A_FATCAT.pdb'): {'overall_rmsd': 5.697866133606135,\n  'sites_rmsd': <zip at 0x205c049ef88>}}"
     },
     "metadata": {},
     "execution_count": 6
    }
   ],
   "source": [
    "# MultiPle Tasks\n",
    "sites1, sites2, sites3 = (\"33\", \"21\"), (\"141\", \"140\", \"142\"), (\"101\", \"102\", \"103\")\n",
    "\n",
    "tasks = (\n",
    "    pipeline('1A5E', 'A', '1A5EA_1BD8A_FATCAT.pdb', sites1),\n",
    "    pipeline('1A5E', 'A', '1A5EA_1MX4B_FATCAT.pdb', sites1),\n",
    "    pipeline('1A5E', 'A', '1A5EA_1N11A_FATCAT.pdb', sites1),\n",
    "    pipeline('4V2F', 'A', '4V2FA_2XPWA_FATCAT.pdb', sites2),\n",
    "    pipeline('1RN1', 'C', '1RN1C_1FUSA_FATCAT.pdb', sites3)\n",
    ")\n",
    "\n",
    "res = UnsyncFetch.unsync_tasks(tasks).result()\n",
    "dict(res)"
   ]
  },
  {
   "cell_type": "code",
   "execution_count": 7,
   "metadata": {
    "tags": []
   },
   "outputs": [
    {
     "output_type": "stream",
     "name": "stdout",
     "text": "('1A5E', 'A', '1A5EA_1BD8A_FATCAT.pdb') 4.256621864661923\n{'21': 0.718660353507625, '33': 1.3363094181779573}\n\n('4V2F', 'A', '4V2FA_2XPWA_FATCAT.pdb') 0.7241765068863248\n{'140': 0.3511797082691419, '141': 0.37412670536419396, '142': 0.3888843015602454}\n\n('1A5E', 'A', '1A5EA_1MX4B_FATCAT.pdb') 4.800521648782281\n{'21': 0.9438510750387753, '33': 1.2094294660431144}\n\n('1RN1', 'C', '1RN1C_1FUSA_FATCAT.pdb') 0.9899995904557556\n{'101': 0.44910441094452086, '102': 0.32285424988168665, '103': 0.3168644996068684}\n\n('1A5E', 'A', '1A5EA_1N11A_FATCAT.pdb') 5.697866133606135\n{'21': 1.498311224784687, '33': 0.7462497753920779}\n\n"
    }
   ],
   "source": [
    "for input_info, output_data in res:\n",
    "    print(input_info, output_data['overall_rmsd'])\n",
    "    print(dict(output_data['sites_rmsd']))\n",
    "    print()"
   ]
  },
  {
   "cell_type": "code",
   "execution_count": 8,
   "metadata": {
    "tags": []
   },
   "outputs": [
    {
     "output_type": "stream",
     "name": "stdout",
     "text": "('1A5E', 'A', '1A5EA_1BD8A_FATCAT.pdb') 4.256621864661923\n{'21': 0.718660353507625}\n\n('4V2F', 'A', '4V2FA_2XPWA_FATCAT.pdb') 0.7241765068863248\n{'142': 0.3888843015602454}\n\n('4V2F', 'A', '4V2FA_2XPWA_FATCAT.pdb') 0.7241765068863248\n{'140': 0.3511797082691419}\n\n"
    }
   ],
   "source": [
    "# TODO: CHECK\n",
    "input_info, output_data = pipeline('1A5E', 'A', '1A5EA_1BD8A_FATCAT.pdb', ('21',)).result()\n",
    "print(input_info, output_data['overall_rmsd'])\n",
    "print(dict(output_data['sites_rmsd']))\n",
    "print()\n",
    "\n",
    "input_info, output_data = pipeline('4V2F', 'A', '4V2FA_2XPWA_FATCAT.pdb', ('142',)).result()\n",
    "print(input_info, output_data['overall_rmsd'])\n",
    "print(dict(output_data['sites_rmsd']))\n",
    "print()\n",
    "\n",
    "input_info, output_data = pipeline('4V2F', 'A', '4V2FA_2XPWA_FATCAT.pdb', ('140',)).result()\n",
    "print(input_info, output_data['overall_rmsd'])\n",
    "print(dict(output_data['sites_rmsd']))\n",
    "print()"
   ]
  },
  {
   "source": [
    "## Explain `pipeline()` Step by Step\n",
    "\n",
    "### 1. Get Residue-Listing Data Via `pdb_profiling` Package"
   ],
   "cell_type": "markdown",
   "metadata": {}
  },
  {
   "cell_type": "code",
   "execution_count": 9,
   "metadata": {},
   "outputs": [],
   "source": [
    "pdb_demo = PDB('4v2f')\n",
    "'''\n",
    "TODO: Check PDB Entry Status\n",
    "\n",
    "    * status_code: REL -> relase\n",
    "    * status_code: OBS -> obsolete\n",
    "'''\n",
    "assert pdb_demo.status['status_code'] == 'REL', pdb_demo.status"
   ]
  },
  {
   "source": [
    "#### NOTE $\\downarrow$\n",
    "\n",
    "1. `info_tp` contains corresponding entity_id that can be used to retrieve corresponding residue-listing data in the next step\n",
    "2. Sometimes there may be multiple instances with the same chain_id (i.e. 5pti), so we need to get its entity_id to identify the protein chain with a particular chain_id. Otherwise one should use struct_asym_id."
   ],
   "cell_type": "markdown",
   "metadata": {}
  },
  {
   "cell_type": "code",
   "execution_count": 10,
   "metadata": {},
   "outputs": [
    {
     "output_type": "execute_result",
     "data": {
      "text/plain": "                                                                                             0\npdb_id                                                                                    4v2f\nentity_id                                                                                    1\nchain_id                                                                                     A\nstruct_asym_id                                                                               A\nstruct_asym_id_in_assembly                                                                   A\nca_p_only                                                                                False\ngene_name                                                                             [\"tetR\"]\nin_chains                                                                                [\"A\"]\nin_struct_asyms                                                                          [\"A\"]\nlength                                                                                     207\nmolecule_name                                       [\"Tetracycline repressor protein class D\"]\nmolecule_type                                                                   polypeptide(L)\nmutation_flag                                                                              NaN\nnumber_of_copies                                                                             1\npdb_sequence                                 SRLNRESVIDAALELLNETGIDGLTTRKLAQKLGIEQPTLYWHVKN...\npdb_sequence_indices_with_multiple_residues                                                 {}\nsample_preparation                                                     Genetically manipulated\nsequence                                     SRLNRESVIDAALELLNETGIDGLTTRKLAQKLGIEQPTLYWHVKN...\nsource                                       [{\"expression_host_scientific_name\":\"Escherich...\nsynonym                                                 TETRACYCLINE REPRESSOR PROTEIN CLASS D\nweight                                                                                 23288.3",
      "text/html": "<div>\n<style scoped>\n    .dataframe tbody tr th:only-of-type {\n        vertical-align: middle;\n    }\n\n    .dataframe tbody tr th {\n        vertical-align: top;\n    }\n\n    .dataframe thead th {\n        text-align: right;\n    }\n</style>\n<table border=\"1\" class=\"dataframe\">\n  <thead>\n    <tr style=\"text-align: right;\">\n      <th></th>\n      <th>0</th>\n    </tr>\n  </thead>\n  <tbody>\n    <tr>\n      <th>pdb_id</th>\n      <td>4v2f</td>\n    </tr>\n    <tr>\n      <th>entity_id</th>\n      <td>1</td>\n    </tr>\n    <tr>\n      <th>chain_id</th>\n      <td>A</td>\n    </tr>\n    <tr>\n      <th>struct_asym_id</th>\n      <td>A</td>\n    </tr>\n    <tr>\n      <th>struct_asym_id_in_assembly</th>\n      <td>A</td>\n    </tr>\n    <tr>\n      <th>ca_p_only</th>\n      <td>False</td>\n    </tr>\n    <tr>\n      <th>gene_name</th>\n      <td>[\"tetR\"]</td>\n    </tr>\n    <tr>\n      <th>in_chains</th>\n      <td>[\"A\"]</td>\n    </tr>\n    <tr>\n      <th>in_struct_asyms</th>\n      <td>[\"A\"]</td>\n    </tr>\n    <tr>\n      <th>length</th>\n      <td>207</td>\n    </tr>\n    <tr>\n      <th>molecule_name</th>\n      <td>[\"Tetracycline repressor protein class D\"]</td>\n    </tr>\n    <tr>\n      <th>molecule_type</th>\n      <td>polypeptide(L)</td>\n    </tr>\n    <tr>\n      <th>mutation_flag</th>\n      <td>NaN</td>\n    </tr>\n    <tr>\n      <th>number_of_copies</th>\n      <td>1</td>\n    </tr>\n    <tr>\n      <th>pdb_sequence</th>\n      <td>SRLNRESVIDAALELLNETGIDGLTTRKLAQKLGIEQPTLYWHVKN...</td>\n    </tr>\n    <tr>\n      <th>pdb_sequence_indices_with_multiple_residues</th>\n      <td>{}</td>\n    </tr>\n    <tr>\n      <th>sample_preparation</th>\n      <td>Genetically manipulated</td>\n    </tr>\n    <tr>\n      <th>sequence</th>\n      <td>SRLNRESVIDAALELLNETGIDGLTTRKLAQKLGIEQPTLYWHVKN...</td>\n    </tr>\n    <tr>\n      <th>source</th>\n      <td>[{\"expression_host_scientific_name\":\"Escherich...</td>\n    </tr>\n    <tr>\n      <th>synonym</th>\n      <td>TETRACYCLINE REPRESSOR PROTEIN CLASS D</td>\n    </tr>\n    <tr>\n      <th>weight</th>\n      <td>23288.3</td>\n    </tr>\n  </tbody>\n</table>\n</div>"
     },
     "metadata": {},
     "execution_count": 10
    }
   ],
   "source": [
    "# TODO: Get Polypeptide Instance with Specified `chain_id`\n",
    "mol_info_df = pdb_demo.get_res2eec_df().result()\n",
    "info_tp = iter_first(mol_info_df, lambda x: x.chain_id == 'A' and x.molecule_type == 'polypeptide(L)')\n",
    "mol_info_df.T\n"
   ]
  },
  {
   "cell_type": "code",
   "execution_count": 11,
   "metadata": {},
   "outputs": [
    {
     "output_type": "execute_result",
     "data": {
      "text/plain": "  chain_id  residue_number  author_residue_number author_insertion_code\n0        A               1                      2                      \n1        A               2                      3                      \n2        A               3                      4                      \n3        A               4                      5                      \n4        A               5                      6                      ",
      "text/html": "<div>\n<style scoped>\n    .dataframe tbody tr th:only-of-type {\n        vertical-align: middle;\n    }\n\n    .dataframe tbody tr th {\n        vertical-align: top;\n    }\n\n    .dataframe thead th {\n        text-align: right;\n    }\n</style>\n<table border=\"1\" class=\"dataframe\">\n  <thead>\n    <tr style=\"text-align: right;\">\n      <th></th>\n      <th>chain_id</th>\n      <th>residue_number</th>\n      <th>author_residue_number</th>\n      <th>author_insertion_code</th>\n    </tr>\n  </thead>\n  <tbody>\n    <tr>\n      <th>0</th>\n      <td>A</td>\n      <td>1</td>\n      <td>2</td>\n      <td></td>\n    </tr>\n    <tr>\n      <th>1</th>\n      <td>A</td>\n      <td>2</td>\n      <td>3</td>\n      <td></td>\n    </tr>\n    <tr>\n      <th>2</th>\n      <td>A</td>\n      <td>3</td>\n      <td>4</td>\n      <td></td>\n    </tr>\n    <tr>\n      <th>3</th>\n      <td>A</td>\n      <td>4</td>\n      <td>5</td>\n      <td></td>\n    </tr>\n    <tr>\n      <th>4</th>\n      <td>A</td>\n      <td>5</td>\n      <td>6</td>\n      <td></td>\n    </tr>\n  </tbody>\n</table>\n</div>"
     },
     "metadata": {},
     "execution_count": 11
    }
   ],
   "source": [
    "# TODO: Get Polypeptide Instance with Specified `chain_id`\n",
    "res_df = pdb_demo.fetch_from_web_api('api/pdb/entry/residue_listing/', PDB.to_dataframe).result()\n",
    "sele_res_df = res_df[(res_df.entity_id == info_tp.entity_id) & (res_df.chain_id == info_tp.chain_id)][['chain_id', 'residue_number', 'author_residue_number', 'author_insertion_code']]\n",
    "sele_res_df.head()"
   ]
  },
  {
   "source": [
    "### 2. Load Super-Imposed Structure via `PandasPdb`\n",
    "\n",
    "<table>\n",
    "<tr>\n",
    "<td>\n",
    "<img src=\"../docs/figs/4V2FA_2XPWA_FATCAT.PDB-4V2F.png\" width=\"300em\">\n",
    "</td>\n",
    "</tr>\n",
    "<tr>\n",
    "<td>\n",
    "4V2FA_2XPWA_FATCAT.pdb\n",
    "</td>\n",
    "</tr>\n",
    "</table>"
   ],
   "cell_type": "markdown",
   "metadata": {}
  },
  {
   "cell_type": "code",
   "execution_count": 12,
   "metadata": {
    "tags": []
   },
   "outputs": [
    {
     "output_type": "stream",
     "name": "stdout",
     "text": "dict_keys(['ATOM', 'HETATM', 'ANISOU', 'OTHERS'])\n"
    },
    {
     "output_type": "execute_result",
     "data": {
      "text/plain": "  record_name                                              entry  line_idx\n0       TITLE   jFatCat_rigid 1.1 4V2FA.pdb vs. 4V2FA_2XPWA_1...         0\n1      EXPDTA                                  NMR, 2 STRUCTURES         1\n2       MODEL                                                  1         2\n3      ENDMDL                                                         1544\n4       MODEL                                                  2      1545\n5      ENDMDL                                                         3187",
      "text/html": "<div>\n<style scoped>\n    .dataframe tbody tr th:only-of-type {\n        vertical-align: middle;\n    }\n\n    .dataframe tbody tr th {\n        vertical-align: top;\n    }\n\n    .dataframe thead th {\n        text-align: right;\n    }\n</style>\n<table border=\"1\" class=\"dataframe\">\n  <thead>\n    <tr style=\"text-align: right;\">\n      <th></th>\n      <th>record_name</th>\n      <th>entry</th>\n      <th>line_idx</th>\n    </tr>\n  </thead>\n  <tbody>\n    <tr>\n      <th>0</th>\n      <td>TITLE</td>\n      <td>jFatCat_rigid 1.1 4V2FA.pdb vs. 4V2FA_2XPWA_1...</td>\n      <td>0</td>\n    </tr>\n    <tr>\n      <th>1</th>\n      <td>EXPDTA</td>\n      <td>NMR, 2 STRUCTURES</td>\n      <td>1</td>\n    </tr>\n    <tr>\n      <th>2</th>\n      <td>MODEL</td>\n      <td>1</td>\n      <td>2</td>\n    </tr>\n    <tr>\n      <th>3</th>\n      <td>ENDMDL</td>\n      <td></td>\n      <td>1544</td>\n    </tr>\n    <tr>\n      <th>4</th>\n      <td>MODEL</td>\n      <td>2</td>\n      <td>1545</td>\n    </tr>\n    <tr>\n      <th>5</th>\n      <td>ENDMDL</td>\n      <td></td>\n      <td>3187</td>\n    </tr>\n  </tbody>\n</table>\n</div>"
     },
     "metadata": {},
     "execution_count": 12
    }
   ],
   "source": [
    "ppdb = PandasPdb().read_pdb('4V2FA_2XPWA_FATCAT.pdb')\n",
    "ppdb.df['ATOM']['residue_site'] = ppdb.df['ATOM'].residue_number.astype(str)+ppdb.df['ATOM'].insertion\n",
    "ppdb.df['ATOM'].rename(columns={'residue_number': 'author_residue_number', 'insertion': 'author_insertion_code'}, inplace=True)\n",
    "print(ppdb.df.keys())\n",
    "ppdb.df['OTHERS']"
   ]
  },
  {
   "cell_type": "code",
   "execution_count": 13,
   "metadata": {},
   "outputs": [],
   "source": [
    "df_model = {record[\"MODEL\"]: ppdb.df['ATOM'].query(\n",
    "    f'line_idx >= {record[\"start_line_idx\"]} & line_idx <= {record[\"end_line_idx\"]}') for record in getModelIndex(ppdb)}"
   ]
  },
  {
   "cell_type": "code",
   "execution_count": 14,
   "metadata": {},
   "outputs": [],
   "source": [
    "# NOTE: append `residue_number` columns to df_model['1']\n",
    "df_model['1'] = df_model['1'].merge(sele_res_df, how='left')\n",
    "# NOTE: make sure that there is no unmap residue\n",
    "assert df_model['1'].residue_number.isnull().sum() == 0, \"Unexpected Cases\"\n",
    "# NOTE: for modelled structure, just copy the original column\n",
    "df_model['2']['residue_number'] = df_model['2'].author_residue_number\n",
    "# NOTE: get intersection of residue numbers\n",
    "residue_number_intersection = sorted(set(df_model['1'].residue_number) & set(df_model['2'].residue_number))"
   ]
  },
  {
   "source": [
    "### 3. Calculate RMSD of Full SuperImposed Structure (CA ATOM only)"
   ],
   "cell_type": "markdown",
   "metadata": {}
  },
  {
   "cell_type": "code",
   "execution_count": 15,
   "metadata": {
    "tags": []
   },
   "outputs": [
    {
     "output_type": "stream",
     "name": "stdout",
     "text": "0.7241765068863248\nWall time: 997 µs\n"
    }
   ],
   "source": [
    "query_unit_df = pd.DataFrame({'residue_number': residue_number_intersection, 'atom_name': 'CA'})\n",
    "df_model_1_df = df_model['1'].merge(query_unit_df, how='inner')\n",
    "df_model_2_df = df_model['2'].merge(query_unit_df, how='inner')\n",
    "\n",
    "mol1 = df_model_1_df[['x_coord','y_coord','z_coord']].to_numpy()\n",
    "mol2 = df_model_2_df[['x_coord','y_coord','z_coord']].to_numpy()\n",
    "# NOTE: calculate RMSD\n",
    "%time print(get_rmsd(mol1, mol2))"
   ]
  },
  {
   "source": [
    "### 4. Visualize Full SuperImposed Structure (CA ATOM only)"
   ],
   "cell_type": "markdown",
   "metadata": {}
  },
  {
   "cell_type": "code",
   "execution_count": 16,
   "metadata": {},
   "outputs": [
    {
     "output_type": "display_data",
     "data": {
      "application/vnd.plotly.v1+json": {
       "config": {
        "plotlyServerURL": "https://plot.ly"
       },
       "data": [
        {
         "hoverlabel": {
          "namelength": 0
         },
         "hovertemplate": "Source=MODEL 1<br>x_coord=%{x}<br>y_coord=%{y}<br>z_coord=%{z}<br>size=%{marker.size}",
         "legendgroup": "Source=MODEL 1",
         "marker": {
          "color": "#636efa",
          "size": [
           1,
           1,
           1,
           1,
           1,
           1,
           1,
           1,
           1,
           1,
           1,
           1,
           1,
           1,
           1,
           1,
           1,
           1,
           1,
           1,
           1,
           1,
           1,
           1,
           1,
           1,
           1,
           1,
           1,
           1,
           1,
           1,
           1,
           1,
           1,
           1,
           1,
           1,
           1,
           1,
           1,
           1,
           1,
           1,
           1,
           1,
           1,
           1,
           1,
           1,
           1,
           1,
           1,
           1,
           1,
           1,
           1,
           1,
           1,
           1,
           1,
           1,
           1,
           1,
           1,
           1,
           1,
           1,
           1,
           1,
           1,
           1,
           1,
           1,
           1,
           1,
           1,
           1,
           1,
           1,
           1,
           1,
           1,
           1,
           1,
           1,
           1,
           1,
           1,
           1,
           1,
           1,
           1,
           1,
           1,
           1,
           1,
           1,
           1,
           1,
           1,
           1,
           1,
           1,
           1,
           1,
           1,
           1,
           1,
           1,
           1,
           1,
           1,
           1,
           1,
           1,
           1,
           1,
           1,
           1,
           1,
           1,
           1,
           1,
           1,
           1,
           1,
           1,
           1,
           1,
           1,
           1,
           1,
           1,
           1,
           1,
           1,
           1,
           1,
           1,
           1,
           1,
           1,
           1,
           1,
           1,
           1,
           1,
           1,
           1,
           1,
           1,
           1,
           1,
           1,
           1,
           1,
           1,
           1,
           1,
           1,
           1,
           1,
           1,
           1,
           1,
           1,
           1,
           1,
           1,
           1,
           1,
           1,
           1,
           1,
           1,
           1,
           1,
           1,
           1,
           1,
           1,
           1,
           1,
           1,
           1,
           1,
           1,
           1,
           1,
           1,
           1,
           1
          ],
          "sizemode": "area",
          "sizeref": 0.01,
          "symbol": "circle"
         },
         "mode": "markers+lines",
         "name": "Source=MODEL 1",
         "scene": "scene",
         "showlegend": true,
         "type": "scatter3d",
         "x": [
          11.269,
          8.644,
          9.915,
          8.743,
          10.651,
          11.108,
          12.332,
          14.597,
          16.145,
          16.279,
          18.288,
          20.486,
          21.503,
          22.24,
          24.469,
          26.172,
          27.325,
          28.783,
          30.417,
          30.799,
          29.984,
          32.404,
          31.474,
          27.765,
          26.271,
          22.847,
          24.008,
          24.777,
          21.672,
          19.531,
          21.142,
          20.674,
          16.956,
          17.078,
          15.706,
          16.782,
          18.574,
          15.864,
          13.334,
          15.32,
          15.628,
          11.793,
          12.192,
          15.705,
          17.062,
          20.863,
          23.443,
          22.86,
          19.141,
          19.907,
          22.485,
          20.2,
          17.406,
          19.856,
          21.3,
          17.842,
          16.714,
          19.707,
          18.889,
          15.206,
          15.704,
          18.417,
          18.973,
          16.254,
          17.318,
          17.108,
          14.792,
          14.771,
          12.668,
          10.431,
          12.346,
          15.861,
          18.853,
          20.432,
          23.732,
          21.995,
          20.237,
          23.56,
          25.084,
          22.385,
          21.906,
          25.587,
          25.63,
          22.551,
          23.853,
          27.244,
          25.537,
          23.384,
          26.381,
          28.146,
          25.348,
          26.396,
          29.607,
          30.698,
          27.729,
          29.44,
          30.52,
          26.908,
          25.675,
          28.417,
          27.69,
          24.101,
          22.418,
          19.869,
          16.16,
          13.118,
          12.47,
          15.957,
          15.055,
          12.092,
          14.407,
          17.299,
          14.536,
          12.975,
          16.477,
          17.466,
          14.241,
          15.178,
          18.639,
          17.383,
          14.754,
          17.712,
          19.358,
          21.574,
          21.817,
          20.854,
          24.425,
          25.8,
          22.996,
          23.789,
          27.56,
          26.958,
          24.877,
          27.37,
          30.445,
          28.839,
          28.032,
          31.336,
          33.242,
          30.958,
          31.462,
          35.245,
          35.438,
          33.132,
          34.894,
          38.335,
          36.986,
          35.398,
          38.462,
          40.827,
          56.792,
          57.952,
          57.768,
          54.801,
          52.838,
          53.197,
          51.287,
          48.64,
          48.108,
          47.332,
          44.378,
          42.95,
          42.93,
          41.483,
          38.194,
          36.441,
          36.838,
          33.934,
          36.094,
          37.974,
          34.709,
          32.86,
          35.703,
          36.106,
          32.322,
          32.082,
          34.915,
          32.975,
          29.699,
          31.441,
          33.175,
          29.644,
          28.381,
          31.331,
          30.437,
          26.657,
          27.14,
          29.642,
          27.214,
          28.822,
          31.845,
          35.415,
          35.746
         ],
         "y": [
          21.483,
          22.799,
          26.334,
          27.754,
          29.106,
          25.822,
          23.923,
          26.74,
          26.889,
          23.093,
          22.891,
          25.888,
          24.252,
          20.978,
          22.865,
          24.885,
          21.58,
          20.504,
          23.826,
          26.129,
          29.851,
          30.994,
          28.222,
          28.916,
          30.783,
          31.415,
          29.704,
          26.473,
          26.569,
          26.896,
          23.764,
          21.731,
          22.469,
          21.865,
          25.215,
          28.302,
          31.245,
          33.731,
          31.347,
          31.416,
          35.222,
          35.432,
          33.636,
          34.592,
          37.974,
          37.691,
          35.864,
          38.383,
          37.641,
          33.911,
          34.201,
          36.305,
          33.728,
          30.938,
          32.579,
          33.03,
          29.487,
          27.739,
          29.388,
          28.685,
          25.031,
          24.409,
          27.057,
          25.301,
          26.824,
          30.567,
          31.436,
          30.474,
          27.626,
          28.848,
          29.429,
          28.742,
          30.623,
          33.16,
          31.201,
          28.184,
          30.087,
          31.642,
          28.137,
          26.233,
          29.102,
          29.125,
          25.36,
          25.375,
          28.328,
          26.58,
          23.37,
          25.185,
          27.097,
          23.706,
          21.775,
          23.242,
          24.026,
          27.644,
          28.04,
          30.688,
          32.563,
          32.595,
          33.923,
          36.616,
          38.158,
          39.173,
          41.88,
          40.481,
          39.86,
          41.063,
          37.537,
          38.074,
          41.495,
          39.994,
          37.34,
          39.624,
          41.776,
          38.819,
          37.597,
          41.106,
          41.309,
          38.009,
          39.288,
          42.487,
          40.602,
          38.71,
          42.054,
          43.07,
          46.721,
          47.01,
          47.771,
          44.744,
          42.27,
          43.138,
          43.052,
          39.517,
          38.303,
          39.73,
          38.218,
          34.756,
          35.39,
          36.652,
          33.892,
          31.26,
          32.638,
          32.845,
          29.336,
          27.897,
          29.851,
          28.397,
          24.885,
          25.251,
          26.512,
          23.779,
          21.613,
          23.012,
          20.938,
          22.162,
          22.924,
          19.232,
          18.231,
          20.977,
          20.455,
          16.859,
          17.669,
          20.036,
          17.208,
          14.524,
          16.393,
          18.273,
          21.586,
          21.122,
          20.877,
          24.096,
          25.843,
          24.512,
          25.344,
          28.958,
          29.265,
          28.569,
          30.942,
          33.669,
          33.045,
          33.061,
          36.322,
          37.716,
          36.387,
          38.019,
          41.325,
          41.017,
          40.165,
          42.949,
          45.881,
          49.235,
          47.897,
          47.562,
          44.118
         ],
         "z": [
          7.005,
          9.52,
          9.881,
          13.17,
          16.152,
          17.978,
          14.946,
          13.779,
          17.259,
          17.675,
          14.437,
          15.318,
          18.694,
          16.94,
          14.482,
          17.217,
          18.677,
          15.3,
          14.255,
          17.301,
          17.411,
          14.711,
          12.308,
          12.697,
          9.738,
          8.276,
          5.042,
          6.913,
          9.08,
          5.91,
          4.378,
          7.553,
          7.372,
          3.588,
          2.354,
          0.475,
          2.118,
          1.314,
          2.887,
          6.184,
          5.968,
          6.331,
          9.695,
          10.908,
          9.71,
          10.548,
          12.729,
          15.588,
          15.957,
          15.923,
          18.745,
          20.89,
          20.531,
          21.256,
          24.386,
          25.812,
          24.828,
          26.405,
          29.767,
          29.394,
          28.548,
          31.12,
          33.817,
          35.784,
          39.182,
          38.326,
          41.283,
          45.073,
          46.492,
          49.304,
          52.533,
          51.348,
          52.74,
          50.445,
          50.632,
          49.293,
          46.548,
          45.375,
          45.39,
          43.464,
          41.078,
          40.269,
          39.727,
          37.525,
          35.5,
          34.939,
          33.778,
          31.265,
          29.874,
          29.603,
          27.765,
          24.328,
          22.644,
          22.996,
          25.332,
          27.426,
          24.321,
          23.203,
          26.545,
          26.784,
          23.443,
          24.132,
          26.129,
          28.608,
          27.797,
          29.761,
          31.007,
          32.475,
          33.928,
          35.771,
          37.229,
          38.221,
          39.837,
          41.696,
          42.758,
          43.765,
          45.824,
          47.542,
          48.419,
          50.007,
          52.089,
          53.638,
          54.589,
          51.67,
          50.551,
          46.884,
          46.001,
          47.873,
          46.754,
          43.164,
          43.694,
          45.095,
          42.269,
          39.781,
          41.363,
          41.318,
          37.716,
          36.642,
          38.478,
          37.014,
          33.583,
          33.49,
          34.941,
          32.279,
          29.602,
          30.457,
          30.732,
          27.282,
          25.588,
          26.81,
          33.263,
          36.654,
          39.91,
          42.005,
          38.858,
          37.839,
          41.035,
          40.613,
          36.862,
          37.904,
          40.129,
          37.46,
          34.885,
          37.248,
          37.382,
          34.57,
          36.482,
          38.971,
          42.13,
          41.674,
          40.709,
          43.763,
          46.093,
          44.865,
          44.959,
          48.719,
          49.351,
          47.569,
          49.359,
          52.727,
          51.874,
          51.549,
          54.878,
          56.628,
          54.962,
          55.452,
          59.143,
          59.646,
          58.904,
          60.07,
          62.022,
          60.763,
          59.147
         ]
        },
        {
         "hoverlabel": {
          "namelength": 0
         },
         "hovertemplate": "Source=MODEL 2<br>x_coord=%{x}<br>y_coord=%{y}<br>z_coord=%{z}<br>size=%{marker.size}",
         "legendgroup": "Source=MODEL 2",
         "marker": {
          "color": "#EF553B",
          "size": [
           1,
           1,
           1,
           1,
           1,
           1,
           1,
           1,
           1,
           1,
           1,
           1,
           1,
           1,
           1,
           1,
           1,
           1,
           1,
           1,
           1,
           1,
           1,
           1,
           1,
           1,
           1,
           1,
           1,
           1,
           1,
           1,
           1,
           1,
           1,
           1,
           1,
           1,
           1,
           1,
           1,
           1,
           1,
           1,
           1,
           1,
           1,
           1,
           1,
           1,
           1,
           1,
           1,
           1,
           1,
           1,
           1,
           1,
           1,
           1,
           1,
           1,
           1,
           1,
           1,
           1,
           1,
           1,
           1,
           1,
           1,
           1,
           1,
           1,
           1,
           1,
           1,
           1,
           1,
           1,
           1,
           1,
           1,
           1,
           1,
           1,
           1,
           1,
           1,
           1,
           1,
           1,
           1,
           1,
           1,
           1,
           1,
           1,
           1,
           1,
           1,
           1,
           1,
           1,
           1,
           1,
           1,
           1,
           1,
           1,
           1,
           1,
           1,
           1,
           1,
           1,
           1,
           1,
           1,
           1,
           1,
           1,
           1,
           1,
           1,
           1,
           1,
           1,
           1,
           1,
           1,
           1,
           1,
           1,
           1,
           1,
           1,
           1,
           1,
           1,
           1,
           1,
           1,
           1,
           1,
           1,
           1,
           1,
           1,
           1,
           1,
           1,
           1,
           1,
           1,
           1,
           1,
           1,
           1,
           1,
           1,
           1,
           1,
           1,
           1,
           1,
           1,
           1,
           1,
           1,
           1,
           1,
           1,
           1,
           1,
           1,
           1,
           1,
           1,
           1,
           1,
           1,
           1,
           1,
           1,
           1,
           1,
           1,
           1,
           1,
           1,
           1,
           1,
           1,
           1,
           1,
           1,
           1,
           1,
           1,
           1,
           1,
           1,
           1,
           1,
           1,
           1
          ],
          "sizemode": "area",
          "sizeref": 0.01,
          "symbol": "circle"
         },
         "mode": "markers+lines",
         "name": "Source=MODEL 2",
         "scene": "scene",
         "showlegend": true,
         "type": "scatter3d",
         "x": [
          11.689,
          9.553,
          10.405,
          8.641,
          10.772,
          10.935,
          12.176,
          14.706,
          15.997,
          16.139,
          18.105,
          20.502,
          21.077,
          21.852,
          24.202,
          25.825,
          26.597,
          28.039,
          30.229,
          30.129,
          29.637,
          31.981,
          29.966,
          26.738,
          26.668,
          23.803,
          24.872,
          25.225,
          22.023,
          20.179,
          21.536,
          20.457,
          17.008,
          17.034,
          16.204,
          17.663,
          19.494,
          16.993,
          14.302,
          16.396,
          16.866,
          13.178,
          13.188,
          16.451,
          18.492,
          21.169,
          23.69,
          23.683,
          19.951,
          20.2,
          22.943,
          20.905,
          17.965,
          20.176,
          21.451,
          17.917,
          16.872,
          19.762,
          18.716,
          15.096,
          15.774,
          18.57,
          18.742,
          16.619,
          17.33,
          16.451,
          14.462,
          14.886,
          12.94,
          10.711,
          12.743,
          15.925,
          18.925,
          20.54,
          23.769,
          22.059,
          20.21,
          23.364,
          25.102,
          22.248,
          21.723,
          25.389,
          25.582,
          22.521,
          23.865,
          27.133,
          25.413,
          23.245,
          26.209,
          28.224,
          25.371,
          26.2,
          29.365,
          30.018,
          27.07,
          28.955,
          30.35,
          26.918,
          25.877,
          28.615,
          27.631,
          23.968,
          21.315,
          18.201,
          15.453,
          11.841,
          11.056,
          13.638,
          12.248,
          9.965,
          12.618,
          15.452,
          13.328,
          12.468,
          16.131,
          17.02,
          14.157,
          15.142,
          18.584,
          17.212,
          14.885,
          18.002,
          19.45,
          21.567,
          21.148,
          20.2,
          23.675,
          25.398,
          23.081,
          23.871,
          27.565,
          27.192,
          25.081,
          27.514,
          30.484,
          28.927,
          27.917,
          31.304,
          33.129,
          30.909,
          31.201,
          34.956,
          35.273,
          33.069,
          34.793,
          38.231,
          37.165,
          35.505,
          38.128,
          40.986,
          39.502,
          38.788,
          42.415,
          43.874,
          42.529,
          43.953,
          47.39,
          49.536,
          49.893,
          53.662,
          56.749,
          56.781,
          60.535,
          60.877,
          58.271,
          59.19,
          57.781,
          55.162,
          53.821,
          53.785,
          51.715,
          49.449,
          48.715,
          47.99,
          45.665,
          43.849,
          43.814,
          42.173,
          39.035,
          36.585,
          36.904,
          33.961,
          36.09,
          37.866,
          34.555,
          32.823,
          35.702,
          35.813,
          32.066,
          32.149,
          34.909,
          32.918,
          29.769,
          31.559,
          33.098,
          29.7,
          28.451,
          31.231,
          30.507,
          26.787,
          27.184,
          29.72,
          27.261,
          28.734,
          31.598,
          34.848,
          35.932
         ],
         "y": [
          21.99,
          23.966,
          27.669,
          28.385,
          30.392,
          27.533,
          25.365,
          27.892,
          28.172,
          24.418,
          24.013,
          26.796,
          25.244,
          21.889,
          23.501,
          25.5,
          22.42,
          20.742,
          23.51,
          26.292,
          29.988,
          29.989,
          27.202,
          29.11,
          30.585,
          31.375,
          28.656,
          26.084,
          27.024,
          27.029,
          23.601,
          22.221,
          23.631,
          22.312,
          25.788,
          28.455,
          31.385,
          33.99,
          31.95,
          31.814,
          35.56,
          36.196,
          34.302,
          35.534,
          38.514,
          39.053,
          36.739,
          38.498,
          38.33,
          34.615,
          34.234,
          36.192,
          33.888,
          30.873,
          32.234,
          32.555,
          29.169,
          27.375,
          28.604,
          27.887,
          24.279,
          23.463,
          26.089,
          24.354,
          26.363,
          29.937,
          30.739,
          30.225,
          27.657,
          28.94,
          29.898,
          29.306,
          31.257,
          33.635,
          31.732,
          28.463,
          30.089,
          31.487,
          28.162,
          26.195,
          28.799,
          28.826,
          25.084,
          25.113,
          27.963,
          26.158,
          22.938,
          24.688,
          26.471,
          23.249,
          21.556,
          22.955,
          23.865,
          27.591,
          27.855,
          30.13,
          32.055,
          32.817,
          34.13,
          36.689,
          40.314,
          39.508,
          41.356,
          39.899,
          39.055,
          40.032,
          36.386,
          36.584,
          39.642,
          37.978,
          35.531,
          38.012,
          40.541,
          37.994,
          37.152,
          40.773,
          41.319,
          38.167,
          39.55,
          42.831,
          40.983,
          39.237,
          42.562,
          43.341,
          46.732,
          46.467,
          47.524,
          45.072,
          42.289,
          43.046,
          42.88,
          39.488,
          38.292,
          39.649,
          38.148,
          34.715,
          34.932,
          36.162,
          33.523,
          30.808,
          32.041,
          32.25,
          28.795,
          27.246,
          28.994,
          28.045,
          24.447,
          24.202,
          26.156,
          24.226,
          20.938,
          22.218,
          23.326,
          19.887,
          18.787,
          21.847,
          21.451,
          19.933,
          21.826,
          22.012,
          20.147,
          18.098,
          18.582,
          22.182,
          21.951,
          21.726,
          18.783,
          20.585,
          22.452,
          19.319,
          17.568,
          20.582,
          20.419,
          16.754,
          17.649,
          19.931,
          17.159,
          14.754,
          16.79,
          18.441,
          21.658,
          21.144,
          20.682,
          23.975,
          25.603,
          24.467,
          25.511,
          28.977,
          29.265,
          28.791,
          31.314,
          33.823,
          33.263,
          33.591,
          36.85,
          38.231,
          37.134,
          38.761,
          41.937,
          41.745,
          40.991,
          43.729,
          46.482,
          49.809,
          48.224,
          48.072,
          44.532
         ],
         "z": [
          7.715,
          10.121,
          9.967,
          13.251,
          15.664,
          18.1,
          15.272,
          14.047,
          17.579,
          17.9,
          14.69,
          15.589,
          18.967,
          17.449,
          14.984,
          17.747,
          19.704,
          16.668,
          15.191,
          17.753,
          17.066,
          14.102,
          12.508,
          12.934,
          9.486,
          7.163,
          4.785,
          7.511,
          9.26,
          5.968,
          5.167,
          8.515,
          7.847,
          4.283,
          3.112,
          0.858,
          2.397,
          1.417,
          3.078,
          6.215,
          6.053,
          6.346,
          9.622,
          11.118,
          9.953,
          12.554,
          14.148,
          17.488,
          17.678,
          17.072,
          19.631,
          22.112,
          21.503,
          22.002,
          25.268,
          26.572,
          25.212,
          26.848,
          30.245,
          29.583,
          28.832,
          31.287,
          34.017,
          36.614,
          39.718,
          38.8,
          41.922,
          45.61,
          47.576,
          50.299,
          53.324,
          51.408,
          52.567,
          50.138,
          50.314,
          49.53,
          46.677,
          45.173,
          45.437,
          43.93,
          41.259,
          40.364,
          40.026,
          37.814,
          35.749,
          35.227,
          34.272,
          31.721,
          30.174,
          29.965,
          28.124,
          24.729,
          22.924,
          23.265,
          25.603,
          27.938,
          25.015,
          23.625,
          27.012,
          27.407,
          27.238,
          27.034,
          29.002,
          30.452,
          27.991,
          28.48,
          29.028,
          31.827,
          33.589,
          36.081,
          37.185,
          37.398,
          39.201,
          41.821,
          42.112,
          42.736,
          45.133,
          46.951,
          47.563,
          48.87,
          51.226,
          52.515,
          53.55,
          50.545,
          49.037,
          45.419,
          44.423,
          46.742,
          45.711,
          42.106,
          42.813,
          44.401,
          41.506,
          38.978,
          40.746,
          40.87,
          37.249,
          36.103,
          38.082,
          36.709,
          33.154,
          33.381,
          34.856,
          32.217,
          29.367,
          30.525,
          30.897,
          27.522,
          25.66,
          27.137,
          26.074,
          22.598,
          22.294,
          22.885,
          19.558,
          17.872,
          19.36,
          22.003,
          25.268,
          25.576,
          26.599,
          29.788,
          30.045,
          31.219,
          33.974,
          37.58,
          39.494,
          41.576,
          38.601,
          36.549,
          39.17,
          39.482,
          35.789,
          36.251,
          39.098,
          36.719,
          34.141,
          36.564,
          37.123,
          34.742,
          36.725,
          39.037,
          42.121,
          41.637,
          40.792,
          43.947,
          46.135,
          44.624,
          44.818,
          48.564,
          48.97,
          46.995,
          49.006,
          52.295,
          51.197,
          50.362,
          53.757,
          55.69,
          53.813,
          54.467,
          58.161,
          58.725,
          58.076,
          59.1,
          60.974,
          59.099,
          58.482
         ]
        }
       ],
       "layout": {
        "legend": {
         "itemsizing": "constant",
         "tracegroupgap": 0
        },
        "margin": {
         "b": 0,
         "l": 0,
         "r": 0,
         "t": 0
        },
        "scene": {
         "domain": {
          "x": [
           0,
           1
          ],
          "y": [
           0,
           1
          ]
         },
         "xaxis": {
          "title": {
           "text": "x_coord"
          }
         },
         "yaxis": {
          "title": {
           "text": "y_coord"
          }
         },
         "zaxis": {
          "title": {
           "text": "z_coord"
          }
         }
        },
        "template": {
         "data": {
          "bar": [
           {
            "error_x": {
             "color": "#f2f5fa"
            },
            "error_y": {
             "color": "#f2f5fa"
            },
            "marker": {
             "line": {
              "color": "rgb(17,17,17)",
              "width": 0.5
             }
            },
            "type": "bar"
           }
          ],
          "barpolar": [
           {
            "marker": {
             "line": {
              "color": "rgb(17,17,17)",
              "width": 0.5
             }
            },
            "type": "barpolar"
           }
          ],
          "carpet": [
           {
            "aaxis": {
             "endlinecolor": "#A2B1C6",
             "gridcolor": "#506784",
             "linecolor": "#506784",
             "minorgridcolor": "#506784",
             "startlinecolor": "#A2B1C6"
            },
            "baxis": {
             "endlinecolor": "#A2B1C6",
             "gridcolor": "#506784",
             "linecolor": "#506784",
             "minorgridcolor": "#506784",
             "startlinecolor": "#A2B1C6"
            },
            "type": "carpet"
           }
          ],
          "choropleth": [
           {
            "colorbar": {
             "outlinewidth": 0,
             "ticks": ""
            },
            "type": "choropleth"
           }
          ],
          "contour": [
           {
            "colorbar": {
             "outlinewidth": 0,
             "ticks": ""
            },
            "colorscale": [
             [
              0,
              "#0d0887"
             ],
             [
              0.1111111111111111,
              "#46039f"
             ],
             [
              0.2222222222222222,
              "#7201a8"
             ],
             [
              0.3333333333333333,
              "#9c179e"
             ],
             [
              0.4444444444444444,
              "#bd3786"
             ],
             [
              0.5555555555555556,
              "#d8576b"
             ],
             [
              0.6666666666666666,
              "#ed7953"
             ],
             [
              0.7777777777777778,
              "#fb9f3a"
             ],
             [
              0.8888888888888888,
              "#fdca26"
             ],
             [
              1,
              "#f0f921"
             ]
            ],
            "type": "contour"
           }
          ],
          "contourcarpet": [
           {
            "colorbar": {
             "outlinewidth": 0,
             "ticks": ""
            },
            "type": "contourcarpet"
           }
          ],
          "heatmap": [
           {
            "colorbar": {
             "outlinewidth": 0,
             "ticks": ""
            },
            "colorscale": [
             [
              0,
              "#0d0887"
             ],
             [
              0.1111111111111111,
              "#46039f"
             ],
             [
              0.2222222222222222,
              "#7201a8"
             ],
             [
              0.3333333333333333,
              "#9c179e"
             ],
             [
              0.4444444444444444,
              "#bd3786"
             ],
             [
              0.5555555555555556,
              "#d8576b"
             ],
             [
              0.6666666666666666,
              "#ed7953"
             ],
             [
              0.7777777777777778,
              "#fb9f3a"
             ],
             [
              0.8888888888888888,
              "#fdca26"
             ],
             [
              1,
              "#f0f921"
             ]
            ],
            "type": "heatmap"
           }
          ],
          "heatmapgl": [
           {
            "colorbar": {
             "outlinewidth": 0,
             "ticks": ""
            },
            "colorscale": [
             [
              0,
              "#0d0887"
             ],
             [
              0.1111111111111111,
              "#46039f"
             ],
             [
              0.2222222222222222,
              "#7201a8"
             ],
             [
              0.3333333333333333,
              "#9c179e"
             ],
             [
              0.4444444444444444,
              "#bd3786"
             ],
             [
              0.5555555555555556,
              "#d8576b"
             ],
             [
              0.6666666666666666,
              "#ed7953"
             ],
             [
              0.7777777777777778,
              "#fb9f3a"
             ],
             [
              0.8888888888888888,
              "#fdca26"
             ],
             [
              1,
              "#f0f921"
             ]
            ],
            "type": "heatmapgl"
           }
          ],
          "histogram": [
           {
            "marker": {
             "colorbar": {
              "outlinewidth": 0,
              "ticks": ""
             }
            },
            "type": "histogram"
           }
          ],
          "histogram2d": [
           {
            "colorbar": {
             "outlinewidth": 0,
             "ticks": ""
            },
            "colorscale": [
             [
              0,
              "#0d0887"
             ],
             [
              0.1111111111111111,
              "#46039f"
             ],
             [
              0.2222222222222222,
              "#7201a8"
             ],
             [
              0.3333333333333333,
              "#9c179e"
             ],
             [
              0.4444444444444444,
              "#bd3786"
             ],
             [
              0.5555555555555556,
              "#d8576b"
             ],
             [
              0.6666666666666666,
              "#ed7953"
             ],
             [
              0.7777777777777778,
              "#fb9f3a"
             ],
             [
              0.8888888888888888,
              "#fdca26"
             ],
             [
              1,
              "#f0f921"
             ]
            ],
            "type": "histogram2d"
           }
          ],
          "histogram2dcontour": [
           {
            "colorbar": {
             "outlinewidth": 0,
             "ticks": ""
            },
            "colorscale": [
             [
              0,
              "#0d0887"
             ],
             [
              0.1111111111111111,
              "#46039f"
             ],
             [
              0.2222222222222222,
              "#7201a8"
             ],
             [
              0.3333333333333333,
              "#9c179e"
             ],
             [
              0.4444444444444444,
              "#bd3786"
             ],
             [
              0.5555555555555556,
              "#d8576b"
             ],
             [
              0.6666666666666666,
              "#ed7953"
             ],
             [
              0.7777777777777778,
              "#fb9f3a"
             ],
             [
              0.8888888888888888,
              "#fdca26"
             ],
             [
              1,
              "#f0f921"
             ]
            ],
            "type": "histogram2dcontour"
           }
          ],
          "mesh3d": [
           {
            "colorbar": {
             "outlinewidth": 0,
             "ticks": ""
            },
            "type": "mesh3d"
           }
          ],
          "parcoords": [
           {
            "line": {
             "colorbar": {
              "outlinewidth": 0,
              "ticks": ""
             }
            },
            "type": "parcoords"
           }
          ],
          "pie": [
           {
            "automargin": true,
            "type": "pie"
           }
          ],
          "scatter": [
           {
            "marker": {
             "line": {
              "color": "#283442"
             }
            },
            "type": "scatter"
           }
          ],
          "scatter3d": [
           {
            "line": {
             "colorbar": {
              "outlinewidth": 0,
              "ticks": ""
             }
            },
            "marker": {
             "colorbar": {
              "outlinewidth": 0,
              "ticks": ""
             }
            },
            "type": "scatter3d"
           }
          ],
          "scattercarpet": [
           {
            "marker": {
             "colorbar": {
              "outlinewidth": 0,
              "ticks": ""
             }
            },
            "type": "scattercarpet"
           }
          ],
          "scattergeo": [
           {
            "marker": {
             "colorbar": {
              "outlinewidth": 0,
              "ticks": ""
             }
            },
            "type": "scattergeo"
           }
          ],
          "scattergl": [
           {
            "marker": {
             "line": {
              "color": "#283442"
             }
            },
            "type": "scattergl"
           }
          ],
          "scattermapbox": [
           {
            "marker": {
             "colorbar": {
              "outlinewidth": 0,
              "ticks": ""
             }
            },
            "type": "scattermapbox"
           }
          ],
          "scatterpolar": [
           {
            "marker": {
             "colorbar": {
              "outlinewidth": 0,
              "ticks": ""
             }
            },
            "type": "scatterpolar"
           }
          ],
          "scatterpolargl": [
           {
            "marker": {
             "colorbar": {
              "outlinewidth": 0,
              "ticks": ""
             }
            },
            "type": "scatterpolargl"
           }
          ],
          "scatterternary": [
           {
            "marker": {
             "colorbar": {
              "outlinewidth": 0,
              "ticks": ""
             }
            },
            "type": "scatterternary"
           }
          ],
          "surface": [
           {
            "colorbar": {
             "outlinewidth": 0,
             "ticks": ""
            },
            "colorscale": [
             [
              0,
              "#0d0887"
             ],
             [
              0.1111111111111111,
              "#46039f"
             ],
             [
              0.2222222222222222,
              "#7201a8"
             ],
             [
              0.3333333333333333,
              "#9c179e"
             ],
             [
              0.4444444444444444,
              "#bd3786"
             ],
             [
              0.5555555555555556,
              "#d8576b"
             ],
             [
              0.6666666666666666,
              "#ed7953"
             ],
             [
              0.7777777777777778,
              "#fb9f3a"
             ],
             [
              0.8888888888888888,
              "#fdca26"
             ],
             [
              1,
              "#f0f921"
             ]
            ],
            "type": "surface"
           }
          ],
          "table": [
           {
            "cells": {
             "fill": {
              "color": "#506784"
             },
             "line": {
              "color": "rgb(17,17,17)"
             }
            },
            "header": {
             "fill": {
              "color": "#2a3f5f"
             },
             "line": {
              "color": "rgb(17,17,17)"
             }
            },
            "type": "table"
           }
          ]
         },
         "layout": {
          "annotationdefaults": {
           "arrowcolor": "#f2f5fa",
           "arrowhead": 0,
           "arrowwidth": 1
          },
          "coloraxis": {
           "colorbar": {
            "outlinewidth": 0,
            "ticks": ""
           }
          },
          "colorscale": {
           "diverging": [
            [
             0,
             "#8e0152"
            ],
            [
             0.1,
             "#c51b7d"
            ],
            [
             0.2,
             "#de77ae"
            ],
            [
             0.3,
             "#f1b6da"
            ],
            [
             0.4,
             "#fde0ef"
            ],
            [
             0.5,
             "#f7f7f7"
            ],
            [
             0.6,
             "#e6f5d0"
            ],
            [
             0.7,
             "#b8e186"
            ],
            [
             0.8,
             "#7fbc41"
            ],
            [
             0.9,
             "#4d9221"
            ],
            [
             1,
             "#276419"
            ]
           ],
           "sequential": [
            [
             0,
             "#0d0887"
            ],
            [
             0.1111111111111111,
             "#46039f"
            ],
            [
             0.2222222222222222,
             "#7201a8"
            ],
            [
             0.3333333333333333,
             "#9c179e"
            ],
            [
             0.4444444444444444,
             "#bd3786"
            ],
            [
             0.5555555555555556,
             "#d8576b"
            ],
            [
             0.6666666666666666,
             "#ed7953"
            ],
            [
             0.7777777777777778,
             "#fb9f3a"
            ],
            [
             0.8888888888888888,
             "#fdca26"
            ],
            [
             1,
             "#f0f921"
            ]
           ],
           "sequentialminus": [
            [
             0,
             "#0d0887"
            ],
            [
             0.1111111111111111,
             "#46039f"
            ],
            [
             0.2222222222222222,
             "#7201a8"
            ],
            [
             0.3333333333333333,
             "#9c179e"
            ],
            [
             0.4444444444444444,
             "#bd3786"
            ],
            [
             0.5555555555555556,
             "#d8576b"
            ],
            [
             0.6666666666666666,
             "#ed7953"
            ],
            [
             0.7777777777777778,
             "#fb9f3a"
            ],
            [
             0.8888888888888888,
             "#fdca26"
            ],
            [
             1,
             "#f0f921"
            ]
           ]
          },
          "colorway": [
           "#636efa",
           "#EF553B",
           "#00cc96",
           "#ab63fa",
           "#FFA15A",
           "#19d3f3",
           "#FF6692",
           "#B6E880",
           "#FF97FF",
           "#FECB52"
          ],
          "font": {
           "color": "#f2f5fa"
          },
          "geo": {
           "bgcolor": "rgb(17,17,17)",
           "lakecolor": "rgb(17,17,17)",
           "landcolor": "rgb(17,17,17)",
           "showlakes": true,
           "showland": true,
           "subunitcolor": "#506784"
          },
          "hoverlabel": {
           "align": "left"
          },
          "hovermode": "closest",
          "mapbox": {
           "style": "dark"
          },
          "paper_bgcolor": "rgb(17,17,17)",
          "plot_bgcolor": "rgb(17,17,17)",
          "polar": {
           "angularaxis": {
            "gridcolor": "#506784",
            "linecolor": "#506784",
            "ticks": ""
           },
           "bgcolor": "rgb(17,17,17)",
           "radialaxis": {
            "gridcolor": "#506784",
            "linecolor": "#506784",
            "ticks": ""
           }
          },
          "scene": {
           "xaxis": {
            "backgroundcolor": "rgb(17,17,17)",
            "gridcolor": "#506784",
            "gridwidth": 2,
            "linecolor": "#506784",
            "showbackground": true,
            "ticks": "",
            "zerolinecolor": "#C8D4E3"
           },
           "yaxis": {
            "backgroundcolor": "rgb(17,17,17)",
            "gridcolor": "#506784",
            "gridwidth": 2,
            "linecolor": "#506784",
            "showbackground": true,
            "ticks": "",
            "zerolinecolor": "#C8D4E3"
           },
           "zaxis": {
            "backgroundcolor": "rgb(17,17,17)",
            "gridcolor": "#506784",
            "gridwidth": 2,
            "linecolor": "#506784",
            "showbackground": true,
            "ticks": "",
            "zerolinecolor": "#C8D4E3"
           }
          },
          "shapedefaults": {
           "line": {
            "color": "#f2f5fa"
           }
          },
          "sliderdefaults": {
           "bgcolor": "#C8D4E3",
           "bordercolor": "rgb(17,17,17)",
           "borderwidth": 1,
           "tickwidth": 0
          },
          "ternary": {
           "aaxis": {
            "gridcolor": "#506784",
            "linecolor": "#506784",
            "ticks": ""
           },
           "baxis": {
            "gridcolor": "#506784",
            "linecolor": "#506784",
            "ticks": ""
           },
           "bgcolor": "rgb(17,17,17)",
           "caxis": {
            "gridcolor": "#506784",
            "linecolor": "#506784",
            "ticks": ""
           }
          },
          "title": {
           "x": 0.05
          },
          "updatemenudefaults": {
           "bgcolor": "#506784",
           "borderwidth": 0
          },
          "xaxis": {
           "automargin": true,
           "gridcolor": "#283442",
           "linecolor": "#506784",
           "ticks": "",
           "title": {
            "standoff": 15
           },
           "zerolinecolor": "#283442",
           "zerolinewidth": 2
          },
          "yaxis": {
           "automargin": true,
           "gridcolor": "#283442",
           "linecolor": "#506784",
           "ticks": "",
           "title": {
            "standoff": 15
           },
           "zerolinecolor": "#283442",
           "zerolinewidth": 2
          }
         }
        }
       }
      }
     },
     "metadata": {}
    }
   ],
   "source": [
    "df_to_plot_1 = df_model['1'].query('atom_name == \"CA\"').reset_index(drop=True); df_to_plot_1['Source'] = 'MODEL 1'\n",
    "\n",
    "df_to_plot_2 = df_model['2'].query('atom_name == \"CA\"').reset_index(drop=True); df_to_plot_2['Source'] = 'MODEL 2'\n",
    "\n",
    "df_to_plot_1['size'] = 1\n",
    "df_to_plot_2['size'] = 1\n",
    "\n",
    "df_to_plot = pd.concat([df_to_plot_1,df_to_plot_2],ignore_index=True, sort=False)\n",
    "\n",
    "# TODO: plot it with `plotly`\n",
    "fig = px.scatter_3d(df_to_plot, x='x_coord', y='y_coord', z='z_coord',\n",
    "              color='Source',size='size',size_max=10, template='plotly_dark')\n",
    "fig.update_traces(mode='markers+lines')\n",
    "fig.update_layout(margin=dict(l=0, r=0, b=0, t=0))\n",
    "fig.show()"
   ]
  },
  {
   "source": [
    "### 5. Get all residues within the given radius from the source residue\n",
    "\n",
    "* by getting residue's index\n",
    "\n",
    "#### K-D Tree\n",
    "\n",
    "> In computer science, a k-d tree (short for k-dimensional tree) is a space-partitioning data structure for organizing points in a k-dimensional space. k-d trees are a useful data structure for several applications, such as searches involving a multidimensional search key (e.g. range searches and nearest neighbor searches). k-d trees are a special case of binary space partitioning trees.\n",
    "\n",
    "> Wikipedia contributors. (2020, September 9). K-d tree. In Wikipedia, The Free Encyclopedia. Retrieved 13:47, September 18, 2020, from https://en.wikipedia.org/w/index.php?title=K-d_tree&oldid=977572387"
   ],
   "cell_type": "markdown",
   "metadata": {}
  },
  {
   "cell_type": "code",
   "execution_count": 17,
   "metadata": {
    "tags": []
   },
   "outputs": [
    {
     "output_type": "stream",
     "name": "stdout",
     "text": "query_site: 141\nfrom MODEL 1: [81, 82, 84, 85, 88, 95, 133, 134, 135, 136, 137, 138, 139, 140, 141, 142, 143, 144, 170, 171, 173, 174]\nfrom MODEL 2: [81, 84, 85, 88, 89, 94, 95, 96, 98, 99, 134, 135, 136, 137, 138, 139, 140, 141, 142, 143, 144, 145, 146]\nfrom interse: [81, 84, 85, 88, 95, 134, 135, 136, 137, 138, 139, 140, 141, 142, 143, 144]\n\nquery_site: 142\nfrom MODEL 1: [81, 84, 85, 88, 95, 96, 98, 99, 134, 135, 136, 137, 138, 139, 140, 141, 142, 143, 144, 145, 146]\nfrom MODEL 2: [95, 96, 99, 135, 136, 137, 138, 139, 140, 141, 142, 143, 144, 145, 146, 147, 170]\nfrom interse: [95, 96, 99, 135, 136, 137, 138, 139, 140, 141, 142, 143, 144, 145, 146]\n\n"
    }
   ],
   "source": [
    "tree1 = KDTree(mol1)\n",
    "tree2 = KDTree(mol2)\n",
    "# Once built, multiple uses\n",
    "query_sites = [\"141\",\"142\"]\n",
    "\n",
    "df_model_1_sites_df = df_model_1_df.query(f'residue_site in {query_sites}')\n",
    "df_model_2_sites_df = df_model_2_df.query(f'residue_site in {query_sites}')\n",
    "\n",
    "\n",
    "res_index_1 = tree1.query_radius(\n",
    "    df_model_1_sites_df[['x_coord','y_coord','z_coord']].to_numpy(), r=10)\n",
    "\n",
    "res_index_2 = tree2.query_radius(\n",
    "    df_model_2_sites_df[['x_coord','y_coord','z_coord']].to_numpy(), r=10)\n",
    "\n",
    "res_indexes = [np.intersect1d(*i) for i in zip(res_index_1,res_index_2)]\n",
    "\n",
    "for query_site,i,j,k in zip(query_sites,res_index_1, res_index_2, res_indexes):\n",
    "    print('query_site:', query_site)\n",
    "    print('from MODEL 1:', sorted(i))\n",
    "    print('from MODEL 2:', sorted(j))\n",
    "    print('from interse:', sorted(k))\n",
    "    print()"
   ]
  },
  {
   "source": [
    "### 6. Calculate RMSD of Particular Subset of SuperImposed Structure (CA ATOM only)"
   ],
   "cell_type": "markdown",
   "metadata": {}
  },
  {
   "cell_type": "code",
   "execution_count": 19,
   "metadata": {
    "tags": []
   },
   "outputs": [
    {
     "output_type": "stream",
     "name": "stdout",
     "text": "0.37412670536419396\n0.3888843015602454\n"
    }
   ],
   "source": [
    "for res_index in res_indexes:\n",
    "    print(get_rmsd(mol1[res_index], mol2[res_index]))"
   ]
  },
  {
   "cell_type": "code",
   "execution_count": 20,
   "metadata": {},
   "outputs": [
    {
     "output_type": "execute_result",
     "data": {
      "text/plain": "{'141': 0.37412670536419396, '142': 0.3888843015602454}"
     },
     "metadata": {},
     "execution_count": 20
    }
   ],
   "source": [
    "dict(zip(df_model_1_sites_df.residue_site, (get_rmsd(mol1[res_index], mol2[res_index]) for res_index in res_indexes)))"
   ]
  },
  {
   "source": [
    "### 7. Visualize Particular Subset of SuperImposed Structure (CA ATOM only)\n",
    "\n",
    "* get subset dataframe: e.g. `df_to_plot_1.loc[res_index]`"
   ],
   "cell_type": "markdown",
   "metadata": {}
  },
  {
   "cell_type": "code",
   "execution_count": 21,
   "metadata": {},
   "outputs": [
    {
     "output_type": "display_data",
     "data": {
      "application/vnd.plotly.v1+json": {
       "config": {
        "plotlyServerURL": "https://plot.ly"
       },
       "data": [
        {
         "hoverlabel": {
          "namelength": 0
         },
         "hovertemplate": "Source=MODEL 1<br>x_coord=%{x}<br>y_coord=%{y}<br>z_coord=%{z}<br>size=%{marker.size}",
         "legendgroup": "Source=MODEL 1",
         "marker": {
          "color": "#636efa",
          "size": [
           1,
           1,
           1,
           1,
           1,
           1,
           1,
           1,
           1,
           1,
           1,
           1,
           1,
           1,
           1,
           1,
           1,
           1,
           1,
           1,
           1,
           1,
           1,
           1,
           1,
           1,
           1,
           1,
           1,
           1,
           1,
           1,
           1,
           1,
           1,
           1,
           1,
           1,
           1,
           1,
           1,
           1,
           1,
           1,
           1,
           1,
           1,
           1,
           1,
           1,
           1,
           1,
           1,
           1,
           1,
           1,
           1,
           1,
           1,
           1,
           1,
           1,
           1,
           1,
           1,
           1,
           1,
           1,
           1,
           1,
           1,
           1,
           1,
           1,
           1,
           1,
           1,
           1,
           1,
           1,
           1,
           1,
           1,
           1,
           1,
           1,
           1,
           1,
           1,
           1,
           1,
           1,
           1,
           1,
           1,
           5,
           5,
           1,
           1,
           5,
           1,
           1,
           1,
           1,
           1,
           1,
           1,
           1,
           1,
           1,
           1,
           1,
           1,
           1,
           1,
           1,
           1,
           1,
           1,
           1,
           1,
           1,
           1,
           1,
           1,
           1,
           1,
           1,
           1,
           1,
           1,
           1,
           1,
           1,
           1,
           5,
           5,
           5,
           5,
           5,
           5,
           5,
           5,
           5,
           5,
           5,
           5,
           1,
           1,
           1,
           1,
           1,
           1,
           1,
           1,
           1,
           1,
           1,
           1,
           1,
           1,
           1,
           1,
           1,
           1,
           1,
           1,
           1,
           1,
           1,
           1,
           1,
           1,
           1,
           1,
           1,
           1,
           1,
           1,
           1,
           1,
           1,
           1,
           1,
           1,
           1,
           1,
           1,
           1,
           1,
           1,
           1,
           1
          ],
          "sizemode": "area",
          "sizeref": 0.0125,
          "symbol": "circle"
         },
         "mode": "markers+lines",
         "name": "Source=MODEL 1",
         "scene": "scene",
         "showlegend": true,
         "type": "scatter3d",
         "x": [
          11.269,
          8.644,
          9.915,
          8.743,
          10.651,
          11.108,
          12.332,
          14.597,
          16.145,
          16.279,
          18.288,
          20.486,
          21.503,
          22.24,
          24.469,
          26.172,
          27.325,
          28.783,
          30.417,
          30.799,
          29.984,
          32.404,
          31.474,
          27.765,
          26.271,
          22.847,
          24.008,
          24.777,
          21.672,
          19.531,
          21.142,
          20.674,
          16.956,
          17.078,
          15.706,
          16.782,
          18.574,
          15.864,
          13.334,
          15.32,
          15.628,
          11.793,
          12.192,
          15.705,
          17.062,
          20.863,
          23.443,
          22.86,
          19.141,
          19.907,
          22.485,
          20.2,
          17.406,
          19.856,
          21.3,
          17.842,
          16.714,
          19.707,
          18.889,
          15.206,
          15.704,
          18.417,
          18.973,
          16.254,
          17.318,
          17.108,
          14.792,
          14.771,
          12.668,
          10.431,
          12.346,
          15.861,
          18.853,
          20.432,
          23.732,
          21.995,
          20.237,
          23.56,
          25.084,
          22.385,
          21.906,
          25.587,
          25.63,
          22.551,
          23.853,
          27.244,
          25.537,
          23.384,
          26.381,
          28.146,
          25.348,
          26.396,
          29.607,
          30.698,
          27.729,
          29.44,
          30.52,
          26.908,
          25.675,
          28.417,
          27.69,
          24.101,
          22.418,
          19.869,
          16.16,
          13.118,
          12.47,
          15.957,
          15.055,
          12.092,
          14.407,
          17.299,
          14.536,
          12.975,
          16.477,
          17.466,
          14.241,
          15.178,
          18.639,
          17.383,
          14.754,
          17.712,
          19.358,
          21.574,
          21.817,
          20.854,
          24.425,
          25.8,
          22.996,
          23.789,
          27.56,
          26.958,
          24.877,
          27.37,
          30.445,
          28.839,
          28.032,
          31.336,
          33.242,
          30.958,
          31.462,
          35.245,
          35.438,
          33.132,
          34.894,
          38.335,
          36.986,
          35.398,
          38.462,
          40.827,
          56.792,
          57.952,
          57.768,
          54.801,
          52.838,
          53.197,
          51.287,
          48.64,
          48.108,
          47.332,
          44.378,
          42.95,
          42.93,
          41.483,
          38.194,
          36.441,
          36.838,
          33.934,
          36.094,
          37.974,
          34.709,
          32.86,
          35.703,
          36.106,
          32.322,
          32.082,
          34.915,
          32.975,
          29.699,
          31.441,
          33.175,
          29.644,
          28.381,
          31.331,
          30.437,
          26.657,
          27.14,
          29.642,
          27.214,
          28.822,
          31.845,
          35.415,
          35.746
         ],
         "y": [
          21.483,
          22.799,
          26.334,
          27.754,
          29.106,
          25.822,
          23.923,
          26.74,
          26.889,
          23.093,
          22.891,
          25.888,
          24.252,
          20.978,
          22.865,
          24.885,
          21.58,
          20.504,
          23.826,
          26.129,
          29.851,
          30.994,
          28.222,
          28.916,
          30.783,
          31.415,
          29.704,
          26.473,
          26.569,
          26.896,
          23.764,
          21.731,
          22.469,
          21.865,
          25.215,
          28.302,
          31.245,
          33.731,
          31.347,
          31.416,
          35.222,
          35.432,
          33.636,
          34.592,
          37.974,
          37.691,
          35.864,
          38.383,
          37.641,
          33.911,
          34.201,
          36.305,
          33.728,
          30.938,
          32.579,
          33.03,
          29.487,
          27.739,
          29.388,
          28.685,
          25.031,
          24.409,
          27.057,
          25.301,
          26.824,
          30.567,
          31.436,
          30.474,
          27.626,
          28.848,
          29.429,
          28.742,
          30.623,
          33.16,
          31.201,
          28.184,
          30.087,
          31.642,
          28.137,
          26.233,
          29.102,
          29.125,
          25.36,
          25.375,
          28.328,
          26.58,
          23.37,
          25.185,
          27.097,
          23.706,
          21.775,
          23.242,
          24.026,
          27.644,
          28.04,
          30.688,
          32.563,
          32.595,
          33.923,
          36.616,
          38.158,
          39.173,
          41.88,
          40.481,
          39.86,
          41.063,
          37.537,
          38.074,
          41.495,
          39.994,
          37.34,
          39.624,
          41.776,
          38.819,
          37.597,
          41.106,
          41.309,
          38.009,
          39.288,
          42.487,
          40.602,
          38.71,
          42.054,
          43.07,
          46.721,
          47.01,
          47.771,
          44.744,
          42.27,
          43.138,
          43.052,
          39.517,
          38.303,
          39.73,
          38.218,
          34.756,
          35.39,
          36.652,
          33.892,
          31.26,
          32.638,
          32.845,
          29.336,
          27.897,
          29.851,
          28.397,
          24.885,
          25.251,
          26.512,
          23.779,
          21.613,
          23.012,
          20.938,
          22.162,
          22.924,
          19.232,
          18.231,
          20.977,
          20.455,
          16.859,
          17.669,
          20.036,
          17.208,
          14.524,
          16.393,
          18.273,
          21.586,
          21.122,
          20.877,
          24.096,
          25.843,
          24.512,
          25.344,
          28.958,
          29.265,
          28.569,
          30.942,
          33.669,
          33.045,
          33.061,
          36.322,
          37.716,
          36.387,
          38.019,
          41.325,
          41.017,
          40.165,
          42.949,
          45.881,
          49.235,
          47.897,
          47.562,
          44.118
         ],
         "z": [
          7.005,
          9.52,
          9.881,
          13.17,
          16.152,
          17.978,
          14.946,
          13.779,
          17.259,
          17.675,
          14.437,
          15.318,
          18.694,
          16.94,
          14.482,
          17.217,
          18.677,
          15.3,
          14.255,
          17.301,
          17.411,
          14.711,
          12.308,
          12.697,
          9.738,
          8.276,
          5.042,
          6.913,
          9.08,
          5.91,
          4.378,
          7.553,
          7.372,
          3.588,
          2.354,
          0.475,
          2.118,
          1.314,
          2.887,
          6.184,
          5.968,
          6.331,
          9.695,
          10.908,
          9.71,
          10.548,
          12.729,
          15.588,
          15.957,
          15.923,
          18.745,
          20.89,
          20.531,
          21.256,
          24.386,
          25.812,
          24.828,
          26.405,
          29.767,
          29.394,
          28.548,
          31.12,
          33.817,
          35.784,
          39.182,
          38.326,
          41.283,
          45.073,
          46.492,
          49.304,
          52.533,
          51.348,
          52.74,
          50.445,
          50.632,
          49.293,
          46.548,
          45.375,
          45.39,
          43.464,
          41.078,
          40.269,
          39.727,
          37.525,
          35.5,
          34.939,
          33.778,
          31.265,
          29.874,
          29.603,
          27.765,
          24.328,
          22.644,
          22.996,
          25.332,
          27.426,
          24.321,
          23.203,
          26.545,
          26.784,
          23.443,
          24.132,
          26.129,
          28.608,
          27.797,
          29.761,
          31.007,
          32.475,
          33.928,
          35.771,
          37.229,
          38.221,
          39.837,
          41.696,
          42.758,
          43.765,
          45.824,
          47.542,
          48.419,
          50.007,
          52.089,
          53.638,
          54.589,
          51.67,
          50.551,
          46.884,
          46.001,
          47.873,
          46.754,
          43.164,
          43.694,
          45.095,
          42.269,
          39.781,
          41.363,
          41.318,
          37.716,
          36.642,
          38.478,
          37.014,
          33.583,
          33.49,
          34.941,
          32.279,
          29.602,
          30.457,
          30.732,
          27.282,
          25.588,
          26.81,
          33.263,
          36.654,
          39.91,
          42.005,
          38.858,
          37.839,
          41.035,
          40.613,
          36.862,
          37.904,
          40.129,
          37.46,
          34.885,
          37.248,
          37.382,
          34.57,
          36.482,
          38.971,
          42.13,
          41.674,
          40.709,
          43.763,
          46.093,
          44.865,
          44.959,
          48.719,
          49.351,
          47.569,
          49.359,
          52.727,
          51.874,
          51.549,
          54.878,
          56.628,
          54.962,
          55.452,
          59.143,
          59.646,
          58.904,
          60.07,
          62.022,
          60.763,
          59.147
         ]
        },
        {
         "hoverlabel": {
          "namelength": 0
         },
         "hovertemplate": "Source=MODEL 2<br>x_coord=%{x}<br>y_coord=%{y}<br>z_coord=%{z}<br>size=%{marker.size}",
         "legendgroup": "Source=MODEL 2",
         "marker": {
          "color": "#EF553B",
          "size": [
           1,
           1,
           1,
           1,
           1,
           1,
           1,
           1,
           1,
           1,
           1,
           1,
           1,
           1,
           1,
           1,
           1,
           1,
           1,
           1,
           1,
           1,
           1,
           1,
           1,
           1,
           1,
           1,
           1,
           1,
           1,
           1,
           1,
           1,
           1,
           1,
           1,
           1,
           1,
           1,
           1,
           1,
           1,
           1,
           1,
           1,
           1,
           1,
           1,
           1,
           1,
           1,
           1,
           1,
           1,
           1,
           1,
           1,
           1,
           1,
           1,
           1,
           1,
           1,
           1,
           1,
           1,
           1,
           1,
           1,
           1,
           1,
           1,
           1,
           1,
           1,
           1,
           1,
           1,
           1,
           1,
           1,
           1,
           1,
           1,
           1,
           1,
           1,
           1,
           1,
           1,
           1,
           1,
           1,
           1,
           5,
           5,
           1,
           1,
           5,
           1,
           1,
           1,
           1,
           1,
           1,
           1,
           1,
           1,
           1,
           1,
           1,
           1,
           1,
           1,
           1,
           1,
           1,
           1,
           1,
           1,
           1,
           1,
           1,
           1,
           1,
           1,
           1,
           1,
           1,
           1,
           1,
           1,
           1,
           1,
           5,
           5,
           5,
           5,
           5,
           5,
           5,
           5,
           5,
           5,
           5,
           5,
           1,
           1,
           1,
           1,
           1,
           1,
           1,
           1,
           1,
           1,
           1,
           1,
           1,
           1,
           1,
           1,
           1,
           1,
           1,
           1,
           1,
           1,
           1,
           1,
           1,
           1,
           1,
           1,
           1,
           1,
           1,
           1,
           1,
           1,
           1,
           1,
           1,
           1,
           1,
           1,
           1,
           1,
           1,
           1,
           1,
           1,
           1,
           1,
           1,
           1,
           1,
           1,
           1,
           1,
           1,
           1,
           1,
           1,
           1,
           1
          ],
          "sizemode": "area",
          "sizeref": 0.0125,
          "symbol": "circle"
         },
         "mode": "markers+lines",
         "name": "Source=MODEL 2",
         "scene": "scene",
         "showlegend": true,
         "type": "scatter3d",
         "x": [
          11.689,
          9.553,
          10.405,
          8.641,
          10.772,
          10.935,
          12.176,
          14.706,
          15.997,
          16.139,
          18.105,
          20.502,
          21.077,
          21.852,
          24.202,
          25.825,
          26.597,
          28.039,
          30.229,
          30.129,
          29.637,
          31.981,
          29.966,
          26.738,
          26.668,
          23.803,
          24.872,
          25.225,
          22.023,
          20.179,
          21.536,
          20.457,
          17.008,
          17.034,
          16.204,
          17.663,
          19.494,
          16.993,
          14.302,
          16.396,
          16.866,
          13.178,
          13.188,
          16.451,
          18.492,
          21.169,
          23.69,
          23.683,
          19.951,
          20.2,
          22.943,
          20.905,
          17.965,
          20.176,
          21.451,
          17.917,
          16.872,
          19.762,
          18.716,
          15.096,
          15.774,
          18.57,
          18.742,
          16.619,
          17.33,
          16.451,
          14.462,
          14.886,
          12.94,
          10.711,
          12.743,
          15.925,
          18.925,
          20.54,
          23.769,
          22.059,
          20.21,
          23.364,
          25.102,
          22.248,
          21.723,
          25.389,
          25.582,
          22.521,
          23.865,
          27.133,
          25.413,
          23.245,
          26.209,
          28.224,
          25.371,
          26.2,
          29.365,
          30.018,
          27.07,
          28.955,
          30.35,
          26.918,
          25.877,
          28.615,
          27.631,
          23.968,
          21.315,
          18.201,
          15.453,
          11.841,
          11.056,
          13.638,
          12.248,
          9.965,
          12.618,
          15.452,
          13.328,
          12.468,
          16.131,
          17.02,
          14.157,
          15.142,
          18.584,
          17.212,
          14.885,
          18.002,
          19.45,
          21.567,
          21.148,
          20.2,
          23.675,
          25.398,
          23.081,
          23.871,
          27.565,
          27.192,
          25.081,
          27.514,
          30.484,
          28.927,
          27.917,
          31.304,
          33.129,
          30.909,
          31.201,
          34.956,
          35.273,
          33.069,
          34.793,
          38.231,
          37.165,
          35.505,
          38.128,
          40.986,
          39.502,
          38.788,
          42.415,
          43.874,
          42.529,
          43.953,
          47.39,
          49.536,
          49.893,
          53.662,
          56.749,
          56.781,
          60.535,
          60.877,
          58.271,
          59.19,
          57.781,
          55.162,
          53.821,
          53.785,
          51.715,
          49.449,
          48.715,
          47.99,
          45.665,
          43.849,
          43.814,
          42.173,
          39.035,
          36.585,
          36.904,
          33.961,
          36.09,
          37.866,
          34.555,
          32.823,
          35.702,
          35.813,
          32.066,
          32.149,
          34.909,
          32.918,
          29.769,
          31.559,
          33.098,
          29.7,
          28.451,
          31.231,
          30.507,
          26.787,
          27.184,
          29.72,
          27.261,
          28.734,
          31.598,
          34.848,
          35.932
         ],
         "y": [
          21.99,
          23.966,
          27.669,
          28.385,
          30.392,
          27.533,
          25.365,
          27.892,
          28.172,
          24.418,
          24.013,
          26.796,
          25.244,
          21.889,
          23.501,
          25.5,
          22.42,
          20.742,
          23.51,
          26.292,
          29.988,
          29.989,
          27.202,
          29.11,
          30.585,
          31.375,
          28.656,
          26.084,
          27.024,
          27.029,
          23.601,
          22.221,
          23.631,
          22.312,
          25.788,
          28.455,
          31.385,
          33.99,
          31.95,
          31.814,
          35.56,
          36.196,
          34.302,
          35.534,
          38.514,
          39.053,
          36.739,
          38.498,
          38.33,
          34.615,
          34.234,
          36.192,
          33.888,
          30.873,
          32.234,
          32.555,
          29.169,
          27.375,
          28.604,
          27.887,
          24.279,
          23.463,
          26.089,
          24.354,
          26.363,
          29.937,
          30.739,
          30.225,
          27.657,
          28.94,
          29.898,
          29.306,
          31.257,
          33.635,
          31.732,
          28.463,
          30.089,
          31.487,
          28.162,
          26.195,
          28.799,
          28.826,
          25.084,
          25.113,
          27.963,
          26.158,
          22.938,
          24.688,
          26.471,
          23.249,
          21.556,
          22.955,
          23.865,
          27.591,
          27.855,
          30.13,
          32.055,
          32.817,
          34.13,
          36.689,
          40.314,
          39.508,
          41.356,
          39.899,
          39.055,
          40.032,
          36.386,
          36.584,
          39.642,
          37.978,
          35.531,
          38.012,
          40.541,
          37.994,
          37.152,
          40.773,
          41.319,
          38.167,
          39.55,
          42.831,
          40.983,
          39.237,
          42.562,
          43.341,
          46.732,
          46.467,
          47.524,
          45.072,
          42.289,
          43.046,
          42.88,
          39.488,
          38.292,
          39.649,
          38.148,
          34.715,
          34.932,
          36.162,
          33.523,
          30.808,
          32.041,
          32.25,
          28.795,
          27.246,
          28.994,
          28.045,
          24.447,
          24.202,
          26.156,
          24.226,
          20.938,
          22.218,
          23.326,
          19.887,
          18.787,
          21.847,
          21.451,
          19.933,
          21.826,
          22.012,
          20.147,
          18.098,
          18.582,
          22.182,
          21.951,
          21.726,
          18.783,
          20.585,
          22.452,
          19.319,
          17.568,
          20.582,
          20.419,
          16.754,
          17.649,
          19.931,
          17.159,
          14.754,
          16.79,
          18.441,
          21.658,
          21.144,
          20.682,
          23.975,
          25.603,
          24.467,
          25.511,
          28.977,
          29.265,
          28.791,
          31.314,
          33.823,
          33.263,
          33.591,
          36.85,
          38.231,
          37.134,
          38.761,
          41.937,
          41.745,
          40.991,
          43.729,
          46.482,
          49.809,
          48.224,
          48.072,
          44.532
         ],
         "z": [
          7.715,
          10.121,
          9.967,
          13.251,
          15.664,
          18.1,
          15.272,
          14.047,
          17.579,
          17.9,
          14.69,
          15.589,
          18.967,
          17.449,
          14.984,
          17.747,
          19.704,
          16.668,
          15.191,
          17.753,
          17.066,
          14.102,
          12.508,
          12.934,
          9.486,
          7.163,
          4.785,
          7.511,
          9.26,
          5.968,
          5.167,
          8.515,
          7.847,
          4.283,
          3.112,
          0.858,
          2.397,
          1.417,
          3.078,
          6.215,
          6.053,
          6.346,
          9.622,
          11.118,
          9.953,
          12.554,
          14.148,
          17.488,
          17.678,
          17.072,
          19.631,
          22.112,
          21.503,
          22.002,
          25.268,
          26.572,
          25.212,
          26.848,
          30.245,
          29.583,
          28.832,
          31.287,
          34.017,
          36.614,
          39.718,
          38.8,
          41.922,
          45.61,
          47.576,
          50.299,
          53.324,
          51.408,
          52.567,
          50.138,
          50.314,
          49.53,
          46.677,
          45.173,
          45.437,
          43.93,
          41.259,
          40.364,
          40.026,
          37.814,
          35.749,
          35.227,
          34.272,
          31.721,
          30.174,
          29.965,
          28.124,
          24.729,
          22.924,
          23.265,
          25.603,
          27.938,
          25.015,
          23.625,
          27.012,
          27.407,
          27.238,
          27.034,
          29.002,
          30.452,
          27.991,
          28.48,
          29.028,
          31.827,
          33.589,
          36.081,
          37.185,
          37.398,
          39.201,
          41.821,
          42.112,
          42.736,
          45.133,
          46.951,
          47.563,
          48.87,
          51.226,
          52.515,
          53.55,
          50.545,
          49.037,
          45.419,
          44.423,
          46.742,
          45.711,
          42.106,
          42.813,
          44.401,
          41.506,
          38.978,
          40.746,
          40.87,
          37.249,
          36.103,
          38.082,
          36.709,
          33.154,
          33.381,
          34.856,
          32.217,
          29.367,
          30.525,
          30.897,
          27.522,
          25.66,
          27.137,
          26.074,
          22.598,
          22.294,
          22.885,
          19.558,
          17.872,
          19.36,
          22.003,
          25.268,
          25.576,
          26.599,
          29.788,
          30.045,
          31.219,
          33.974,
          37.58,
          39.494,
          41.576,
          38.601,
          36.549,
          39.17,
          39.482,
          35.789,
          36.251,
          39.098,
          36.719,
          34.141,
          36.564,
          37.123,
          34.742,
          36.725,
          39.037,
          42.121,
          41.637,
          40.792,
          43.947,
          46.135,
          44.624,
          44.818,
          48.564,
          48.97,
          46.995,
          49.006,
          52.295,
          51.197,
          50.362,
          53.757,
          55.69,
          53.813,
          54.467,
          58.161,
          58.725,
          58.076,
          59.1,
          60.974,
          59.099,
          58.482
         ]
        }
       ],
       "layout": {
        "legend": {
         "itemsizing": "constant",
         "tracegroupgap": 0
        },
        "margin": {
         "b": 0,
         "l": 0,
         "r": 0,
         "t": 0
        },
        "scene": {
         "domain": {
          "x": [
           0,
           1
          ],
          "y": [
           0,
           1
          ]
         },
         "xaxis": {
          "title": {
           "text": "x_coord"
          }
         },
         "yaxis": {
          "title": {
           "text": "y_coord"
          }
         },
         "zaxis": {
          "title": {
           "text": "z_coord"
          }
         }
        },
        "template": {
         "data": {
          "bar": [
           {
            "error_x": {
             "color": "#f2f5fa"
            },
            "error_y": {
             "color": "#f2f5fa"
            },
            "marker": {
             "line": {
              "color": "rgb(17,17,17)",
              "width": 0.5
             }
            },
            "type": "bar"
           }
          ],
          "barpolar": [
           {
            "marker": {
             "line": {
              "color": "rgb(17,17,17)",
              "width": 0.5
             }
            },
            "type": "barpolar"
           }
          ],
          "carpet": [
           {
            "aaxis": {
             "endlinecolor": "#A2B1C6",
             "gridcolor": "#506784",
             "linecolor": "#506784",
             "minorgridcolor": "#506784",
             "startlinecolor": "#A2B1C6"
            },
            "baxis": {
             "endlinecolor": "#A2B1C6",
             "gridcolor": "#506784",
             "linecolor": "#506784",
             "minorgridcolor": "#506784",
             "startlinecolor": "#A2B1C6"
            },
            "type": "carpet"
           }
          ],
          "choropleth": [
           {
            "colorbar": {
             "outlinewidth": 0,
             "ticks": ""
            },
            "type": "choropleth"
           }
          ],
          "contour": [
           {
            "colorbar": {
             "outlinewidth": 0,
             "ticks": ""
            },
            "colorscale": [
             [
              0,
              "#0d0887"
             ],
             [
              0.1111111111111111,
              "#46039f"
             ],
             [
              0.2222222222222222,
              "#7201a8"
             ],
             [
              0.3333333333333333,
              "#9c179e"
             ],
             [
              0.4444444444444444,
              "#bd3786"
             ],
             [
              0.5555555555555556,
              "#d8576b"
             ],
             [
              0.6666666666666666,
              "#ed7953"
             ],
             [
              0.7777777777777778,
              "#fb9f3a"
             ],
             [
              0.8888888888888888,
              "#fdca26"
             ],
             [
              1,
              "#f0f921"
             ]
            ],
            "type": "contour"
           }
          ],
          "contourcarpet": [
           {
            "colorbar": {
             "outlinewidth": 0,
             "ticks": ""
            },
            "type": "contourcarpet"
           }
          ],
          "heatmap": [
           {
            "colorbar": {
             "outlinewidth": 0,
             "ticks": ""
            },
            "colorscale": [
             [
              0,
              "#0d0887"
             ],
             [
              0.1111111111111111,
              "#46039f"
             ],
             [
              0.2222222222222222,
              "#7201a8"
             ],
             [
              0.3333333333333333,
              "#9c179e"
             ],
             [
              0.4444444444444444,
              "#bd3786"
             ],
             [
              0.5555555555555556,
              "#d8576b"
             ],
             [
              0.6666666666666666,
              "#ed7953"
             ],
             [
              0.7777777777777778,
              "#fb9f3a"
             ],
             [
              0.8888888888888888,
              "#fdca26"
             ],
             [
              1,
              "#f0f921"
             ]
            ],
            "type": "heatmap"
           }
          ],
          "heatmapgl": [
           {
            "colorbar": {
             "outlinewidth": 0,
             "ticks": ""
            },
            "colorscale": [
             [
              0,
              "#0d0887"
             ],
             [
              0.1111111111111111,
              "#46039f"
             ],
             [
              0.2222222222222222,
              "#7201a8"
             ],
             [
              0.3333333333333333,
              "#9c179e"
             ],
             [
              0.4444444444444444,
              "#bd3786"
             ],
             [
              0.5555555555555556,
              "#d8576b"
             ],
             [
              0.6666666666666666,
              "#ed7953"
             ],
             [
              0.7777777777777778,
              "#fb9f3a"
             ],
             [
              0.8888888888888888,
              "#fdca26"
             ],
             [
              1,
              "#f0f921"
             ]
            ],
            "type": "heatmapgl"
           }
          ],
          "histogram": [
           {
            "marker": {
             "colorbar": {
              "outlinewidth": 0,
              "ticks": ""
             }
            },
            "type": "histogram"
           }
          ],
          "histogram2d": [
           {
            "colorbar": {
             "outlinewidth": 0,
             "ticks": ""
            },
            "colorscale": [
             [
              0,
              "#0d0887"
             ],
             [
              0.1111111111111111,
              "#46039f"
             ],
             [
              0.2222222222222222,
              "#7201a8"
             ],
             [
              0.3333333333333333,
              "#9c179e"
             ],
             [
              0.4444444444444444,
              "#bd3786"
             ],
             [
              0.5555555555555556,
              "#d8576b"
             ],
             [
              0.6666666666666666,
              "#ed7953"
             ],
             [
              0.7777777777777778,
              "#fb9f3a"
             ],
             [
              0.8888888888888888,
              "#fdca26"
             ],
             [
              1,
              "#f0f921"
             ]
            ],
            "type": "histogram2d"
           }
          ],
          "histogram2dcontour": [
           {
            "colorbar": {
             "outlinewidth": 0,
             "ticks": ""
            },
            "colorscale": [
             [
              0,
              "#0d0887"
             ],
             [
              0.1111111111111111,
              "#46039f"
             ],
             [
              0.2222222222222222,
              "#7201a8"
             ],
             [
              0.3333333333333333,
              "#9c179e"
             ],
             [
              0.4444444444444444,
              "#bd3786"
             ],
             [
              0.5555555555555556,
              "#d8576b"
             ],
             [
              0.6666666666666666,
              "#ed7953"
             ],
             [
              0.7777777777777778,
              "#fb9f3a"
             ],
             [
              0.8888888888888888,
              "#fdca26"
             ],
             [
              1,
              "#f0f921"
             ]
            ],
            "type": "histogram2dcontour"
           }
          ],
          "mesh3d": [
           {
            "colorbar": {
             "outlinewidth": 0,
             "ticks": ""
            },
            "type": "mesh3d"
           }
          ],
          "parcoords": [
           {
            "line": {
             "colorbar": {
              "outlinewidth": 0,
              "ticks": ""
             }
            },
            "type": "parcoords"
           }
          ],
          "pie": [
           {
            "automargin": true,
            "type": "pie"
           }
          ],
          "scatter": [
           {
            "marker": {
             "line": {
              "color": "#283442"
             }
            },
            "type": "scatter"
           }
          ],
          "scatter3d": [
           {
            "line": {
             "colorbar": {
              "outlinewidth": 0,
              "ticks": ""
             }
            },
            "marker": {
             "colorbar": {
              "outlinewidth": 0,
              "ticks": ""
             }
            },
            "type": "scatter3d"
           }
          ],
          "scattercarpet": [
           {
            "marker": {
             "colorbar": {
              "outlinewidth": 0,
              "ticks": ""
             }
            },
            "type": "scattercarpet"
           }
          ],
          "scattergeo": [
           {
            "marker": {
             "colorbar": {
              "outlinewidth": 0,
              "ticks": ""
             }
            },
            "type": "scattergeo"
           }
          ],
          "scattergl": [
           {
            "marker": {
             "line": {
              "color": "#283442"
             }
            },
            "type": "scattergl"
           }
          ],
          "scattermapbox": [
           {
            "marker": {
             "colorbar": {
              "outlinewidth": 0,
              "ticks": ""
             }
            },
            "type": "scattermapbox"
           }
          ],
          "scatterpolar": [
           {
            "marker": {
             "colorbar": {
              "outlinewidth": 0,
              "ticks": ""
             }
            },
            "type": "scatterpolar"
           }
          ],
          "scatterpolargl": [
           {
            "marker": {
             "colorbar": {
              "outlinewidth": 0,
              "ticks": ""
             }
            },
            "type": "scatterpolargl"
           }
          ],
          "scatterternary": [
           {
            "marker": {
             "colorbar": {
              "outlinewidth": 0,
              "ticks": ""
             }
            },
            "type": "scatterternary"
           }
          ],
          "surface": [
           {
            "colorbar": {
             "outlinewidth": 0,
             "ticks": ""
            },
            "colorscale": [
             [
              0,
              "#0d0887"
             ],
             [
              0.1111111111111111,
              "#46039f"
             ],
             [
              0.2222222222222222,
              "#7201a8"
             ],
             [
              0.3333333333333333,
              "#9c179e"
             ],
             [
              0.4444444444444444,
              "#bd3786"
             ],
             [
              0.5555555555555556,
              "#d8576b"
             ],
             [
              0.6666666666666666,
              "#ed7953"
             ],
             [
              0.7777777777777778,
              "#fb9f3a"
             ],
             [
              0.8888888888888888,
              "#fdca26"
             ],
             [
              1,
              "#f0f921"
             ]
            ],
            "type": "surface"
           }
          ],
          "table": [
           {
            "cells": {
             "fill": {
              "color": "#506784"
             },
             "line": {
              "color": "rgb(17,17,17)"
             }
            },
            "header": {
             "fill": {
              "color": "#2a3f5f"
             },
             "line": {
              "color": "rgb(17,17,17)"
             }
            },
            "type": "table"
           }
          ]
         },
         "layout": {
          "annotationdefaults": {
           "arrowcolor": "#f2f5fa",
           "arrowhead": 0,
           "arrowwidth": 1
          },
          "coloraxis": {
           "colorbar": {
            "outlinewidth": 0,
            "ticks": ""
           }
          },
          "colorscale": {
           "diverging": [
            [
             0,
             "#8e0152"
            ],
            [
             0.1,
             "#c51b7d"
            ],
            [
             0.2,
             "#de77ae"
            ],
            [
             0.3,
             "#f1b6da"
            ],
            [
             0.4,
             "#fde0ef"
            ],
            [
             0.5,
             "#f7f7f7"
            ],
            [
             0.6,
             "#e6f5d0"
            ],
            [
             0.7,
             "#b8e186"
            ],
            [
             0.8,
             "#7fbc41"
            ],
            [
             0.9,
             "#4d9221"
            ],
            [
             1,
             "#276419"
            ]
           ],
           "sequential": [
            [
             0,
             "#0d0887"
            ],
            [
             0.1111111111111111,
             "#46039f"
            ],
            [
             0.2222222222222222,
             "#7201a8"
            ],
            [
             0.3333333333333333,
             "#9c179e"
            ],
            [
             0.4444444444444444,
             "#bd3786"
            ],
            [
             0.5555555555555556,
             "#d8576b"
            ],
            [
             0.6666666666666666,
             "#ed7953"
            ],
            [
             0.7777777777777778,
             "#fb9f3a"
            ],
            [
             0.8888888888888888,
             "#fdca26"
            ],
            [
             1,
             "#f0f921"
            ]
           ],
           "sequentialminus": [
            [
             0,
             "#0d0887"
            ],
            [
             0.1111111111111111,
             "#46039f"
            ],
            [
             0.2222222222222222,
             "#7201a8"
            ],
            [
             0.3333333333333333,
             "#9c179e"
            ],
            [
             0.4444444444444444,
             "#bd3786"
            ],
            [
             0.5555555555555556,
             "#d8576b"
            ],
            [
             0.6666666666666666,
             "#ed7953"
            ],
            [
             0.7777777777777778,
             "#fb9f3a"
            ],
            [
             0.8888888888888888,
             "#fdca26"
            ],
            [
             1,
             "#f0f921"
            ]
           ]
          },
          "colorway": [
           "#636efa",
           "#EF553B",
           "#00cc96",
           "#ab63fa",
           "#FFA15A",
           "#19d3f3",
           "#FF6692",
           "#B6E880",
           "#FF97FF",
           "#FECB52"
          ],
          "font": {
           "color": "#f2f5fa"
          },
          "geo": {
           "bgcolor": "rgb(17,17,17)",
           "lakecolor": "rgb(17,17,17)",
           "landcolor": "rgb(17,17,17)",
           "showlakes": true,
           "showland": true,
           "subunitcolor": "#506784"
          },
          "hoverlabel": {
           "align": "left"
          },
          "hovermode": "closest",
          "mapbox": {
           "style": "dark"
          },
          "paper_bgcolor": "rgb(17,17,17)",
          "plot_bgcolor": "rgb(17,17,17)",
          "polar": {
           "angularaxis": {
            "gridcolor": "#506784",
            "linecolor": "#506784",
            "ticks": ""
           },
           "bgcolor": "rgb(17,17,17)",
           "radialaxis": {
            "gridcolor": "#506784",
            "linecolor": "#506784",
            "ticks": ""
           }
          },
          "scene": {
           "xaxis": {
            "backgroundcolor": "rgb(17,17,17)",
            "gridcolor": "#506784",
            "gridwidth": 2,
            "linecolor": "#506784",
            "showbackground": true,
            "ticks": "",
            "zerolinecolor": "#C8D4E3"
           },
           "yaxis": {
            "backgroundcolor": "rgb(17,17,17)",
            "gridcolor": "#506784",
            "gridwidth": 2,
            "linecolor": "#506784",
            "showbackground": true,
            "ticks": "",
            "zerolinecolor": "#C8D4E3"
           },
           "zaxis": {
            "backgroundcolor": "rgb(17,17,17)",
            "gridcolor": "#506784",
            "gridwidth": 2,
            "linecolor": "#506784",
            "showbackground": true,
            "ticks": "",
            "zerolinecolor": "#C8D4E3"
           }
          },
          "shapedefaults": {
           "line": {
            "color": "#f2f5fa"
           }
          },
          "sliderdefaults": {
           "bgcolor": "#C8D4E3",
           "bordercolor": "rgb(17,17,17)",
           "borderwidth": 1,
           "tickwidth": 0
          },
          "ternary": {
           "aaxis": {
            "gridcolor": "#506784",
            "linecolor": "#506784",
            "ticks": ""
           },
           "baxis": {
            "gridcolor": "#506784",
            "linecolor": "#506784",
            "ticks": ""
           },
           "bgcolor": "rgb(17,17,17)",
           "caxis": {
            "gridcolor": "#506784",
            "linecolor": "#506784",
            "ticks": ""
           }
          },
          "title": {
           "x": 0.05
          },
          "updatemenudefaults": {
           "bgcolor": "#506784",
           "borderwidth": 0
          },
          "xaxis": {
           "automargin": true,
           "gridcolor": "#283442",
           "linecolor": "#506784",
           "ticks": "",
           "title": {
            "standoff": 15
           },
           "zerolinecolor": "#283442",
           "zerolinewidth": 2
          },
          "yaxis": {
           "automargin": true,
           "gridcolor": "#283442",
           "linecolor": "#506784",
           "ticks": "",
           "title": {
            "standoff": 15
           },
           "zerolinecolor": "#283442",
           "zerolinewidth": 2
          }
         }
        }
       }
      }
     },
     "metadata": {}
    }
   ],
   "source": [
    "res_index = res_indexes[1]\n",
    "\n",
    "df_to_plot_1.size = 1;df_to_plot_1.loc[res_index, 'size'] = 5\n",
    "\n",
    "df_to_plot_2.size = 1;df_to_plot_2.loc[res_index, 'size'] = 5\n",
    "\n",
    "df_to_plot = pd.concat([df_to_plot_1,df_to_plot_2],ignore_index=True, sort=False)\n",
    "\n",
    "fig = px.scatter_3d(df_to_plot, x='x_coord', y='y_coord', z='z_coord',\n",
    "              color='Source',size='size',template='plotly_dark')\n",
    "\n",
    "fig.update_traces(mode='markers+lines')\n",
    "fig.update_layout(margin=dict(l=0, r=0, b=0, t=0))\n",
    "fig.show()"
   ]
  }
 ]
}