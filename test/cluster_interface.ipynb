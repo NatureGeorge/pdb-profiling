{
 "metadata": {
  "language_info": {
   "codemirror_mode": {
    "name": "ipython",
    "version": 3
   },
   "file_extension": ".py",
   "mimetype": "text/x-python",
   "name": "python",
   "nbconvert_exporter": "python",
   "pygments_lexer": "ipython3",
   "version": 3
  },
  "orig_nbformat": 2,
  "kernelspec": {
   "name": "python_defaultSpec_1596019965209",
   "display_name": "Python 3.7.1 64-bit ('base': conda)"
  }
 },
 "nbformat": 4,
 "nbformat_minor": 2,
 "cells": [
  {
   "cell_type": "markdown",
   "metadata": {},
   "source": [
    "# Cluster Interface\n",
    "\n",
    "## Data Resource\n",
    "\n",
    "* [PISA](https://www.ebi.ac.uk/pdbe/pisa/)\n",
    "* [ProtCID](http://dunbrack2.fccc.edu/ProtCiD/Default.aspx)\n",
    "* [EPPIC](http://www.eppic-web.org/ewui/#)"
   ]
  },
  {
   "cell_type": "code",
   "execution_count": 121,
   "metadata": {},
   "outputs": [],
   "source": [
    "import nglview\n",
    "import pandas as pd\n",
    "\n",
    "rep1 = [\n",
    "    {\"type\": \"spacefill\", \"params\": {\n",
    "        \"sele\": \"protein\", \"color\": \"chainindex\", \"opacity\": 0.3\n",
    "    }},\n",
    "    {\"type\": \"line\", \"params\": {\n",
    "        \"sele\": \"protein\", \"color\": \"sstruc\"\n",
    "    }},\n",
    "    {\"type\": \"surface\", \"params\": {\n",
    "        \"sele\": \"protein\", \"color\": \"chainindex\",\"opacity\": 0.1\n",
    "    }}\n",
    "]"
   ]
  },
  {
   "cell_type": "code",
   "execution_count": 250,
   "metadata": {},
   "outputs": [
    {
     "output_type": "display_data",
     "data": {
      "text/plain": "NGLWidget(background='#212121')",
      "application/vnd.jupyter.widget-view+json": {
       "version_major": 2,
       "version_minor": 0,
       "model_id": "3018b4886c2645e5b1dd0ef137482acf"
      }
     },
     "metadata": {}
    }
   ],
   "source": [
    "view = nglview.show_file(\"./pdb_files/1u7f.cif\")\n",
    "view.background = '#212121'\n",
    "view.representations = rep1\n",
    "view"
   ]
  },
  {
   "cell_type": "code",
   "execution_count": 253,
   "metadata": {},
   "outputs": [],
   "source": [
    "view.clear_representations()\n",
    "chain_res_tem = \"({res_str}) and :{chain_id}\"\n",
    "a_ab = chain_res_tem.format(res_str=ab_dict['A'], chain_id='A')\n",
    "b_ab = chain_res_tem.format(res_str=ab_dict['B'], chain_id='B')\n",
    "b_bc = chain_res_tem.format(res_str=bc_dict['B'], chain_id='B')\n",
    "c_bc = chain_res_tem.format(res_str=bc_dict['C'], chain_id='C')\n",
    "a_ac = chain_res_tem.format(res_str=ac_dict['A'], chain_id='A')\n",
    "c_ac = chain_res_tem.format(res_str=ac_dict['C'], chain_id='C')\n",
    "\n",
    "a_ab_s = chain_res_tem.format(res_str=ab_s_dict['A'], chain_id='A')\n",
    "b_ab_s = chain_res_tem.format(res_str=ab_s_dict['B'], chain_id='B')\n",
    "\n",
    "i_chains = ' or '.join(f\"({i})\" for i in (a_ab, b_ab)) # , b_bc, c_bc, a_ac, c_ac\n",
    "s_chains = ' or '.join(f\"({i})\" for i in (a_ab_s, b_ab_s))\n",
    "interface = f\"({i_chains}) and % and /0 and protein\"\n",
    "surface = f\"({s_chains}) and % and /0 and protein\"\n",
    "\n",
    "view.add_cartoon(selection=\"(:A or :B) and protein\", color=\"chainindex\", opacity=0.5) # (:A or :B) and protein\n",
    "view.add_spacefill(selection=\"(:A or :B) and protein\", color=\"gray\", opacity=0.1)\n",
    "view.add_spacefill(selection=surface, color=\"chainindex\", opacity=0.3)\n",
    "view.add_surface(selection=interface, color=\"chainindex\")\n",
    "# view.add_surface(selection=interface, color=\"residueindex\", opacity=0.05)\n",
    "\n",
    "\n",
    "# \n",
    "# \"352 or 355 and ^ and :B and % and /0\""
   ]
  },
  {
   "cell_type": "code",
   "execution_count": 159,
   "metadata": {},
   "outputs": [
    {
     "output_type": "execute_result",
     "data": {
      "text/plain": "    buried_surface_area struct_asym_id_in_assembly  hsdc  \\\n23              70.2544                          B  HS     \n38              10.0652                          B         \n39              81.3310                          B         \n40              95.4516                          B  H      \n41              40.3753                          B  H      \n\n   author_insertion_code residue_name  author_residue_number  \\\n23                                GLU                    337   \n38                                GLY                    352   \n39                                TYR                    353   \n40                                VAL                    354   \n41                                ASP                    355   \n\n    solvent_accessible_area  assemble_code  interface_number pdb_id  ...  \\\n23               152.317993              1                 1   1u7f  ...   \n38                17.102800              1                 1   1u7f  ...   \n39                97.243698              1                 1   1u7f  ...   \n40                95.451599              1                 1   1u7f  ...   \n41                57.167099              1                 1   1u7f  ...   \n\n    chain_id struct_asym_id assembly_id model_id  multiple_conformers  \\\n23         B              B           1        1                  NaN   \n38         B              B           1        1                  NaN   \n39         B              B           1        1                  NaN   \n40         B              B           1        1                  NaN   \n41         B              B           1        1                  NaN   \n\n    observed_ratio residue_number  pisa_surface  pisa_interface        pic  \n23             1.0             24             1               1  337 and ^  \n38             1.0             39             1               1  352 and ^  \n39             1.0             40             1               1  353 and ^  \n40             1.0             41             1               1  354 and ^  \n41             1.0             42             1               1  355 and ^  \n\n[5 rows x 22 columns]",
      "text/html": "<div>\n<style scoped>\n    .dataframe tbody tr th:only-of-type {\n        vertical-align: middle;\n    }\n\n    .dataframe tbody tr th {\n        vertical-align: top;\n    }\n\n    .dataframe thead th {\n        text-align: right;\n    }\n</style>\n<table border=\"1\" class=\"dataframe\">\n  <thead>\n    <tr style=\"text-align: right;\">\n      <th></th>\n      <th>buried_surface_area</th>\n      <th>struct_asym_id_in_assembly</th>\n      <th>hsdc</th>\n      <th>author_insertion_code</th>\n      <th>residue_name</th>\n      <th>author_residue_number</th>\n      <th>solvent_accessible_area</th>\n      <th>assemble_code</th>\n      <th>interface_number</th>\n      <th>pdb_id</th>\n      <th>...</th>\n      <th>chain_id</th>\n      <th>struct_asym_id</th>\n      <th>assembly_id</th>\n      <th>model_id</th>\n      <th>multiple_conformers</th>\n      <th>observed_ratio</th>\n      <th>residue_number</th>\n      <th>pisa_surface</th>\n      <th>pisa_interface</th>\n      <th>pic</th>\n    </tr>\n  </thead>\n  <tbody>\n    <tr>\n      <th>23</th>\n      <td>70.2544</td>\n      <td>B</td>\n      <td>HS</td>\n      <td></td>\n      <td>GLU</td>\n      <td>337</td>\n      <td>152.317993</td>\n      <td>1</td>\n      <td>1</td>\n      <td>1u7f</td>\n      <td>...</td>\n      <td>B</td>\n      <td>B</td>\n      <td>1</td>\n      <td>1</td>\n      <td>NaN</td>\n      <td>1.0</td>\n      <td>24</td>\n      <td>1</td>\n      <td>1</td>\n      <td>337 and ^</td>\n    </tr>\n    <tr>\n      <th>38</th>\n      <td>10.0652</td>\n      <td>B</td>\n      <td></td>\n      <td></td>\n      <td>GLY</td>\n      <td>352</td>\n      <td>17.102800</td>\n      <td>1</td>\n      <td>1</td>\n      <td>1u7f</td>\n      <td>...</td>\n      <td>B</td>\n      <td>B</td>\n      <td>1</td>\n      <td>1</td>\n      <td>NaN</td>\n      <td>1.0</td>\n      <td>39</td>\n      <td>1</td>\n      <td>1</td>\n      <td>352 and ^</td>\n    </tr>\n    <tr>\n      <th>39</th>\n      <td>81.3310</td>\n      <td>B</td>\n      <td></td>\n      <td></td>\n      <td>TYR</td>\n      <td>353</td>\n      <td>97.243698</td>\n      <td>1</td>\n      <td>1</td>\n      <td>1u7f</td>\n      <td>...</td>\n      <td>B</td>\n      <td>B</td>\n      <td>1</td>\n      <td>1</td>\n      <td>NaN</td>\n      <td>1.0</td>\n      <td>40</td>\n      <td>1</td>\n      <td>1</td>\n      <td>353 and ^</td>\n    </tr>\n    <tr>\n      <th>40</th>\n      <td>95.4516</td>\n      <td>B</td>\n      <td>H</td>\n      <td></td>\n      <td>VAL</td>\n      <td>354</td>\n      <td>95.451599</td>\n      <td>1</td>\n      <td>1</td>\n      <td>1u7f</td>\n      <td>...</td>\n      <td>B</td>\n      <td>B</td>\n      <td>1</td>\n      <td>1</td>\n      <td>NaN</td>\n      <td>1.0</td>\n      <td>41</td>\n      <td>1</td>\n      <td>1</td>\n      <td>354 and ^</td>\n    </tr>\n    <tr>\n      <th>41</th>\n      <td>40.3753</td>\n      <td>B</td>\n      <td>H</td>\n      <td></td>\n      <td>ASP</td>\n      <td>355</td>\n      <td>57.167099</td>\n      <td>1</td>\n      <td>1</td>\n      <td>1u7f</td>\n      <td>...</td>\n      <td>B</td>\n      <td>B</td>\n      <td>1</td>\n      <td>1</td>\n      <td>NaN</td>\n      <td>1.0</td>\n      <td>42</td>\n      <td>1</td>\n      <td>1</td>\n      <td>355 and ^</td>\n    </tr>\n  </tbody>\n</table>\n<p>5 rows × 22 columns</p>\n</div>"
     },
     "metadata": {},
     "execution_count": 159
    }
   ],
   "source": [
    "converters = {\n",
    "    'pdb_id': str,\n",
    "    'chain_id': str,\n",
    "    'struct_asym_id': str,\n",
    "    'entity_id': int,\n",
    "    'author_residue_number': int,\n",
    "    'residue_number': int,\n",
    "    'author_insertion_code': str}\n",
    "\n",
    "eec_as_df = pd.read_csv(\"C:\\\\Download\\\\20200716\\\\biounit\\\\0725.tsv\", sep=\"\\t\", converters=converters)\n",
    "check = pd.read_csv(\n",
    "    r\"C:\\Download\\20200716\\biounit\\pisa%interfacedetail%+1u7f%1%1.tsv\", \n",
    "    sep=\"\\t\", \n",
    "    usecols=['pdb_code', 'assemble_code', 'interface_number', 'chain_id', 'residue', 'sequence', 'insertion_code', 'buried_surface_area','solvent_accessible_area', 'hsdc'],\n",
    "    na_values=[' ']\n",
    "    ).rename(columns={\"pdb_code\":\"pdb_id\",\n",
    "                      \"sequence\":\"author_residue_number\",\n",
    "                      \"insertion_code\":\"author_insertion_code\",\n",
    "                      \"residue\":\"residue_name\",\n",
    "                      \"chain_id\": \"struct_asym_id_in_assembly\"})\n",
    "check.author_insertion_code.fillna('', inplace=True)\n",
    "\n",
    "chain_df_check = eec_as_df[eec_as_df.pdb_id.eq('1u7f') & eec_as_df.assembly_id.eq(1)]\n",
    "residues_check = pd.read_csv(\"C:\\\\Download\\\\20200716\\\\biounit\\\\pdb%entry%residue_listing%+1u7f.tsv\", sep=\"\\t\", converters=converters)\n",
    "check = check.merge(chain_df_check, how=\"left\")\n",
    "check = check.merge(residues_check, how=\"left\")\n",
    "def annotate_pisa(df: pd.DataFrame):\n",
    "    '''\n",
    "    Buried Residues:  ASA.eq(0)\n",
    "    Surface Residues: ASA.ne(0)\n",
    "    Interface Residues: BSA.ne(0)\n",
    "    '''\n",
    "    df['pisa_surface'] = df.solvent_accessible_area.apply(lambda x: 1 if x>0 else 0)\n",
    "    df['pisa_interface'] = df.buried_surface_area.apply(lambda x: 1 if x>0 else 0)\n",
    "    return df\n",
    "\n",
    "annotate_pisa(check)\n",
    "# check['pic'] = check.apply(lambda x: f\"P1_{x['residue_number']}_{x['residue_name']}\" if x['struct_asym_id'] == 'B' else f\"P2_{x['residue_number']}_{x['residue_name']}\", axis=1)\n",
    "check['pic'] = check.author_residue_number.astype(str)+' and ^'+check.author_insertion_code\n",
    "check[check.pisa_interface.eq(1)].head()"
   ]
  },
  {
   "cell_type": "code",
   "execution_count": 160,
   "metadata": {},
   "outputs": [],
   "source": [
    "def str_int_join(iterable):\n",
    "    return ' or '.join(f\"({i})\" for i in iterable)\n",
    "ab_dict = check[check.pisa_interface.eq(1)].groupby(['struct_asym_id_in_assembly']).pic.apply(str_int_join).to_dict()\n",
    "# bc_dict = check[check.pisa_interface.eq(1)].groupby(['struct_asym_id_in_assembly']).pic.apply(str_int_join).to_dict()\n",
    "# ac_dict = check[check.pisa_interface.eq(1)].groupby(['struct_asym_id_in_assembly']).pic.apply(str_int_join).to_dict()"
   ]
  },
  {
   "cell_type": "code",
   "execution_count": 212,
   "metadata": {},
   "outputs": [],
   "source": [
    "ab_s_dict = check[check.pisa_surface.eq(1)].groupby(['struct_asym_id']).pic.apply(str_int_join).to_dict()"
   ]
  },
  {
   "cell_type": "code",
   "execution_count": null,
   "metadata": {},
   "outputs": [],
   "source": []
  }
 ]
}