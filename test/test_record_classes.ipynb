{
 "metadata": {
  "language_info": {
   "codemirror_mode": {
    "name": "ipython",
    "version": 3
   },
   "file_extension": ".py",
   "mimetype": "text/x-python",
   "name": "python",
   "nbconvert_exporter": "python",
   "pygments_lexer": "ipython3",
   "version": 3
  },
  "orig_nbformat": 2,
  "kernelspec": {
   "name": "python_defaultSpec_1597311959352",
   "display_name": "Python 3.7.1 64-bit ('base': conda)"
  }
 },
 "nbformat": 4,
 "nbformat_minor": 2,
 "cells": [
  {
   "cell_type": "code",
   "execution_count": 1,
   "metadata": {},
   "outputs": [],
   "source": [
    "import sys; sys.path.append(\"C:/GitWorks/pdb-profiling\")\n",
    "from pdb_profiling.fetcher.webfetch import UnsyncFetch\n",
    "from pdb_profiling.processers.pdbe.api import ProcessPDBe\n",
    "from pdb_profiling.processers.pdbe.record import PDB, API_SET, PDBAssemble"
   ]
  },
  {
   "cell_type": "code",
   "execution_count": 2,
   "metadata": {},
   "outputs": [],
   "source": [
    "from time import perf_counter"
   ]
  },
  {
   "cell_type": "code",
   "execution_count": 3,
   "metadata": {},
   "outputs": [],
   "source": [
    "UnsyncFetch.use_existing = True\n",
    "ProcessPDBe.use_existing = True\n",
    "ProcessPDBe.init_logger()\n",
    "PDB.set_web_semaphore(30)"
   ]
  },
  {
   "cell_type": "markdown",
   "metadata": {
    "tags": []
   },
   "source": [
    "```py\n",
    "pdb_6ozg = PDB('6ozg', './demo/')\n",
    "pdb_1lo8 = PDB('1lo8', './demo/')\n",
    "pdb_2q88 = PDB('2q88', './demo/')\n",
    "pdb_2aw3 = PDB('2aw3', './demo/')\n",
    "pdb_1akq = PDB('1akq', './demo/')\n",
    "# sequence\n",
    "start = perf_counter()\n",
    "pdb_6ozg.res2eec(merge_with_molecules_info=False).result()\n",
    "pdb_1lo8.res2eec(merge_with_molecules_info=False).result()\n",
    "pdb_2q88.res2eec(merge_with_molecules_info=False).result()\n",
    "pdb_2aw3.res2eec(merge_with_molecules_info=False).result()\n",
    "pdb_1akq.res2eec(merge_with_molecules_info=False).result()\n",
    "print(perf_counter()-start)\n",
    "```"
   ]
  },
  {
   "cell_type": "code",
   "execution_count": 4,
   "metadata": {
    "tags": []
   },
   "outputs": [
    {
     "output_type": "stream",
     "name": "stderr",
     "text": "100%|██████████| 5/5 [00:03<00:00,  1.60it/s]3.156735000000026\n\n"
    }
   ],
   "source": [
    "pdb_6ozg = PDB('6ozg', './demo/')\n",
    "pdb_1lo8 = PDB('1lo8', './demo/')\n",
    "pdb_2q88 = PDB('2q88', './demo/')\n",
    "pdb_2aw3 = PDB('2aw3', './demo/')\n",
    "pdb_1akq = PDB('1akq', './demo/')\n",
    "# loop\n",
    "start = perf_counter()\n",
    "tasks = (pdb_6ozg.res2eec(merge_with_molecules_info=True),\n",
    "pdb_1lo8.res2eec(merge_with_molecules_info=True),\n",
    "pdb_2q88.res2eec(merge_with_molecules_info=True),\n",
    "pdb_2aw3.res2eec(merge_with_molecules_info=True),\n",
    "pdb_1akq.res2eec(merge_with_molecules_info=True))\n",
    "UnsyncFetch.unsync_tasks(tasks).result()\n",
    "print(perf_counter()-start)"
   ]
  },
  {
   "cell_type": "code",
   "execution_count": 5,
   "metadata": {},
   "outputs": [
    {
     "output_type": "execute_result",
     "data": {
      "text/plain": "{'api/mappings/all_isoforms/',\n 'api/pdb/entry/assembly/',\n 'api/pdb/entry/binding_sites/',\n 'api/pdb/entry/carbohydrate_polymer/',\n 'api/pdb/entry/cofactor/',\n 'api/pdb/entry/drugbank/',\n 'api/pdb/entry/electron_density_statistics/',\n 'api/pdb/entry/experiment/',\n 'api/pdb/entry/files/',\n 'api/pdb/entry/ligand_monomers/',\n 'api/pdb/entry/modified_AA_or_NA/',\n 'api/pdb/entry/molecules/',\n 'api/pdb/entry/mutated_AA_or_NA/',\n 'api/pdb/entry/observed_residues_ratio/',\n 'api/pdb/entry/polymer_coverage/',\n 'api/pdb/entry/related_experiment_data/',\n 'api/pdb/entry/residue_listing/',\n 'api/pdb/entry/secondary_structure/',\n 'api/pdb/entry/status/',\n 'api/pdb/entry/summary/',\n 'api/pisa/interfacedetail/',\n 'api/pisa/interfacelist/'}"
     },
     "metadata": {},
     "execution_count": 5
    }
   ],
   "source": [
    "API_SET"
   ]
  },
  {
   "cell_type": "code",
   "execution_count": 6,
   "metadata": {
    "tags": []
   },
   "outputs": [
    {
     "output_type": "stream",
     "name": "stdout",
     "text": "Wall time: 0 ns\n"
    },
    {
     "output_type": "execute_result",
     "data": {
      "text/plain": "    author_insertion_code  author_residue_number multiple_conformers  \\\n0                                              1                 NaN   \n1                                              2                 NaN   \n2                                              3                 NaN   \n3                                              4                 NaN   \n4                                              5                 NaN   \n..                    ...                    ...                 ...   \n475                                          101                 NaN   \n476                                          302                 NaN   \n477                                          303                 NaN   \n478                                          103                 NaN   \n479                                          102                 NaN   \n\n     observed_ratio residue_name  residue_number chain_id struct_asym_id  \\\n0               1.0          MET               1        A              A   \n1               1.0          ASP               2        A              A   \n2               1.0          TYR               3        A              A   \n3               1.0          ARG               4        A              A   \n4               1.0          GLN               5        A              A   \n..              ...          ...             ...      ...            ...   \n475             1.0          GOL               1        D              L   \n476             1.0          GOL               1        B              G   \n477             1.0          EDO               1        B              H   \n478             1.0          EDO               1        C              K   \n479             1.0          EDO               1        C              J   \n\n    entity_id pdb_id  \n0           1   6ozg  \n1           1   6ozg  \n2           1   6ozg  \n3           1   6ozg  \n4           1   6ozg  \n..        ...    ...  \n475         4   6ozg  \n476         4   6ozg  \n477         5   6ozg  \n478         5   6ozg  \n479         5   6ozg  \n\n[480 rows x 10 columns]",
      "text/html": "<div>\n<style scoped>\n    .dataframe tbody tr th:only-of-type {\n        vertical-align: middle;\n    }\n\n    .dataframe tbody tr th {\n        vertical-align: top;\n    }\n\n    .dataframe thead th {\n        text-align: right;\n    }\n</style>\n<table border=\"1\" class=\"dataframe\">\n  <thead>\n    <tr style=\"text-align: right;\">\n      <th></th>\n      <th>author_insertion_code</th>\n      <th>author_residue_number</th>\n      <th>multiple_conformers</th>\n      <th>observed_ratio</th>\n      <th>residue_name</th>\n      <th>residue_number</th>\n      <th>chain_id</th>\n      <th>struct_asym_id</th>\n      <th>entity_id</th>\n      <th>pdb_id</th>\n    </tr>\n  </thead>\n  <tbody>\n    <tr>\n      <th>0</th>\n      <td></td>\n      <td>1</td>\n      <td>NaN</td>\n      <td>1.0</td>\n      <td>MET</td>\n      <td>1</td>\n      <td>A</td>\n      <td>A</td>\n      <td>1</td>\n      <td>6ozg</td>\n    </tr>\n    <tr>\n      <th>1</th>\n      <td></td>\n      <td>2</td>\n      <td>NaN</td>\n      <td>1.0</td>\n      <td>ASP</td>\n      <td>2</td>\n      <td>A</td>\n      <td>A</td>\n      <td>1</td>\n      <td>6ozg</td>\n    </tr>\n    <tr>\n      <th>2</th>\n      <td></td>\n      <td>3</td>\n      <td>NaN</td>\n      <td>1.0</td>\n      <td>TYR</td>\n      <td>3</td>\n      <td>A</td>\n      <td>A</td>\n      <td>1</td>\n      <td>6ozg</td>\n    </tr>\n    <tr>\n      <th>3</th>\n      <td></td>\n      <td>4</td>\n      <td>NaN</td>\n      <td>1.0</td>\n      <td>ARG</td>\n      <td>4</td>\n      <td>A</td>\n      <td>A</td>\n      <td>1</td>\n      <td>6ozg</td>\n    </tr>\n    <tr>\n      <th>4</th>\n      <td></td>\n      <td>5</td>\n      <td>NaN</td>\n      <td>1.0</td>\n      <td>GLN</td>\n      <td>5</td>\n      <td>A</td>\n      <td>A</td>\n      <td>1</td>\n      <td>6ozg</td>\n    </tr>\n    <tr>\n      <th>...</th>\n      <td>...</td>\n      <td>...</td>\n      <td>...</td>\n      <td>...</td>\n      <td>...</td>\n      <td>...</td>\n      <td>...</td>\n      <td>...</td>\n      <td>...</td>\n      <td>...</td>\n    </tr>\n    <tr>\n      <th>475</th>\n      <td></td>\n      <td>101</td>\n      <td>NaN</td>\n      <td>1.0</td>\n      <td>GOL</td>\n      <td>1</td>\n      <td>D</td>\n      <td>L</td>\n      <td>4</td>\n      <td>6ozg</td>\n    </tr>\n    <tr>\n      <th>476</th>\n      <td></td>\n      <td>302</td>\n      <td>NaN</td>\n      <td>1.0</td>\n      <td>GOL</td>\n      <td>1</td>\n      <td>B</td>\n      <td>G</td>\n      <td>4</td>\n      <td>6ozg</td>\n    </tr>\n    <tr>\n      <th>477</th>\n      <td></td>\n      <td>303</td>\n      <td>NaN</td>\n      <td>1.0</td>\n      <td>EDO</td>\n      <td>1</td>\n      <td>B</td>\n      <td>H</td>\n      <td>5</td>\n      <td>6ozg</td>\n    </tr>\n    <tr>\n      <th>478</th>\n      <td></td>\n      <td>103</td>\n      <td>NaN</td>\n      <td>1.0</td>\n      <td>EDO</td>\n      <td>1</td>\n      <td>C</td>\n      <td>K</td>\n      <td>5</td>\n      <td>6ozg</td>\n    </tr>\n    <tr>\n      <th>479</th>\n      <td></td>\n      <td>102</td>\n      <td>NaN</td>\n      <td>1.0</td>\n      <td>EDO</td>\n      <td>1</td>\n      <td>C</td>\n      <td>J</td>\n      <td>5</td>\n      <td>6ozg</td>\n    </tr>\n  </tbody>\n</table>\n<p>480 rows × 10 columns</p>\n</div>"
     },
     "metadata": {},
     "execution_count": 6
    }
   ],
   "source": [
    "%time pdb_6ozg.fetch_from_web_api('api/pdb/entry/residue_listing/', PDB.to_dataframe).result()"
   ]
  },
  {
   "cell_type": "code",
   "execution_count": 7,
   "metadata": {
    "tags": []
   },
   "outputs": [
    {
     "output_type": "stream",
     "name": "stdout",
     "text": "Wall time: 1.52 s\n"
    },
    {
     "output_type": "execute_result",
     "data": {
      "text/plain": "    assembly_id pdb_id                                      molecule_type  \\\n0             1   6ozg                                     polypeptide(L)   \n1             1   6ozg  polydeoxyribonucleotide/polyribonucleotide hybrid   \n2             1   6ozg                                              bound   \n3             1   6ozg                                              bound   \n4             1   6ozg                                              bound   \n5             1   6ozg                                              bound   \n6             2   6ozg                                     polypeptide(L)   \n7             2   6ozg  polydeoxyribonucleotide/polyribonucleotide hybrid   \n8             2   6ozg                                              bound   \n9             2   6ozg                                              bound   \n10            2   6ozg                                              bound   \n11            2   6ozg                                              bound   \n\n   entity_id struct_asym_id_in_assembly  \n0          1                          A  \n1          2                          C  \n2          3                          E  \n3          3                          I  \n4          5                          J  \n5          5                          K  \n6          1                          B  \n7          2                          D  \n8          3                          F  \n9          4                          G  \n10         4                          L  \n11         5                          H  ",
      "text/html": "<div>\n<style scoped>\n    .dataframe tbody tr th:only-of-type {\n        vertical-align: middle;\n    }\n\n    .dataframe tbody tr th {\n        vertical-align: top;\n    }\n\n    .dataframe thead th {\n        text-align: right;\n    }\n</style>\n<table border=\"1\" class=\"dataframe\">\n  <thead>\n    <tr style=\"text-align: right;\">\n      <th></th>\n      <th>assembly_id</th>\n      <th>pdb_id</th>\n      <th>molecule_type</th>\n      <th>entity_id</th>\n      <th>struct_asym_id_in_assembly</th>\n    </tr>\n  </thead>\n  <tbody>\n    <tr>\n      <th>0</th>\n      <td>1</td>\n      <td>6ozg</td>\n      <td>polypeptide(L)</td>\n      <td>1</td>\n      <td>A</td>\n    </tr>\n    <tr>\n      <th>1</th>\n      <td>1</td>\n      <td>6ozg</td>\n      <td>polydeoxyribonucleotide/polyribonucleotide hybrid</td>\n      <td>2</td>\n      <td>C</td>\n    </tr>\n    <tr>\n      <th>2</th>\n      <td>1</td>\n      <td>6ozg</td>\n      <td>bound</td>\n      <td>3</td>\n      <td>E</td>\n    </tr>\n    <tr>\n      <th>3</th>\n      <td>1</td>\n      <td>6ozg</td>\n      <td>bound</td>\n      <td>3</td>\n      <td>I</td>\n    </tr>\n    <tr>\n      <th>4</th>\n      <td>1</td>\n      <td>6ozg</td>\n      <td>bound</td>\n      <td>5</td>\n      <td>J</td>\n    </tr>\n    <tr>\n      <th>5</th>\n      <td>1</td>\n      <td>6ozg</td>\n      <td>bound</td>\n      <td>5</td>\n      <td>K</td>\n    </tr>\n    <tr>\n      <th>6</th>\n      <td>2</td>\n      <td>6ozg</td>\n      <td>polypeptide(L)</td>\n      <td>1</td>\n      <td>B</td>\n    </tr>\n    <tr>\n      <th>7</th>\n      <td>2</td>\n      <td>6ozg</td>\n      <td>polydeoxyribonucleotide/polyribonucleotide hybrid</td>\n      <td>2</td>\n      <td>D</td>\n    </tr>\n    <tr>\n      <th>8</th>\n      <td>2</td>\n      <td>6ozg</td>\n      <td>bound</td>\n      <td>3</td>\n      <td>F</td>\n    </tr>\n    <tr>\n      <th>9</th>\n      <td>2</td>\n      <td>6ozg</td>\n      <td>bound</td>\n      <td>4</td>\n      <td>G</td>\n    </tr>\n    <tr>\n      <th>10</th>\n      <td>2</td>\n      <td>6ozg</td>\n      <td>bound</td>\n      <td>4</td>\n      <td>L</td>\n    </tr>\n    <tr>\n      <th>11</th>\n      <td>2</td>\n      <td>6ozg</td>\n      <td>bound</td>\n      <td>5</td>\n      <td>H</td>\n    </tr>\n  </tbody>\n</table>\n</div>"
     },
     "metadata": {},
     "execution_count": 7
    }
   ],
   "source": [
    "%time pdb_6ozg.fetch_from_web_api('api/pdb/entry/assembly/', PDB.assembly2eec).result()"
   ]
  },
  {
   "cell_type": "code",
   "execution_count": 8,
   "metadata": {
    "tags": []
   },
   "outputs": [
    {
     "output_type": "execute_result",
     "data": {
      "text/plain": "<PDBAssemble 6ozg/1>"
     },
     "metadata": {},
     "execution_count": 8
    }
   ],
   "source": [
    "pdb_6ozg.set_assembly().result()\n",
    "pdb_6ozg.get_assembly(1)"
   ]
  },
  {
   "cell_type": "code",
   "execution_count": 9,
   "metadata": {},
   "outputs": [
    {
     "output_type": "execute_result",
     "data": {
      "text/plain": "{0: <PDBAssemble 6ozg/0>, 1: <PDBAssemble 6ozg/1>, 2: <PDBAssemble 6ozg/2>}"
     },
     "metadata": {},
     "execution_count": 9
    }
   ],
   "source": [
    "pdb_6ozg.assembly"
   ]
  },
  {
   "cell_type": "code",
   "execution_count": null,
   "metadata": {},
   "outputs": [],
   "source": []
  }
 ]
}