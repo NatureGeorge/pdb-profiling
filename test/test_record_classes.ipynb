{
 "metadata": {
  "language_info": {
   "codemirror_mode": {
    "name": "ipython",
    "version": 3
   },
   "file_extension": ".py",
   "mimetype": "text/x-python",
   "name": "python",
   "nbconvert_exporter": "python",
   "pygments_lexer": "ipython3",
   "version": "3.7.1-final"
  },
  "orig_nbformat": 2,
  "kernelspec": {
   "name": "python_defaultSpec_1597372376395",
   "display_name": "Python 3.7.1 64-bit ('base': conda)"
  }
 },
 "nbformat": 4,
 "nbformat_minor": 2,
 "cells": [
  {
   "cell_type": "code",
   "execution_count": 1,
   "metadata": {},
   "outputs": [],
   "source": [
    "import sys; sys.path.append(\"C:/GitWorks/pdb-profiling\")\n",
    "from pdb_profiling.fetcher.webfetch import UnsyncFetch\n",
    "from pdb_profiling.processers.pdbe.api import ProcessPDBe\n",
    "from pdb_profiling.processers.pdbe.record import PDB, API_SET, PDBAssemble"
   ]
  },
  {
   "cell_type": "code",
   "execution_count": 2,
   "metadata": {},
   "outputs": [],
   "source": [
    "from time import perf_counter\n",
    "from pdb_profiling.utils import related_dataframe\n",
    "from pprint import pprint"
   ]
  },
  {
   "cell_type": "code",
   "execution_count": 3,
   "metadata": {},
   "outputs": [],
   "source": [
    "ProcessPDBe.use_existing = True\n",
    "ProcessPDBe.init_logger()\n",
    "UnsyncFetch.use_existing = True\n",
    "UnsyncFetch.set_logger(ProcessPDBe.logger)\n",
    "PDB.set_web_semaphore(30)\n",
    "PDB.set_folder('./demo/')"
   ]
  },
  {
   "cell_type": "markdown",
   "metadata": {
    "tags": []
   },
   "source": [
    "```py\n",
    "pdb_6ozg = PDB('6ozg', './demo/')\n",
    "pdb_1lo8 = PDB('1lo8', './demo/')\n",
    "pdb_2q88 = PDB('2q88', './demo/')\n",
    "pdb_2aw3 = PDB('2aw3', './demo/')\n",
    "pdb_1akq = PDB('1akq', './demo/')\n",
    "# sequence\n",
    "start = perf_counter()\n",
    "pdb_6ozg.res2eec(merge_with_molecules_info=False).result()\n",
    "pdb_1lo8.res2eec(merge_with_molecules_info=False).result()\n",
    "pdb_2q88.res2eec(merge_with_molecules_info=False).result()\n",
    "pdb_2aw3.res2eec(merge_with_molecules_info=False).result()\n",
    "pdb_1akq.res2eec(merge_with_molecules_info=False).result()\n",
    "print(perf_counter()-start)\n",
    "```"
   ]
  },
  {
   "cell_type": "code",
   "execution_count": 4,
   "metadata": {
    "tags": []
   },
   "outputs": [
    {
     "output_type": "stream",
     "name": "stderr",
     "text": "100%|██████████| 6/6 [00:03<00:00,  1.90it/s]Wall time: 3.21 s\n\n"
    }
   ],
   "source": [
    "pdb_6ozg = PDB('6ozg')\n",
    "pdb_1lo8 = PDB('1lo8')\n",
    "pdb_2q88 = PDB('2q88')\n",
    "pdb_2aw3 = PDB('2aw3')\n",
    "pdb_1akq = PDB('1akq')\n",
    "pdb_3ue7 = PDB('3ue7')\n",
    "# loop\n",
    "tasks = (pdb_6ozg.res2eec(merge_with_molecules_info=True),\n",
    "pdb_1lo8.res2eec(merge_with_molecules_info=True),\n",
    "pdb_2q88.res2eec(merge_with_molecules_info=True),\n",
    "pdb_2aw3.res2eec(merge_with_molecules_info=True),\n",
    "pdb_1akq.res2eec(merge_with_molecules_info=True),\n",
    "pdb_3ue7.res2eec())\n",
    "%time res = UnsyncFetch.unsync_tasks(tasks).result()"
   ]
  },
  {
   "cell_type": "markdown",
   "metadata": {},
   "source": [
    "### without assembly\n",
    "\n",
    "```py\n",
    "pdb_1oo9 = PDB('1oo9')\n",
    "pdb_1oo9.set_assembly().result()\n",
    "pdb_1oo9.assembly\n",
    "'''{0: <PDBAssemble 1oo9/0>}'''\n",
    "```"
   ]
  },
  {
   "cell_type": "code",
   "execution_count": 5,
   "metadata": {},
   "outputs": [
    {
     "output_type": "execute_result",
     "data": {
      "text/plain": "{'api/mappings/all_isoforms/',\n 'api/pdb/entry/assembly/',\n 'api/pdb/entry/binding_sites/',\n 'api/pdb/entry/carbohydrate_polymer/',\n 'api/pdb/entry/cofactor/',\n 'api/pdb/entry/drugbank/',\n 'api/pdb/entry/electron_density_statistics/',\n 'api/pdb/entry/experiment/',\n 'api/pdb/entry/files/',\n 'api/pdb/entry/ligand_monomers/',\n 'api/pdb/entry/modified_AA_or_NA/',\n 'api/pdb/entry/molecules/',\n 'api/pdb/entry/mutated_AA_or_NA/',\n 'api/pdb/entry/observed_residues_ratio/',\n 'api/pdb/entry/polymer_coverage/',\n 'api/pdb/entry/related_experiment_data/',\n 'api/pdb/entry/residue_listing/',\n 'api/pdb/entry/secondary_structure/',\n 'api/pdb/entry/status/',\n 'api/pdb/entry/summary/',\n 'api/pisa/interfacedetail/',\n 'api/pisa/interfacelist/'}"
     },
     "metadata": {},
     "execution_count": 5
    }
   ],
   "source": [
    "API_SET"
   ]
  },
  {
   "cell_type": "code",
   "execution_count": 6,
   "metadata": {},
   "outputs": [
    {
     "output_type": "execute_result",
     "data": {
      "text/plain": "  pdb_id entity_id chain_id struct_asym_id  ca_p_only  gene_name  in_chains  \\\n0   6iqg         1        A              A      False        NaN  [\"A\",\"B\"]   \n1   6iqg         1        B              B      False        NaN  [\"A\",\"B\"]   \n2   6iqg         2        C              C      False        NaN  [\"C\",\"D\"]   \n3   6iqg         2        D              D      False        NaN  [\"C\",\"D\"]   \n4   6iqg         3        E              E      False        NaN  [\"E\",\"F\"]   \n5   6iqg         3        F              F      False        NaN  [\"E\",\"F\"]   \n6   6iqg         4        A              G      False        NaN      [\"A\"]   \n\n  in_struct_asyms  length                                      molecule_name  \\\n0       [\"A\",\"B\"]   210.0             [\"Immunoglobulin gamma-1 heavy chain\"]   \n1       [\"A\",\"B\"]   210.0             [\"Immunoglobulin gamma-1 heavy chain\"]   \n2       [\"C\",\"D\"]    18.0  [\"18-mer peptide G(HCS)DCAYHRGELVWCT(HCS)H(NH2)\"]   \n3       [\"C\",\"D\"]    18.0  [\"18-mer peptide G(HCS)DCAYHRGELVWCT(HCS)H(NH2)\"]   \n4       [\"E\",\"F\"]     NaN  [\"2-acetamido-2-deoxy-beta-D-glucopyranose-(1-...   \n5       [\"E\",\"F\"]     NaN  [\"2-acetamido-2-deoxy-beta-D-glucopyranose-(1-...   \n6           [\"G\"]     NaN                                   [\"CHLORIDE ION\"]   \n\n          molecule_type  mutation_flag  number_of_copies  \\\n0        polypeptide(L)            NaN                 2   \n1        polypeptide(L)            NaN                 2   \n2        polypeptide(L)            NaN                 2   \n3        polypeptide(L)            NaN                 2   \n4  carbohydrate polymer            NaN                16   \n5  carbohydrate polymer            NaN                16   \n6                 bound            NaN                 1   \n\n                                        pdb_sequence  \\\n0  GGPSVFLFPPKPKDTLMISRTPEVTCVVVDVSHEDPEVKFNWYVDG...   \n1  GGPSVFLFPPKPKDTLMISRTPEVTCVVVDVSHEDPEVKFNWYVDG...   \n2                     G(HCS)DCAYHRGELVWCT(HCS)H(NH2)   \n3                     G(HCS)DCAYHRGELVWCT(HCS)H(NH2)   \n4                                                NaN   \n5                                                NaN   \n6                                                NaN   \n\n         pdb_sequence_indices_with_multiple_residues       sample_preparation  \\\n0                                                 {}  Genetically manipulated   \n1                                                 {}  Genetically manipulated   \n2  {\"16\":{\"three_letter_code\":\"HCS\",\"parent_chem_...   Synthetically obtained   \n3  {\"16\":{\"three_letter_code\":\"HCS\",\"parent_chem_...   Synthetically obtained   \n4                                                NaN  Genetically manipulated   \n5                                                NaN  Genetically manipulated   \n6                                                NaN  Genetically manipulated   \n\n                                            sequence  \\\n0  GGPSVFLFPPKPKDTLMISRTPEVTCVVVDVSHEDPEVKFNWYVDG...   \n1  GGPSVFLFPPKPKDTLMISRTPEVTCVVVDVSHEDPEVKFNWYVDG...   \n2                                 GXDCAYHRGELVWCTXHX   \n3                                 GXDCAYHRGELVWCTXHX   \n4                                                NaN   \n5                                                NaN   \n6                                                NaN   \n\n                                              source  \\\n0  [{\"expression_host_scientific_name\":\"Cricetulu...   \n1  [{\"expression_host_scientific_name\":\"Cricetulu...   \n2  [{\"expression_host_scientific_name\":null,\"tax_...   \n3  [{\"expression_host_scientific_name\":null,\"tax_...   \n4                                                NaN   \n5                                                NaN   \n6                                                NaN   \n\n                                         synonym     weight  \n0             Immunoglobulin gamma-1 heavy chain  23788.842  \n1             Immunoglobulin gamma-1 heavy chain  23788.842  \n2  18-mer peptide G(HCS)DCAYHRGELVWCT(HCS)H(NH2)   1982.295  \n3  18-mer peptide G(HCS)DCAYHRGELVWCT(HCS)H(NH2)   1982.295  \n4                                            NaN   1463.349  \n5                                            NaN   1463.349  \n6                                            NaN     35.453  ",
      "text/html": "<div>\n<style scoped>\n    .dataframe tbody tr th:only-of-type {\n        vertical-align: middle;\n    }\n\n    .dataframe tbody tr th {\n        vertical-align: top;\n    }\n\n    .dataframe thead th {\n        text-align: right;\n    }\n</style>\n<table border=\"1\" class=\"dataframe\">\n  <thead>\n    <tr style=\"text-align: right;\">\n      <th></th>\n      <th>pdb_id</th>\n      <th>entity_id</th>\n      <th>chain_id</th>\n      <th>struct_asym_id</th>\n      <th>ca_p_only</th>\n      <th>gene_name</th>\n      <th>in_chains</th>\n      <th>in_struct_asyms</th>\n      <th>length</th>\n      <th>molecule_name</th>\n      <th>molecule_type</th>\n      <th>mutation_flag</th>\n      <th>number_of_copies</th>\n      <th>pdb_sequence</th>\n      <th>pdb_sequence_indices_with_multiple_residues</th>\n      <th>sample_preparation</th>\n      <th>sequence</th>\n      <th>source</th>\n      <th>synonym</th>\n      <th>weight</th>\n    </tr>\n  </thead>\n  <tbody>\n    <tr>\n      <th>0</th>\n      <td>6iqg</td>\n      <td>1</td>\n      <td>A</td>\n      <td>A</td>\n      <td>False</td>\n      <td>NaN</td>\n      <td>[\"A\",\"B\"]</td>\n      <td>[\"A\",\"B\"]</td>\n      <td>210.0</td>\n      <td>[\"Immunoglobulin gamma-1 heavy chain\"]</td>\n      <td>polypeptide(L)</td>\n      <td>NaN</td>\n      <td>2</td>\n      <td>GGPSVFLFPPKPKDTLMISRTPEVTCVVVDVSHEDPEVKFNWYVDG...</td>\n      <td>{}</td>\n      <td>Genetically manipulated</td>\n      <td>GGPSVFLFPPKPKDTLMISRTPEVTCVVVDVSHEDPEVKFNWYVDG...</td>\n      <td>[{\"expression_host_scientific_name\":\"Cricetulu...</td>\n      <td>Immunoglobulin gamma-1 heavy chain</td>\n      <td>23788.842</td>\n    </tr>\n    <tr>\n      <th>1</th>\n      <td>6iqg</td>\n      <td>1</td>\n      <td>B</td>\n      <td>B</td>\n      <td>False</td>\n      <td>NaN</td>\n      <td>[\"A\",\"B\"]</td>\n      <td>[\"A\",\"B\"]</td>\n      <td>210.0</td>\n      <td>[\"Immunoglobulin gamma-1 heavy chain\"]</td>\n      <td>polypeptide(L)</td>\n      <td>NaN</td>\n      <td>2</td>\n      <td>GGPSVFLFPPKPKDTLMISRTPEVTCVVVDVSHEDPEVKFNWYVDG...</td>\n      <td>{}</td>\n      <td>Genetically manipulated</td>\n      <td>GGPSVFLFPPKPKDTLMISRTPEVTCVVVDVSHEDPEVKFNWYVDG...</td>\n      <td>[{\"expression_host_scientific_name\":\"Cricetulu...</td>\n      <td>Immunoglobulin gamma-1 heavy chain</td>\n      <td>23788.842</td>\n    </tr>\n    <tr>\n      <th>2</th>\n      <td>6iqg</td>\n      <td>2</td>\n      <td>C</td>\n      <td>C</td>\n      <td>False</td>\n      <td>NaN</td>\n      <td>[\"C\",\"D\"]</td>\n      <td>[\"C\",\"D\"]</td>\n      <td>18.0</td>\n      <td>[\"18-mer peptide G(HCS)DCAYHRGELVWCT(HCS)H(NH2)\"]</td>\n      <td>polypeptide(L)</td>\n      <td>NaN</td>\n      <td>2</td>\n      <td>G(HCS)DCAYHRGELVWCT(HCS)H(NH2)</td>\n      <td>{\"16\":{\"three_letter_code\":\"HCS\",\"parent_chem_...</td>\n      <td>Synthetically obtained</td>\n      <td>GXDCAYHRGELVWCTXHX</td>\n      <td>[{\"expression_host_scientific_name\":null,\"tax_...</td>\n      <td>18-mer peptide G(HCS)DCAYHRGELVWCT(HCS)H(NH2)</td>\n      <td>1982.295</td>\n    </tr>\n    <tr>\n      <th>3</th>\n      <td>6iqg</td>\n      <td>2</td>\n      <td>D</td>\n      <td>D</td>\n      <td>False</td>\n      <td>NaN</td>\n      <td>[\"C\",\"D\"]</td>\n      <td>[\"C\",\"D\"]</td>\n      <td>18.0</td>\n      <td>[\"18-mer peptide G(HCS)DCAYHRGELVWCT(HCS)H(NH2)\"]</td>\n      <td>polypeptide(L)</td>\n      <td>NaN</td>\n      <td>2</td>\n      <td>G(HCS)DCAYHRGELVWCT(HCS)H(NH2)</td>\n      <td>{\"16\":{\"three_letter_code\":\"HCS\",\"parent_chem_...</td>\n      <td>Synthetically obtained</td>\n      <td>GXDCAYHRGELVWCTXHX</td>\n      <td>[{\"expression_host_scientific_name\":null,\"tax_...</td>\n      <td>18-mer peptide G(HCS)DCAYHRGELVWCT(HCS)H(NH2)</td>\n      <td>1982.295</td>\n    </tr>\n    <tr>\n      <th>4</th>\n      <td>6iqg</td>\n      <td>3</td>\n      <td>E</td>\n      <td>E</td>\n      <td>False</td>\n      <td>NaN</td>\n      <td>[\"E\",\"F\"]</td>\n      <td>[\"E\",\"F\"]</td>\n      <td>NaN</td>\n      <td>[\"2-acetamido-2-deoxy-beta-D-glucopyranose-(1-...</td>\n      <td>carbohydrate polymer</td>\n      <td>NaN</td>\n      <td>16</td>\n      <td>NaN</td>\n      <td>NaN</td>\n      <td>Genetically manipulated</td>\n      <td>NaN</td>\n      <td>NaN</td>\n      <td>NaN</td>\n      <td>1463.349</td>\n    </tr>\n    <tr>\n      <th>5</th>\n      <td>6iqg</td>\n      <td>3</td>\n      <td>F</td>\n      <td>F</td>\n      <td>False</td>\n      <td>NaN</td>\n      <td>[\"E\",\"F\"]</td>\n      <td>[\"E\",\"F\"]</td>\n      <td>NaN</td>\n      <td>[\"2-acetamido-2-deoxy-beta-D-glucopyranose-(1-...</td>\n      <td>carbohydrate polymer</td>\n      <td>NaN</td>\n      <td>16</td>\n      <td>NaN</td>\n      <td>NaN</td>\n      <td>Genetically manipulated</td>\n      <td>NaN</td>\n      <td>NaN</td>\n      <td>NaN</td>\n      <td>1463.349</td>\n    </tr>\n    <tr>\n      <th>6</th>\n      <td>6iqg</td>\n      <td>4</td>\n      <td>A</td>\n      <td>G</td>\n      <td>False</td>\n      <td>NaN</td>\n      <td>[\"A\"]</td>\n      <td>[\"G\"]</td>\n      <td>NaN</td>\n      <td>[\"CHLORIDE ION\"]</td>\n      <td>bound</td>\n      <td>NaN</td>\n      <td>1</td>\n      <td>NaN</td>\n      <td>NaN</td>\n      <td>Genetically manipulated</td>\n      <td>NaN</td>\n      <td>NaN</td>\n      <td>NaN</td>\n      <td>35.453</td>\n    </tr>\n  </tbody>\n</table>\n</div>"
     },
     "metadata": {},
     "execution_count": 6
    }
   ],
   "source": [
    "PDB('6iqg').res2eec().result()"
   ]
  },
  {
   "cell_type": "code",
   "execution_count": 7,
   "metadata": {
    "tags": []
   },
   "outputs": [
    {
     "output_type": "stream",
     "name": "stdout",
     "text": "Wall time: 0 ns\n"
    },
    {
     "output_type": "execute_result",
     "data": {
      "text/plain": "    author_insertion_code  author_residue_number multiple_conformers  \\\n0                                              1                 NaN   \n1                                              2                 NaN   \n2                                              3                 NaN   \n3                                              4                 NaN   \n4                                              5                 NaN   \n..                    ...                    ...                 ...   \n475                                          101                 NaN   \n476                                          302                 NaN   \n477                                          303                 NaN   \n478                                          103                 NaN   \n479                                          102                 NaN   \n\n     observed_ratio residue_name  residue_number chain_id struct_asym_id  \\\n0               1.0          MET               1        A              A   \n1               1.0          ASP               2        A              A   \n2               1.0          TYR               3        A              A   \n3               1.0          ARG               4        A              A   \n4               1.0          GLN               5        A              A   \n..              ...          ...             ...      ...            ...   \n475             1.0          GOL               1        D              L   \n476             1.0          GOL               1        B              G   \n477             1.0          EDO               1        B              H   \n478             1.0          EDO               1        C              K   \n479             1.0          EDO               1        C              J   \n\n    entity_id pdb_id  \n0           1   6ozg  \n1           1   6ozg  \n2           1   6ozg  \n3           1   6ozg  \n4           1   6ozg  \n..        ...    ...  \n475         4   6ozg  \n476         4   6ozg  \n477         5   6ozg  \n478         5   6ozg  \n479         5   6ozg  \n\n[480 rows x 10 columns]",
      "text/html": "<div>\n<style scoped>\n    .dataframe tbody tr th:only-of-type {\n        vertical-align: middle;\n    }\n\n    .dataframe tbody tr th {\n        vertical-align: top;\n    }\n\n    .dataframe thead th {\n        text-align: right;\n    }\n</style>\n<table border=\"1\" class=\"dataframe\">\n  <thead>\n    <tr style=\"text-align: right;\">\n      <th></th>\n      <th>author_insertion_code</th>\n      <th>author_residue_number</th>\n      <th>multiple_conformers</th>\n      <th>observed_ratio</th>\n      <th>residue_name</th>\n      <th>residue_number</th>\n      <th>chain_id</th>\n      <th>struct_asym_id</th>\n      <th>entity_id</th>\n      <th>pdb_id</th>\n    </tr>\n  </thead>\n  <tbody>\n    <tr>\n      <th>0</th>\n      <td></td>\n      <td>1</td>\n      <td>NaN</td>\n      <td>1.0</td>\n      <td>MET</td>\n      <td>1</td>\n      <td>A</td>\n      <td>A</td>\n      <td>1</td>\n      <td>6ozg</td>\n    </tr>\n    <tr>\n      <th>1</th>\n      <td></td>\n      <td>2</td>\n      <td>NaN</td>\n      <td>1.0</td>\n      <td>ASP</td>\n      <td>2</td>\n      <td>A</td>\n      <td>A</td>\n      <td>1</td>\n      <td>6ozg</td>\n    </tr>\n    <tr>\n      <th>2</th>\n      <td></td>\n      <td>3</td>\n      <td>NaN</td>\n      <td>1.0</td>\n      <td>TYR</td>\n      <td>3</td>\n      <td>A</td>\n      <td>A</td>\n      <td>1</td>\n      <td>6ozg</td>\n    </tr>\n    <tr>\n      <th>3</th>\n      <td></td>\n      <td>4</td>\n      <td>NaN</td>\n      <td>1.0</td>\n      <td>ARG</td>\n      <td>4</td>\n      <td>A</td>\n      <td>A</td>\n      <td>1</td>\n      <td>6ozg</td>\n    </tr>\n    <tr>\n      <th>4</th>\n      <td></td>\n      <td>5</td>\n      <td>NaN</td>\n      <td>1.0</td>\n      <td>GLN</td>\n      <td>5</td>\n      <td>A</td>\n      <td>A</td>\n      <td>1</td>\n      <td>6ozg</td>\n    </tr>\n    <tr>\n      <th>...</th>\n      <td>...</td>\n      <td>...</td>\n      <td>...</td>\n      <td>...</td>\n      <td>...</td>\n      <td>...</td>\n      <td>...</td>\n      <td>...</td>\n      <td>...</td>\n      <td>...</td>\n    </tr>\n    <tr>\n      <th>475</th>\n      <td></td>\n      <td>101</td>\n      <td>NaN</td>\n      <td>1.0</td>\n      <td>GOL</td>\n      <td>1</td>\n      <td>D</td>\n      <td>L</td>\n      <td>4</td>\n      <td>6ozg</td>\n    </tr>\n    <tr>\n      <th>476</th>\n      <td></td>\n      <td>302</td>\n      <td>NaN</td>\n      <td>1.0</td>\n      <td>GOL</td>\n      <td>1</td>\n      <td>B</td>\n      <td>G</td>\n      <td>4</td>\n      <td>6ozg</td>\n    </tr>\n    <tr>\n      <th>477</th>\n      <td></td>\n      <td>303</td>\n      <td>NaN</td>\n      <td>1.0</td>\n      <td>EDO</td>\n      <td>1</td>\n      <td>B</td>\n      <td>H</td>\n      <td>5</td>\n      <td>6ozg</td>\n    </tr>\n    <tr>\n      <th>478</th>\n      <td></td>\n      <td>103</td>\n      <td>NaN</td>\n      <td>1.0</td>\n      <td>EDO</td>\n      <td>1</td>\n      <td>C</td>\n      <td>K</td>\n      <td>5</td>\n      <td>6ozg</td>\n    </tr>\n    <tr>\n      <th>479</th>\n      <td></td>\n      <td>102</td>\n      <td>NaN</td>\n      <td>1.0</td>\n      <td>EDO</td>\n      <td>1</td>\n      <td>C</td>\n      <td>J</td>\n      <td>5</td>\n      <td>6ozg</td>\n    </tr>\n  </tbody>\n</table>\n<p>480 rows × 10 columns</p>\n</div>"
     },
     "metadata": {},
     "execution_count": 7
    }
   ],
   "source": [
    "%time pdb_6ozg.fetch_from_web_api('api/pdb/entry/residue_listing/', PDB.to_dataframe).result()"
   ]
  },
  {
   "cell_type": "code",
   "execution_count": 8,
   "metadata": {
    "tags": []
   },
   "outputs": [
    {
     "output_type": "stream",
     "name": "stdout",
     "text": "Wall time: 1.52 s\n"
    },
    {
     "output_type": "execute_result",
     "data": {
      "text/plain": "{'bound': ('E', 'G', 'F', 'H'),\n 'carbohydrate polymer': ('C', 'D'),\n 'polypeptide(L)': ('A', 'B')}"
     },
     "metadata": {},
     "execution_count": 8
    }
   ],
   "source": [
    "%time pdb_2aw3.fetch_from_web_api('api/pdb/entry/assembly/', PDB.assembly2eec).result().groupby('molecule_type').struct_asym_id_in_assembly.apply(tuple).to_dict()"
   ]
  },
  {
   "cell_type": "code",
   "execution_count": 9,
   "metadata": {
    "tags": []
   },
   "outputs": [
    {
     "output_type": "execute_result",
     "data": {
      "text/plain": "{0: <PDBAssemble 1lo8/0>, 1: <PDBAssemble 1lo8/1>}"
     },
     "metadata": {},
     "execution_count": 9
    }
   ],
   "source": [
    "pdb_1lo8.set_assembly().result()\n",
    "pdb_1lo8.assembly"
   ]
  },
  {
   "cell_type": "code",
   "execution_count": 10,
   "metadata": {},
   "outputs": [
    {
     "output_type": "execute_result",
     "data": {
      "text/plain": "<PDBInterface 1lo8/1/2>"
     },
     "metadata": {},
     "execution_count": 10
    }
   ],
   "source": [
    "pdb_1lo8.get_assembly(1).set_interface().result()\n",
    "pdb_1lo8.get_assembly(1).get_interface(2)"
   ]
  },
  {
   "cell_type": "code",
   "execution_count": 11,
   "metadata": {
    "tags": []
   },
   "outputs": [],
   "source": [
    "def pipe_protein_ligand_interface(pdb_ass: PDBAssemble):\n",
    "    ass_eec_df = pdb_ass.pdb_ob.fetch_from_web_api('api/pdb/entry/assembly/', PDB.assembly2eec).result()\n",
    "    molType_dict = ass_eec_df[ass_eec_df.assembly_id.eq(pdb_ass.assembly_id)].groupby('molecule_type').struct_asym_id_in_assembly.apply(set).to_dict()\n",
    "\n",
    "    protein_type_asym = molType_dict.get('polypeptide(L)', set())\n",
    "    ligand_type_asym = molType_dict.get('bound', set())\n",
    "    target_type_asym = protein_type_asym | ligand_type_asym\n",
    "\n",
    "    pdb_ass.interface_filters['struct_asym_id_in_assembly_1'] = ('isin', target_type_asym)\n",
    "    pdb_ass.interface_filters['struct_asym_id_in_assembly_2'] = ('isin', target_type_asym)\n",
    "\n",
    "    pdb_ass.set_interface(obligated_class_chains=protein_type_asym).result()\n",
    "\n",
    "    pprint(pdb_ass.interface)"
   ]
  },
  {
   "cell_type": "code",
   "execution_count": 12,
   "metadata": {
    "tags": []
   },
   "outputs": [
    {
     "output_type": "stream",
     "name": "stdout",
     "text": "{1: <PDBInterface 1lo8/1/1>,\n 2: <PDBInterface 1lo8/1/2>,\n 5: <PDBInterface 1lo8/1/5>,\n 6: <PDBInterface 1lo8/1/6>,\n 7: <PDBInterface 1lo8/1/7>,\n 8: <PDBInterface 1lo8/1/8>,\n 9: <PDBInterface 1lo8/1/9>,\n 10: <PDBInterface 1lo8/1/10>,\n 15: <PDBInterface 1lo8/1/15>,\n 16: <PDBInterface 1lo8/1/16>,\n 17: <PDBInterface 1lo8/1/17>,\n 18: <PDBInterface 1lo8/1/18>}\n"
    }
   ],
   "source": [
    "pipe_protein_ligand_interface(pdb_1lo8.get_assembly(1))"
   ]
  },
  {
   "cell_type": "code",
   "execution_count": 16,
   "metadata": {
    "tags": []
   },
   "outputs": [
    {
     "output_type": "execute_result",
     "data": {
      "text/plain": "                                                                              0  \\\nspacegroup                                                                  P 1   \nstructure_name                                                         PDB 2q88   \ntitle                         Crystal structure of EhuB in complex with ectoine   \nstruct_asym_id_in_assembly_1                                                  F   \nstruct_asym_id_in_assembly_2                                                  A   \n\n                                                                              1  \nspacegroup                                                                  P 1  \nstructure_name                                                         PDB 2q88  \ntitle                         Crystal structure of EhuB in complex with ectoine  \nstruct_asym_id_in_assembly_1                                                  E  \nstruct_asym_id_in_assembly_2                                                  A  ",
      "text/html": "<div>\n<style scoped>\n    .dataframe tbody tr th:only-of-type {\n        vertical-align: middle;\n    }\n\n    .dataframe tbody tr th {\n        vertical-align: top;\n    }\n\n    .dataframe thead th {\n        text-align: right;\n    }\n</style>\n<table border=\"1\" class=\"dataframe\">\n  <thead>\n    <tr style=\"text-align: right;\">\n      <th></th>\n      <th>0</th>\n      <th>1</th>\n    </tr>\n  </thead>\n  <tbody>\n    <tr>\n      <th>spacegroup</th>\n      <td>P 1</td>\n      <td>P 1</td>\n    </tr>\n    <tr>\n      <th>structure_name</th>\n      <td>PDB 2q88</td>\n      <td>PDB 2q88</td>\n    </tr>\n    <tr>\n      <th>title</th>\n      <td>Crystal structure of EhuB in complex with ectoine</td>\n      <td>Crystal structure of EhuB in complex with ectoine</td>\n    </tr>\n    <tr>\n      <th>struct_asym_id_in_assembly_1</th>\n      <td>F</td>\n      <td>E</td>\n    </tr>\n    <tr>\n      <th>struct_asym_id_in_assembly_2</th>\n      <td>A</td>\n      <td>A</td>\n    </tr>\n  </tbody>\n</table>\n</div>"
     },
     "metadata": {},
     "execution_count": 16
    }
   ],
   "source": [
    "# pdb_6ozg\n",
    "pdb_2q88.set_assembly().result()\n",
    "pdb_2q88.get_assembly(1).fetch_from_web_api('api/pisa/interfacelist/', PDBAssemble.to_interfacelist_df).result().head(2).T.tail(5)\n",
    "# %time PDB('1oo9').fetch_from_web_api('api/mappings/all_isoforms/', PDB.to_dataframe).result()"
   ]
  },
  {
   "cell_type": "code",
   "execution_count": 17,
   "metadata": {},
   "outputs": [
    {
     "output_type": "execute_result",
     "data": {
      "text/plain": "  struct_asym_id_in_assembly_1 structure_1.range struct_asym_id_in_assembly_2  \\\n0                            F                 F                            A   \n1                            E         [CD]E:604                            A   \n2                            D         [CD]D:603                            A   \n3                            B         [CD]B:601                            A   \n4                            C         [CD]C:602                            A   \n\n  structure_2.range  \n0                 A  \n1                 A  \n2                 A  \n3                 A  \n4                 A  ",
      "text/html": "<div>\n<style scoped>\n    .dataframe tbody tr th:only-of-type {\n        vertical-align: middle;\n    }\n\n    .dataframe tbody tr th {\n        vertical-align: top;\n    }\n\n    .dataframe thead th {\n        text-align: right;\n    }\n</style>\n<table border=\"1\" class=\"dataframe\">\n  <thead>\n    <tr style=\"text-align: right;\">\n      <th></th>\n      <th>struct_asym_id_in_assembly_1</th>\n      <th>structure_1.range</th>\n      <th>struct_asym_id_in_assembly_2</th>\n      <th>structure_2.range</th>\n    </tr>\n  </thead>\n  <tbody>\n    <tr>\n      <th>0</th>\n      <td>F</td>\n      <td>F</td>\n      <td>A</td>\n      <td>A</td>\n    </tr>\n    <tr>\n      <th>1</th>\n      <td>E</td>\n      <td>[CD]E:604</td>\n      <td>A</td>\n      <td>A</td>\n    </tr>\n    <tr>\n      <th>2</th>\n      <td>D</td>\n      <td>[CD]D:603</td>\n      <td>A</td>\n      <td>A</td>\n    </tr>\n    <tr>\n      <th>3</th>\n      <td>B</td>\n      <td>[CD]B:601</td>\n      <td>A</td>\n      <td>A</td>\n    </tr>\n    <tr>\n      <th>4</th>\n      <td>C</td>\n      <td>[CD]C:602</td>\n      <td>A</td>\n      <td>A</td>\n    </tr>\n  </tbody>\n</table>\n</div>"
     },
     "metadata": {},
     "execution_count": 17
    }
   ],
   "source": [
    "pdb_2q88.get_assembly(1).fetch_from_web_api('api/pisa/interfacelist/', PDBAssemble.to_interfacelist_df).result()[['struct_asym_id_in_assembly_1', 'structure_1.range', 'struct_asym_id_in_assembly_2', 'structure_2.range']]"
   ]
  },
  {
   "cell_type": "code",
   "execution_count": null,
   "metadata": {},
   "outputs": [],
   "source": []
  }
 ]
}